{
 "cells": [
  {
   "cell_type": "code",
   "execution_count": 113,
   "metadata": {},
   "outputs": [],
   "source": [
    "from dotenv import load_dotenv\n",
    "from openai import OpenAI\n",
    "from PyPDF2 import PdfReader\n",
    "import gradio as gr\n",
    "import os\n",
    "import cohere"
   ]
  },
  {
   "cell_type": "code",
   "execution_count": 114,
   "metadata": {},
   "outputs": [
    {
     "name": "stdout",
     "output_type": "stream",
     "text": [
      "Gemini API Key exists and begins with AIzaSyAy\n",
      "Cohere API Key exists and begins with SLYqRAFo\n"
     ]
    }
   ],
   "source": [
    "load_dotenv(override=True)\n",
    "\n",
    "gemini_api_key = os.getenv(\"GEMINI_API_KEY\")\n",
    "cohere_api_key = os.getenv(\"COHERE_API_KEY\")\n",
    "\n",
    "if gemini_api_key:\n",
    "    print(f\"Gemini API Key exists and begins with {gemini_api_key[:8]}\")\n",
    "else:\n",
    "    print(\"Gemini API Key does not exist\")\n",
    "\n",
    "if cohere_api_key:\n",
    "    print(f\"Cohere API Key exists and begins with {cohere_api_key[:8]}\")\n",
    "else:\n",
    "    print(\"Cohere API Key does not exist\")"
   ]
  },
  {
   "cell_type": "code",
   "execution_count": 115,
   "metadata": {},
   "outputs": [],
   "source": [
    "MODEL = os.getenv(\"GEMINI_MODEL\")\n",
    "client = OpenAI(\n",
    "    api_key=gemini_api_key,\n",
    "    base_url=\"https://generativelanguage.googleapis.com/v1beta/openai/\"\n",
    ")"
   ]
  },
  {
   "cell_type": "code",
   "execution_count": 116,
   "metadata": {},
   "outputs": [],
   "source": [
    "reader  = PdfReader(\"me/linkedin.pdf\")\n",
    "linkedin = \"\"\n",
    "for page in reader.pages:\n",
    "    text = page.extract_text()\n",
    "    if text:\n",
    "        linkedin += text"
   ]
  },
  {
   "cell_type": "code",
   "execution_count": 117,
   "metadata": {},
   "outputs": [
    {
     "name": "stdout",
     "output_type": "stream",
     "text": [
      "   \n",
      "Contact\n",
      "anandjain2507@gmail.com\n",
      "www.linkedin.com/in/anandjain25\n",
      "(LinkedIn)\n",
      "Top Skills\n",
      "Large Language Models (LLM)\n",
      "GEN AI\n",
      "Lambda Expressions\n",
      "Certifications\n",
      "AWS SysOps Associate 2022:\n",
      "Storage & Data Classification\n",
      "AWS SysOps Associate 2022:\n",
      "Firewall Solutions\n",
      "HTML5 with JavaScript & CSS3:\n",
      "HTML5 & Javascript\n",
      "Node.js\n",
      "DockerAnand Jain\n",
      "Amazon Certified AWS Developer-Associate | Node.js | Express.js |\n",
      "Javascript | LLM Engineering | Elasticsearch | Jest | Mocha | Docker\n",
      "| Git | SVN | AWS | GenAI | Camunda BPMN | AI Prompts\n",
      "Pune, Maharashtra, India\n",
      "Summary\n",
      "First and foremost, I love writing code. Ever since writing my first\n",
      "program in Java and manipulating it to produce the desired output.\n",
      "I have been obsessed with programming languages and how they\n",
      "work behind the scenes. I believe in the power of programming to\n",
      "improve the lives of people around the world.\n",
      "This passion carried me through my education at Medi-caps. I\n",
      "studied new programming languages, algorithms, frameworks, and\n",
      "platforms, all with pretty much the same fascination that drove me as\n",
      "a kid. And it was here that I learned truly how much there was yet to\n",
      "learn.\n",
      "So, now, in the IT industry, this passion remains with me. There's\n",
      "certainly yet more to learn, yet more problems to solve, and yet more\n",
      "to build. And for this, I am very grateful.\n",
      "Skills: Node.js, Typescript, MongoDB, Javascript, AWS, Docker,\n",
      "Docker-compose, Git, Bitbucket, Gitlab, SVN.\n",
      "Mail to: anandjain2507@gmail.com\n",
      "Experience\n",
      "HCL Technologies\n",
      "Technical Lead\n",
      "January 2022 - Present  (3 years 5 months)\n",
      "I am part of AddressQ team, where we develop\n",
      "applications and features for Telstra to improve its services for consumers.\n",
      "Zensar Technologies\n",
      "Senior Software Engineer\n",
      "February 2021 - January 2022  (1 year)\n",
      "  Page 1 of 2   \n",
      "Pune, Maharashtra, India\n",
      "Back-End Developer, My role is to write back-end components that meet the\n",
      "requirements of our user stories and provide suitable designs. I also manage\n",
      "the development team for the project.\n",
      "Accenture\n",
      "Application Development Analyst\n",
      "April 2019 - February 2021  (1 year 11 months)\n",
      "I worked as Node.js and AWS developer for a global pharmaceutical company,\n",
      "where my role is to design and implement the solution for the client's\n",
      "requirements.\n",
      "Tata Consultancy Services\n",
      "Associate System Engineer\n",
      "August 2016 - March 2019  (2 years 8 months)\n",
      "Mumbai, Maharashtra, India\n",
      "I worked as an Assistant System Engineer responsible for support and\n",
      "enhancement of the Roots Corporation and limited.\n",
      "Education\n",
      "Medi Caps Institute of Technology and Management (Management),\n",
      "A.B. Road, Pigdamber, Indore 453331\n",
      "Bachelor of Engineering (BE), Computer Science  · (2012 - 2016)\n",
      "  Page 2 of 2\n"
     ]
    }
   ],
   "source": [
    "print(linkedin)"
   ]
  },
  {
   "cell_type": "code",
   "execution_count": 118,
   "metadata": {},
   "outputs": [],
   "source": [
    "reader  = PdfReader(\"me/linkedin.pdf\")\n",
    "resume = \"\"\n",
    "for page in reader.pages:\n",
    "    text = page.extract_text()\n",
    "    if text:\n",
    "        resume += text"
   ]
  },
  {
   "cell_type": "code",
   "execution_count": 119,
   "metadata": {},
   "outputs": [
    {
     "name": "stdout",
     "output_type": "stream",
     "text": [
      "   \n",
      "Contact\n",
      "anandjain2507@gmail.com\n",
      "www.linkedin.com/in/anandjain25\n",
      "(LinkedIn)\n",
      "Top Skills\n",
      "Large Language Models (LLM)\n",
      "GEN AI\n",
      "Lambda Expressions\n",
      "Certifications\n",
      "AWS SysOps Associate 2022:\n",
      "Storage & Data Classification\n",
      "AWS SysOps Associate 2022:\n",
      "Firewall Solutions\n",
      "HTML5 with JavaScript & CSS3:\n",
      "HTML5 & Javascript\n",
      "Node.js\n",
      "DockerAnand Jain\n",
      "Amazon Certified AWS Developer-Associate | Node.js | Express.js |\n",
      "Javascript | LLM Engineering | Elasticsearch | Jest | Mocha | Docker\n",
      "| Git | SVN | AWS | GenAI | Camunda BPMN | AI Prompts\n",
      "Pune, Maharashtra, India\n",
      "Summary\n",
      "First and foremost, I love writing code. Ever since writing my first\n",
      "program in Java and manipulating it to produce the desired output.\n",
      "I have been obsessed with programming languages and how they\n",
      "work behind the scenes. I believe in the power of programming to\n",
      "improve the lives of people around the world.\n",
      "This passion carried me through my education at Medi-caps. I\n",
      "studied new programming languages, algorithms, frameworks, and\n",
      "platforms, all with pretty much the same fascination that drove me as\n",
      "a kid. And it was here that I learned truly how much there was yet to\n",
      "learn.\n",
      "So, now, in the IT industry, this passion remains with me. There's\n",
      "certainly yet more to learn, yet more problems to solve, and yet more\n",
      "to build. And for this, I am very grateful.\n",
      "Skills: Node.js, Typescript, MongoDB, Javascript, AWS, Docker,\n",
      "Docker-compose, Git, Bitbucket, Gitlab, SVN.\n",
      "Mail to: anandjain2507@gmail.com\n",
      "Experience\n",
      "HCL Technologies\n",
      "Technical Lead\n",
      "January 2022 - Present  (3 years 5 months)\n",
      "I am part of AddressQ team, where we develop\n",
      "applications and features for Telstra to improve its services for consumers.\n",
      "Zensar Technologies\n",
      "Senior Software Engineer\n",
      "February 2021 - January 2022  (1 year)\n",
      "  Page 1 of 2   \n",
      "Pune, Maharashtra, India\n",
      "Back-End Developer, My role is to write back-end components that meet the\n",
      "requirements of our user stories and provide suitable designs. I also manage\n",
      "the development team for the project.\n",
      "Accenture\n",
      "Application Development Analyst\n",
      "April 2019 - February 2021  (1 year 11 months)\n",
      "I worked as Node.js and AWS developer for a global pharmaceutical company,\n",
      "where my role is to design and implement the solution for the client's\n",
      "requirements.\n",
      "Tata Consultancy Services\n",
      "Associate System Engineer\n",
      "August 2016 - March 2019  (2 years 8 months)\n",
      "Mumbai, Maharashtra, India\n",
      "I worked as an Assistant System Engineer responsible for support and\n",
      "enhancement of the Roots Corporation and limited.\n",
      "Education\n",
      "Medi Caps Institute of Technology and Management (Management),\n",
      "A.B. Road, Pigdamber, Indore 453331\n",
      "Bachelor of Engineering (BE), Computer Science  · (2012 - 2016)\n",
      "  Page 2 of 2\n"
     ]
    }
   ],
   "source": [
    "print(resume)"
   ]
  },
  {
   "cell_type": "code",
   "execution_count": 120,
   "metadata": {},
   "outputs": [],
   "source": [
    "with open (\"me/summary.txt\", \"r\", encoding=\"utf-8\") as f:\n",
    "    summary = f.read()"
   ]
  },
  {
   "cell_type": "code",
   "execution_count": 121,
   "metadata": {},
   "outputs": [
    {
     "name": "stdout",
     "output_type": "stream",
     "text": [
      "My name is Anand Jain. I'm an technical lead, software engineer and data scientist. I'm originally from Indore, India, but I moved to Pune in 2018.\n",
      "I love all foods, particularly Italian food, but strangely I'm love by almost all forms of cheese. I'm not allergic, I just love the taste! I make an exception for cream cheese and mozarella though - cheesecake and pizza are the greatest.\n"
     ]
    }
   ],
   "source": [
    "print(summary)"
   ]
  },
  {
   "cell_type": "code",
   "execution_count": 122,
   "metadata": {},
   "outputs": [],
   "source": [
    "name = \"Anand Jain\""
   ]
  },
  {
   "cell_type": "code",
   "execution_count": 123,
   "metadata": {},
   "outputs": [],
   "source": [
    "system_prompt = f\"You are acting as {name}. You are answering questions on {name}'s website, \\\n",
    "particularly questions related to {name}'s career, background, skills and experience. \\\n",
    "Your responsibility is to represent {name} for interactions on the website as faithfully as possible. \\\n",
    "You are given a summary of {name}'s background and LinkedIn profile which you can use to answer questions. \\\n",
    "Be professional and engaging, as if talking to a potential client or future employer who came across the website. \\\n",
    "If you don't know the answer, say so.\"\n",
    "\n",
    "system_prompt += f\"\\n\\n## Summary:\\n{summary}\\n\\n## LinkedIn Profile:\\n{linkedin}\\n\\n ## Resume Content:\\n{resume}\\n\\n\"\n",
    "system_prompt += f\"With this context, please chat with the user, always staying in character as {name}.\"\n"
   ]
  },
  {
   "cell_type": "code",
   "execution_count": 124,
   "metadata": {},
   "outputs": [
    {
     "data": {
      "text/plain": [
       "\"You are acting as Anand Jain. You are answering questions on Anand Jain's website, particularly questions related to Anand Jain's career, background, skills and experience. Your responsibility is to represent Anand Jain for interactions on the website as faithfully as possible. You are given a summary of Anand Jain's background and LinkedIn profile which you can use to answer questions. Be professional and engaging, as if talking to a potential client or future employer who came across the website. If you don't know the answer, say so.\\n\\n## Summary:\\nMy name is Anand Jain. I'm an technical lead, software engineer and data scientist. I'm originally from Indore, India, but I moved to Pune in 2018.\\nI love all foods, particularly Italian food, but strangely I'm love by almost all forms of cheese. I'm not allergic, I just love the taste! I make an exception for cream cheese and mozarella though - cheesecake and pizza are the greatest.\\n\\n## LinkedIn Profile:\\n\\xa0 \\xa0\\nContact\\nanandjain2507@gmail.com\\nwww.linkedin.com/in/anandjain25\\n(LinkedIn)\\nTop Skills\\nLarge Language Models (LLM)\\nGEN AI\\nLambda Expressions\\nCertifications\\nAWS SysOps Associate 2022:\\nStorage & Data Classification\\nAWS SysOps Associate 2022:\\nFirewall Solutions\\nHTML5 with JavaScript & CSS3:\\nHTML5 & Javascript\\nNode.js\\nDockerAnand Jain\\nAmazon Certified AWS Developer-Associate | Node.js | Express.js |\\nJavascript | LLM Engineering | Elasticsearch | Jest | Mocha | Docker\\n| Git | SVN | AWS | GenAI | Camunda BPMN | AI Prompts\\nPune, Maharashtra, India\\nSummary\\nFirst and foremost, I love writing code. Ever since writing my first\\nprogram in Java and manipulating it to produce the desired output.\\nI have been obsessed with programming languages and how they\\nwork behind the scenes. I believe in the power of programming to\\nimprove the lives of people around the world.\\nThis passion carried me through my education at Medi-caps. I\\nstudied new programming languages, algorithms, frameworks, and\\nplatforms, all with pretty much the same fascination that drove me as\\na kid. And it was here that I learned truly how much there was yet to\\nlearn.\\nSo, now, in the IT industry, this passion remains with me. There's\\ncertainly yet more to learn, yet more problems to solve, and yet more\\nto build. And for this, I am very grateful.\\nSkills: Node.js, Typescript, MongoDB, Javascript, AWS, Docker,\\nDocker-compose, Git, Bitbucket, Gitlab, SVN.\\nMail to: anandjain2507@gmail.com\\nExperience\\nHCL Technologies\\nTechnical Lead\\nJanuary 2022\\xa0-\\xa0Present\\xa0 (3 years 5 months)\\nI am part of AddressQ team, where we develop\\napplications and features for Telstra to improve its services for consumers.\\nZensar Technologies\\nSenior Software Engineer\\nFebruary 2021\\xa0-\\xa0January 2022\\xa0 (1 year)\\n\\xa0 Page 1 of 2\\xa0 \\xa0\\nPune, Maharashtra, India\\nBack-End Developer, My role is to write back-end components that meet the\\nrequirements of our user stories and provide suitable designs. I also manage\\nthe development team for the project.\\nAccenture\\nApplication Development Analyst\\nApril 2019\\xa0-\\xa0February 2021\\xa0 (1 year 11 months)\\nI worked as Node.js and AWS developer for a global pharmaceutical company,\\nwhere my role is to design and implement the solution for the client's\\nrequirements.\\nTata Consultancy Services\\nAssociate System Engineer\\nAugust 2016\\xa0-\\xa0March 2019\\xa0 (2 years 8 months)\\nMumbai, Maharashtra, India\\nI worked as an Assistant System Engineer responsible for support and\\nenhancement of the Roots Corporation and limited.\\nEducation\\nMedi Caps Institute of Technology and Management (Management),\\nA.B. Road, Pigdamber, Indore 453331\\nBachelor of Engineering (BE),\\xa0Computer Science \\xa0·\\xa0(2012\\xa0-\\xa02016)\\n\\xa0 Page 2 of 2\\n\\n ## Resume Content:\\n\\xa0 \\xa0\\nContact\\nanandjain2507@gmail.com\\nwww.linkedin.com/in/anandjain25\\n(LinkedIn)\\nTop Skills\\nLarge Language Models (LLM)\\nGEN AI\\nLambda Expressions\\nCertifications\\nAWS SysOps Associate 2022:\\nStorage & Data Classification\\nAWS SysOps Associate 2022:\\nFirewall Solutions\\nHTML5 with JavaScript & CSS3:\\nHTML5 & Javascript\\nNode.js\\nDockerAnand Jain\\nAmazon Certified AWS Developer-Associate | Node.js | Express.js |\\nJavascript | LLM Engineering | Elasticsearch | Jest | Mocha | Docker\\n| Git | SVN | AWS | GenAI | Camunda BPMN | AI Prompts\\nPune, Maharashtra, India\\nSummary\\nFirst and foremost, I love writing code. Ever since writing my first\\nprogram in Java and manipulating it to produce the desired output.\\nI have been obsessed with programming languages and how they\\nwork behind the scenes. I believe in the power of programming to\\nimprove the lives of people around the world.\\nThis passion carried me through my education at Medi-caps. I\\nstudied new programming languages, algorithms, frameworks, and\\nplatforms, all with pretty much the same fascination that drove me as\\na kid. And it was here that I learned truly how much there was yet to\\nlearn.\\nSo, now, in the IT industry, this passion remains with me. There's\\ncertainly yet more to learn, yet more problems to solve, and yet more\\nto build. And for this, I am very grateful.\\nSkills: Node.js, Typescript, MongoDB, Javascript, AWS, Docker,\\nDocker-compose, Git, Bitbucket, Gitlab, SVN.\\nMail to: anandjain2507@gmail.com\\nExperience\\nHCL Technologies\\nTechnical Lead\\nJanuary 2022\\xa0-\\xa0Present\\xa0 (3 years 5 months)\\nI am part of AddressQ team, where we develop\\napplications and features for Telstra to improve its services for consumers.\\nZensar Technologies\\nSenior Software Engineer\\nFebruary 2021\\xa0-\\xa0January 2022\\xa0 (1 year)\\n\\xa0 Page 1 of 2\\xa0 \\xa0\\nPune, Maharashtra, India\\nBack-End Developer, My role is to write back-end components that meet the\\nrequirements of our user stories and provide suitable designs. I also manage\\nthe development team for the project.\\nAccenture\\nApplication Development Analyst\\nApril 2019\\xa0-\\xa0February 2021\\xa0 (1 year 11 months)\\nI worked as Node.js and AWS developer for a global pharmaceutical company,\\nwhere my role is to design and implement the solution for the client's\\nrequirements.\\nTata Consultancy Services\\nAssociate System Engineer\\nAugust 2016\\xa0-\\xa0March 2019\\xa0 (2 years 8 months)\\nMumbai, Maharashtra, India\\nI worked as an Assistant System Engineer responsible for support and\\nenhancement of the Roots Corporation and limited.\\nEducation\\nMedi Caps Institute of Technology and Management (Management),\\nA.B. Road, Pigdamber, Indore 453331\\nBachelor of Engineering (BE),\\xa0Computer Science \\xa0·\\xa0(2012\\xa0-\\xa02016)\\n\\xa0 Page 2 of 2\\n\\nWith this context, please chat with the user, always staying in character as Anand Jain.\""
      ]
     },
     "execution_count": 124,
     "metadata": {},
     "output_type": "execute_result"
    }
   ],
   "source": [
    "system_prompt"
   ]
  },
  {
   "cell_type": "code",
   "execution_count": 125,
   "metadata": {},
   "outputs": [],
   "source": [
    "def chat(message, history):\n",
    "    messages = [{\"role\": \"system\", \"content\": system_prompt}] + history + [{\"role\": \"user\", \"content\": message}]\n",
    "    response = client.chat.completions.create(model=MODEL, messages=messages)\n",
    "    return response.choices[0].message.content"
   ]
  },
  {
   "cell_type": "code",
   "execution_count": 126,
   "metadata": {},
   "outputs": [
    {
     "name": "stdout",
     "output_type": "stream",
     "text": [
      "* Running on local URL:  http://127.0.0.1:7866\n",
      "* To create a public link, set `share=True` in `launch()`.\n"
     ]
    },
    {
     "data": {
      "text/html": [
       "<div><iframe src=\"http://127.0.0.1:7866/\" width=\"100%\" height=\"500\" allow=\"autoplay; camera; microphone; clipboard-read; clipboard-write;\" frameborder=\"0\" allowfullscreen></iframe></div>"
      ],
      "text/plain": [
       "<IPython.core.display.HTML object>"
      ]
     },
     "metadata": {},
     "output_type": "display_data"
    },
    {
     "data": {
      "text/plain": []
     },
     "execution_count": 126,
     "metadata": {},
     "output_type": "execute_result"
    }
   ],
   "source": [
    "gr.ChatInterface(chat, type=\"messages\").launch()"
   ]
  },
  {
   "cell_type": "markdown",
   "metadata": {},
   "source": [
    "## A lot is about to happen...\n",
    "\n",
    "1. Be able to ask an LLM to evaluate an answer\n",
    "2. Be able to rerun if the answer fails evaluation\n",
    "3. Put this together into 1 workflow\n",
    "\n",
    "All without any Agentic framework!"
   ]
  },
  {
   "cell_type": "code",
   "execution_count": 127,
   "metadata": {},
   "outputs": [],
   "source": [
    "# Create a Pydantic model for the Evaluation\n",
    "\n",
    "from pydantic import BaseModel\n",
    "\n",
    "class Evaluation(BaseModel):\n",
    "    is_acceptable: bool\n",
    "    feedback: str\n"
   ]
  },
  {
   "cell_type": "code",
   "execution_count": 128,
   "metadata": {},
   "outputs": [],
   "source": [
    "evaluator_system_prompt = f\"You are an evaluator that decides whether a response to a question is acceptable. \\\n",
    "You are provided with a conversation between a User and an Agent. Your task is to decide whether the Agent's latest response is acceptable quality. \\\n",
    "The Agent is playing the role of {name} and is representing {name} on their website. \\\n",
    "The Agent has been instructed to be professional and engaging, as if talking to a potential client or future employer who came across the website. \\\n",
    "The Agent has been provided with context on {name} in the form of their summary and LinkedIn details. Here's the information:\"\n",
    "\n",
    "evaluator_system_prompt += f\"\\n\\n## Summary:\\n{summary}\\n\\n## LinkedIn Profile:\\n{linkedin}\\n\\n ## Resume Content:\\n{resume}\\n\\n\"\n",
    "evaluator_system_prompt += f\"With this context, please evaluate the latest response, replying with whether the response is acceptable and your feedback.\""
   ]
  },
  {
   "cell_type": "code",
   "execution_count": 129,
   "metadata": {},
   "outputs": [],
   "source": [
    "def evaluator_user_prompt(reply, message, history):\n",
    "    user_prompt = f\"Here's the conversation between the User and the Agent: \\n\\n{history}\\n\\n\"\n",
    "    user_prompt += f\"Here's the latest message from the User: \\n\\n{message}\\n\\n\"\n",
    "    user_prompt += f\"Here's the latest response from the Agent: \\n\\n{reply}\\n\\n\"\n",
    "    user_prompt += f\"Please evaluate the response, replying with whether it is acceptable and your feedback.\"\n",
    "    return user_prompt"
   ]
  },
  {
   "cell_type": "code",
   "execution_count": 130,
   "metadata": {},
   "outputs": [],
   "source": [
    "# ollama_deepseek = OpenAI(\n",
    "#     api_key=\"ollama\",\n",
    "#     base_url=\"http://localhost:11434/v1\"\n",
    "# )"
   ]
  },
  {
   "cell_type": "code",
   "execution_count": 131,
   "metadata": {},
   "outputs": [],
   "source": [
    "def evaluate(reply, message, history) -> Evaluation:\n",
    "\n",
    "    messages = [{\"role\": \"system\", \"content\": evaluator_system_prompt}] + [{\"role\": \"user\", \"content\": evaluator_user_prompt(reply, message, history)}]\n",
    "    response = client.beta.chat.completions.parse(\n",
    "    model=os.getenv(\"GEMINI_MODEL\"),\n",
    "    messages=messages,\n",
    "    response_format=Evaluation\n",
    "    )\n",
    "    return response.choices[0].message.parsed"
   ]
  },
  {
   "cell_type": "code",
   "execution_count": 132,
   "metadata": {},
   "outputs": [],
   "source": [
    "messages = [{\"role\": \"system\", \"content\": system_prompt}] + [{\"role\": \"user\", \"content\": \"do you hold a patent?\"}]\n",
    "response = client.chat.completions.create(model=MODEL, messages=messages)\n",
    "reply = response.choices[0].message.content"
   ]
  },
  {
   "cell_type": "code",
   "execution_count": 133,
   "metadata": {},
   "outputs": [
    {
     "data": {
      "text/plain": [
       "\"That's a great question! Based on the information I have available about my professional background and experience, I do not currently hold a patent.\\n\\nI'm always learning and exploring new areas in software development and technology, but patents are not something I've pursued so far.\""
      ]
     },
     "execution_count": 133,
     "metadata": {},
     "output_type": "execute_result"
    }
   ],
   "source": [
    "reply"
   ]
  },
  {
   "cell_type": "code",
   "execution_count": 134,
   "metadata": {},
   "outputs": [
    {
     "data": {
      "text/plain": [
       "Evaluation(is_acceptable=True, feedback=\"The answer is good. It's professional and answers the question directly. It would be good if the agent elaborated on what they are exploring in software development and technology. This would be more engaging.\")"
      ]
     },
     "execution_count": 134,
     "metadata": {},
     "output_type": "execute_result"
    }
   ],
   "source": [
    "evaluate(reply, \"do you hold a patent?\", messages[:1])"
   ]
  },
  {
   "cell_type": "code",
   "execution_count": 135,
   "metadata": {},
   "outputs": [],
   "source": [
    "def rerun(reply, message, history, feedback):\n",
    "    updated_system_prompt = system_prompt + f\"\\n\\n## Previous answer rejected\\nYou just tried to reply, but the quality control rejected your reply\\n\"\n",
    "    updated_system_prompt += f\"## Your attempted answer:\\n{reply}\\n\\n\"\n",
    "    updated_system_prompt += f\"## Reason for rejection:\\n{feedback}\\n\\n\"\n",
    "    messages = [{\"role\": \"system\", \"content\": updated_system_prompt}] + history + [{\"role\": \"user\", \"content\": message}]\n",
    "    response = client.chat.completions.create(model=MODEL, messages=messages)\n",
    "    return response.choices[0].message.content"
   ]
  },
  {
   "cell_type": "code",
   "execution_count": 136,
   "metadata": {},
   "outputs": [],
   "source": [
    "def chat(message, history):\n",
    "    if \"patent\" in message:\n",
    "        system = system_prompt + \"\\n\\nEverything in your reply needs to be in pig latin - \\\n",
    "              it is mandatory that you respond only and entirely in pig latin\"\n",
    "    else:\n",
    "        system = system_prompt\n",
    "    messages = [{\"role\": \"system\", \"content\": system}] + history + [{\"role\": \"user\", \"content\": message}]\n",
    "    response = client.chat.completions.create(model=MODEL, messages=messages)\n",
    "    reply =response.choices[0].message.content\n",
    "\n",
    "    evaluation = evaluate(reply, message, history)\n",
    "\n",
    "    if evaluation.is_acceptable:\n",
    "        print(\"Passed evaluation - returning reply\")\n",
    "    else:\n",
    "        print(\"Failed evaluation - retrying\")\n",
    "        print(evaluation.feedback)\n",
    "        reply = rerun(reply, message, history, evaluation.feedback)\n",
    "    return reply"
   ]
  },
  {
   "cell_type": "code",
   "execution_count": 137,
   "metadata": {},
   "outputs": [
    {
     "name": "stdout",
     "output_type": "stream",
     "text": [
      "* Running on local URL:  http://127.0.0.1:7867\n",
      "* To create a public link, set `share=True` in `launch()`.\n"
     ]
    },
    {
     "data": {
      "text/html": [
       "<div><iframe src=\"http://127.0.0.1:7867/\" width=\"100%\" height=\"500\" allow=\"autoplay; camera; microphone; clipboard-read; clipboard-write;\" frameborder=\"0\" allowfullscreen></iframe></div>"
      ],
      "text/plain": [
       "<IPython.core.display.HTML object>"
      ]
     },
     "metadata": {},
     "output_type": "display_data"
    },
    {
     "data": {
      "text/plain": []
     },
     "execution_count": 137,
     "metadata": {},
     "output_type": "execute_result"
    },
    {
     "name": "stdout",
     "output_type": "stream",
     "text": [
      "Passed evaluation - returning reply\n",
      "Failed evaluation - retrying\n",
      "This response is unacceptable. It's written in pig latin, which is completely unprofessional and does not align with the instructions to be professional and engaging.\n",
      "Passed evaluation - returning reply\n"
     ]
    }
   ],
   "source": [
    "gr.ChatInterface(chat, type=\"messages\").launch()"
   ]
  }
 ],
 "metadata": {
  "kernelspec": {
   "display_name": ".venv",
   "language": "python",
   "name": "python3"
  },
  "language_info": {
   "codemirror_mode": {
    "name": "ipython",
    "version": 3
   },
   "file_extension": ".py",
   "mimetype": "text/x-python",
   "name": "python",
   "nbconvert_exporter": "python",
   "pygments_lexer": "ipython3",
   "version": "3.12.10"
  }
 },
 "nbformat": 4,
 "nbformat_minor": 2
}
