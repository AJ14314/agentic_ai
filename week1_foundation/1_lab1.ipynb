{
 "cells": [
  {
   "cell_type": "code",
   "execution_count": 6,
   "metadata": {},
   "outputs": [],
   "source": [
    "from dotenv import load_dotenv"
   ]
  },
  {
   "cell_type": "code",
   "execution_count": 7,
   "metadata": {},
   "outputs": [
    {
     "data": {
      "text/plain": [
       "True"
      ]
     },
     "execution_count": 7,
     "metadata": {},
     "output_type": "execute_result"
    }
   ],
   "source": [
    "load_dotenv(override=True)\n"
   ]
  },
  {
   "cell_type": "code",
   "execution_count": 8,
   "metadata": {},
   "outputs": [
    {
     "name": "stdout",
     "output_type": "stream",
     "text": [
      "Gemini API Key exists and begins with AIzaSyAy\n"
     ]
    }
   ],
   "source": [
    "import os\n",
    "gemini_api_key = os.getenv(\"GEMINI_API_KEY\")\n",
    "\n",
    "if gemini_api_key:\n",
    "    print(f\"Gemini API Key exists and begins with {gemini_api_key[:8]}\")\n",
    "else:\n",
    "    print(\"Gemini API Key does not exist\")\n"
   ]
  },
  {
   "cell_type": "code",
   "execution_count": 9,
   "metadata": {},
   "outputs": [],
   "source": [
    "from google import genai\n",
    "from google.genai import types"
   ]
  },
  {
   "cell_type": "code",
   "execution_count": 10,
   "metadata": {},
   "outputs": [],
   "source": [
    "client = genai.Client(api_key=gemini_api_key)"
   ]
  },
  {
   "cell_type": "code",
   "execution_count": 11,
   "metadata": {},
   "outputs": [],
   "source": [
    "# messages = [{\"role\":\"user\", \"content\":\"What is 2+2?\"}]"
   ]
  },
  {
   "cell_type": "code",
   "execution_count": 12,
   "metadata": {},
   "outputs": [],
   "source": [
    "contents = types.Content( # messages\n",
    "    role=\"user\",\n",
    "    parts=[types.Part.from_text(text=\"What is 2+2?\")]\n",
    ")"
   ]
  },
  {
   "cell_type": "code",
   "execution_count": 13,
   "metadata": {},
   "outputs": [],
   "source": [
    "MODEL = \"gemini-2.5-flash-preview-04-17\" # \"gemini-2.0-flash\""
   ]
  },
  {
   "cell_type": "code",
   "execution_count": 14,
   "metadata": {},
   "outputs": [
    {
     "name": "stdout",
     "output_type": "stream",
     "text": [
      "2 + 2 = 4.\n"
     ]
    }
   ],
   "source": [
    "response = client.models.generate_content(\n",
    "    model=MODEL, contents=contents\n",
    ")\n",
    "\n",
    "print(response.text)"
   ]
  },
  {
   "cell_type": "code",
   "execution_count": 15,
   "metadata": {},
   "outputs": [],
   "source": [
    "question = \"Please propose a hard, challenging question to assess someone's IQ. Response only with the question.\"\n",
    "\n",
    "contents = types.Content(\n",
    "    role=\"user\",\n",
    "    parts=[types.Part.from_text(text=question)]\n",
    ")"
   ]
  },
  {
   "cell_type": "code",
   "execution_count": 16,
   "metadata": {},
   "outputs": [
    {
     "name": "stdout",
     "output_type": "stream",
     "text": [
      "What is the next number in this sequence: 1, 2, 3, 6, 11, 20, 37, 68, ?\n"
     ]
    }
   ],
   "source": [
    "response = client.models.generate_content(\n",
    "    model=MODEL, contents=contents\n",
    ")\n",
    "question_from_gemini = response.text\n",
    "\n",
    "print(question_from_gemini)"
   ]
  },
  {
   "cell_type": "code",
   "execution_count": 17,
   "metadata": {},
   "outputs": [
    {
     "name": "stdout",
     "output_type": "stream",
     "text": [
      "parts=[Part(video_metadata=None, thought=None, inline_data=None, code_execution_result=None, executable_code=None, file_data=None, function_call=None, function_response=None, text='What is the next number in this sequence: 1, 2, 3, 6, 11, 20, 37, 68, ? Please provide answer with explanation in markdown format')] role='user'\n"
     ]
    }
   ],
   "source": [
    "contents = types.Content(\n",
    "    role=\"user\",\n",
    "    parts = [types.Part.from_text(text=question_from_gemini+ \" Please provide answer with explanation in markdown format\")]\n",
    ")\n",
    "\n",
    "print(contents)"
   ]
  },
  {
   "cell_type": "code",
   "execution_count": 18,
   "metadata": {},
   "outputs": [
    {
     "name": "stdout",
     "output_type": "stream",
     "text": [
      "## Next Number in the Sequence\n",
      "\n",
      "The next number in the sequence 1, 2, 3, 6, 11, 20, 37, 68, ... is **125**.\n",
      "\n",
      "## Explanation\n",
      "\n",
      "The pattern in this sequence is that each number, starting from the fourth number, is the sum of the three preceding numbers.\n",
      "\n",
      "Let's verify this:\n",
      "*   1 + 2 + 3 = 6\n",
      "*   2 + 3 + 6 = 11\n",
      "*   3 + 6 + 11 = 20\n",
      "*   6 + 11 + 20 = 37\n",
      "*   11 + 20 + 37 = 68\n",
      "\n",
      "To find the next number, we sum the last three numbers in the sequence (20, 37, and 68):\n",
      "*   20 + 37 + 68 = 125\n",
      "\n",
      "Therefore, the next number is 125.\n"
     ]
    }
   ],
   "source": [
    "response = client.models.generate_content(\n",
    "    model=MODEL, contents=contents\n",
    ")\n",
    "answer = response.text\n",
    "\n",
    "print(answer)"
   ]
  },
  {
   "cell_type": "code",
   "execution_count": 19,
   "metadata": {},
   "outputs": [
    {
     "data": {
      "text/markdown": [
       "## Next Number in the Sequence\n",
       "\n",
       "The next number in the sequence 1, 2, 3, 6, 11, 20, 37, 68, ... is **125**.\n",
       "\n",
       "## Explanation\n",
       "\n",
       "The pattern in this sequence is that each number, starting from the fourth number, is the sum of the three preceding numbers.\n",
       "\n",
       "Let's verify this:\n",
       "*   1 + 2 + 3 = 6\n",
       "*   2 + 3 + 6 = 11\n",
       "*   3 + 6 + 11 = 20\n",
       "*   6 + 11 + 20 = 37\n",
       "*   11 + 20 + 37 = 68\n",
       "\n",
       "To find the next number, we sum the last three numbers in the sequence (20, 37, and 68):\n",
       "*   20 + 37 + 68 = 125\n",
       "\n",
       "Therefore, the next number is 125."
      ],
      "text/plain": [
       "<IPython.core.display.Markdown object>"
      ]
     },
     "metadata": {},
     "output_type": "display_data"
    }
   ],
   "source": [
    "from IPython.display import Markdown, display\n",
    "\n",
    "display(Markdown(answer))"
   ]
  },
  {
   "cell_type": "code",
   "execution_count": 20,
   "metadata": {},
   "outputs": [],
   "source": [
    "def create_agentic_prompt(question):\n",
    "    return types.Content(\n",
    "        role=\"user\",\n",
    "        parts = [types.Part.from_text(text=question)]\n",
    "    )"
   ]
  },
  {
   "cell_type": "code",
   "execution_count": 21,
   "metadata": {},
   "outputs": [],
   "source": [
    "def call_gemini(contents):\n",
    "    return client.models.generate_content(\n",
    "        model=MODEL, contents=contents\n",
    "    )"
   ]
  },
  {
   "cell_type": "code",
   "execution_count": 22,
   "metadata": {},
   "outputs": [
    {
     "name": "stdout",
     "output_type": "stream",
     "text": [
      "business_idea \n",
      "\n"
     ]
    },
    {
     "data": {
      "text/markdown": [
       "Okay, let's pick a business area that seems ripe for exploring Agentic AI opportunities.\n",
       "\n",
       "A promising area for Agentic AI is **Automated Sales Development & Lead Nurturing**.\n",
       "\n",
       "Here's why this area is a good candidate:\n",
       "\n",
       "1.  **Goal-Oriented:** The core goals (qualify leads, book meetings, move prospects down the funnel) are clear.\n",
       "2.  **Multi-Step Processes:** It involves a sequence of interconnected tasks (researching prospects, crafting personalized outreach, scheduling emails/messages, handling initial responses, updating CRM, analyzing engagement, following up).\n",
       "3.  **Data-Driven:** Success relies on analyzing prospect data, engagement metrics, and sales outcomes.\n",
       "4.  **Integration with Tools:** Agents would need to interact with CRMs, email platforms, calendars, data enrichment services, etc.\n",
       "5.  **Potential for Autonomy:** Many of the steps can be performed autonomously or semi-autonomously based on defined playbooks and rules.\n",
       "6.  **Scalability & Efficiency:** Automating these tasks frees up human sales development representatives (SDRs) or account executives (AEs) to focus on higher-value activities like actual calls and closing deals.\n",
       "\n",
       "An Agentic AI in this space could potentially take a list of leads, research them, determine the best outreach strategy, execute personalized campaigns, handle initial replies (e.g., answering FAQs, scheduling initial calls), and update the CRM, all with minimal human oversight once configured."
      ],
      "text/plain": [
       "<IPython.core.display.Markdown object>"
      ]
     },
     "metadata": {},
     "output_type": "display_data"
    },
    {
     "name": "stdout",
     "output_type": "stream",
     "text": [
      "pain_point \n",
      "\n"
     ]
    },
    {
     "data": {
      "text/markdown": [
       "Okay, building on \"Automated Sales Development & Lead Nurturing\" as the promising area, a significant and challenging pain point ripe for an Agentic AI solution is:\n",
       "\n",
       "**The Challenge of Dynamically Responding to Nuanced Prospect Interactions and Real-Time Signal Changes at Scale.**\n",
       "\n",
       "Here's why this is a pain point and how Agentic AI is suited to address it:\n",
       "\n",
       "1.  **The Pain Point Explained:**\n",
       "    *   **Current Automation Limits:** Existing sales automation tools are largely based on pre-defined rules, linear workflows, and simple triggers (e.g., \"if email opened, send follow-up X; if clicked, send follow-up Y\"). They struggle *immensely* when a prospect's behavior or response is outside these narrow, predicted paths.\n",
       "    *   **Nuanced Interactions:** Prospects don't always just click a link or ask to schedule a demo. They might reply with specific questions (\"How does this integrate with our specific legacy system?\"), express nuanced objections (\"We had a bad experience with a similar tool years ago\"), provide context about their internal process (\"We're in a budget freeze until Q3\"), or even just give a vague \"Not interested right now.\" Current automation often can't understand or appropriately respond to these nuances. It either sends a generic reply, forces a human to step in cold, or worse, sends an irrelevant automated message.\n",
       "    *   **Real-Time Signal Adaptation:** Prospect behavior isn't static. They might visit the pricing page *after* receiving an initial email, download a whitepaper, attend a webinar, or their company might appear in a news article. Current systems often react slowly or inflexibly to these real-time signals. The nurturing path isn't truly dynamic based on the *latest* information and context.\n",
       "    *   **The \"Stuck\" Lead:** This leads to many leads getting \"stuck\" in automated sequences because they don't fit the standard path. They require manual diagnosis, context-gathering, and decision-making by an SDR or AE, which is time-consuming, error-prone, and doesn't scale. Many potentially good leads are lost simply because they didn't follow the script.\n",
       "\n",
       "2.  **Why it's Challenging for Current Solutions:**\n",
       "    *   Requires true natural language understanding (NLU) beyond simple keyword matching.\n",
       "    *   Requires reasoning and inference based on historical data, the prospect's specific response, and their recent behavior.\n",
       "    *   Requires the ability to dynamically compose relevant, context-aware responses or decide on non-standard next actions (e.g., pull a specific case study, suggest a different resource, ask a clarifying question) rather than just picking from pre-written templates.\n",
       "    *   Requires continuous monitoring and re-evaluation of the lead's status and the optimal next step based on a stream of incoming data.\n",
       "\n",
       "3.  **Why Agentic AI is Ripe for This:**\n",
       "    *   **Understanding & Reasoning:** Agentic AI is designed to understand complex inputs (like natural language emails or website interaction patterns), reason about their meaning in context, and make decisions based on goals.\n",
       "    *   **Context Management:** Agents can maintain and utilize a rich context of the prospect's history, company info, previous interactions, and real-time signals from various integrated tools (CRM, website analytics, marketing automation, news feeds).\n",
       "    *   **Dynamic Action & Goal Orientation:** Instead of following rigid rules, an agent can evaluate the current situation (prospect response + signals + context) against its overall goal (move lead towards qualification/meeting) and determine the *best* next action dynamically. This might be a custom-composed email reply, updating a specific CRM field, triggering an internal alert, or adjusting the timing/content of the *entire* future nurturing sequence.\n",
       "    *   **Autonomous Problem Solving:** When faced with an unexpected response or behavior, an agent can attempt to understand *why* and formulate a relevant, helpful response or adjust the strategy autonomously, rather than simply failing or requiring immediate human intervention.\n",
       "\n",
       "In essence, the pain point is the transition from *automation* (doing repetitive tasks based on simple rules) to true *intelligent interaction and dynamic strategy* at scale, which is exactly where Agentic AI excels."
      ],
      "text/plain": [
       "<IPython.core.display.Markdown object>"
      ]
     },
     "metadata": {},
     "output_type": "display_data"
    },
    {
     "name": "stdout",
     "output_type": "stream",
     "text": [
      "agentic_solution \n",
      "\n"
     ]
    },
    {
     "data": {
      "text/markdown": [
       "Okay, building on the established pain point (\"Dynamically Responding to Nuanced Prospect Interactions and Real-Time Signal Changes at Scale\") and the promising area (\"Automated Sales Development & Lead Nurturing\"), here is a proposed Agentic AI solution.\n",
       "\n",
       "**Proposed Agentic AI Solution: The Adaptive Prospect Engagement Agent (APEA)**\n",
       "\n",
       "**Core Concept:** The APEA is a goal-oriented, autonomous AI agent designed to manage the initial stages of the sales development lifecycle for a prospect. Its primary goal is to move qualified leads towards a desired outcome (e.g., booking a meeting, downloading a key resource, expressing clear interest) by understanding their nuanced interactions and adapting its strategy in real-time based on a continuous stream of signals.\n",
       "\n",
       "**How it Addresses the Pain Point:**\n",
       "\n",
       "Instead of following a rigid \"if X, then Y\" flow, the APEA operates based on a constantly updated understanding of:\n",
       "\n",
       "1.  **Prospect's State & Context:** Combining historical data (CRM), explicit communication (email/chat replies), and implicit behavior (website visits, content downloads).\n",
       "2.  **Real-Time Signals:** New incoming information (email opens/clicks, CRM updates, news mentions, pricing page views).\n",
       "3.  **Overall Goal:** Moving *this specific prospect* towards the next desired stage based on their profile and current context.\n",
       "\n",
       "**Agentic Architecture & Components:**\n",
       "\n",
       "The APEA would likely be composed of several interacting modules, acting together as a single agent:\n",
       "\n",
       "1.  **Perception Module:**\n",
       "    *   **Function:** Ingests data from various sources.\n",
       "    *   **Inputs:**\n",
       "        *   Incoming emails/replies (requiring advanced NLU).\n",
       "        *   CRM updates (status changes, notes added by humans).\n",
       "        *   Marketing Automation/Website Analytics (website visits, content downloads, form fills).\n",
       "        *   Third-Party Data (news mentions, company size changes, tech stack indicators).\n",
       "    *   **Capability:** Understands natural language sentiment, intent, questions, objections, and extracts key information from unstructured text.\n",
       "\n",
       "2.  **Context & Memory Module:**\n",
       "    *   **Function:** Maintains a comprehensive, dynamic profile of the prospect.\n",
       "    *   **Data Stored:**\n",
       "        *   Prospect demographics & firmographics.\n",
       "        *   Full history of interactions (emails sent/received, calls, meetings).\n",
       "        *   Behavioral data (website visits, content consumption).\n",
       "        *   Explicit information shared by the prospect (concerns, timelines, process details).\n",
       "        *   Current status within the sales process.\n",
       "        *   Identified pain points and goals (inferred or explicit).\n",
       "    *   **Capability:** Provides rich, up-to-date context for the Reasoning module.\n",
       "\n",
       "3.  **Reasoning & Planning Module (The \"Brain\"):**\n",
       "    *   **Function:** Analyzes the current state (input from Perception + Context) against the goal, diagnoses the situation, and plans the optimal next action(s). This is the core of its dynamism.\n",
       "    *   **Processes:**\n",
       "        *   Evaluates the significance of new signals/interactions (e.g., Is this email reply a simple unsubscribe or a nuanced objection requiring a specific answer?).\n",
       "        *   Compares the prospect's current state to desired states based on defined playbooks and best practices.\n",
       "        *   Identifies potential roadblocks or opportunities presented by the new information.\n",
       "        *   Determines the *most relevant* next step from a range of options (send email, send resource, ask clarifying question, update CRM, set internal task, change nurture path, escalate to human).\n",
       "        *   Dynamically adjusts the *entire future* nurturing sequence based on the new understanding.\n",
       "    *   **Capability:** Performs complex reasoning, inference, situation assessment, and dynamic strategy adjustment. Moves beyond simple rule-based logic to understanding intent and context.\n",
       "\n",
       "4.  **Action Module:**\n",
       "    *   **Function:** Executes the decisions made by the Reasoning module.\n",
       "    *   **Actions:**\n",
       "        *   Compose and send personalized emails/messages (using Generative AI for content creation).\n",
       "        *   Update CRM fields or statuses.\n",
       "        *   Create tasks for human SDRs/AEs (with full context provided).\n",
       "        *   Trigger internal alerts or notifications.\n",
       "        *   Adjust workflow paths in the marketing automation system.\n",
       "        *   Request specific information from integrated tools (e.g., look up a relevant case study).\n",
       "    *   **Capability:** Interacts with the external environment (various sales/marketing tools) to implement the plan.\n",
       "\n",
       "5.  **Tooling & Integration Layer:**\n",
       "    *   **Function:** Provides interfaces for the Action module to interact with the existing sales and marketing technology stack (CRM like Salesforce/HubSpot, Email platform like Outreach/Salesloft, Website Analytics like Google Analytics, Data Enrichment tools, etc.).\n",
       "    *   **Capability:** Acts as the agent's \"hands\" and \"eyes\" into the existing ecosystem.\n",
       "\n",
       "**APEA Workflow Examples Addressing the Pain:**\n",
       "\n",
       "*   **Handling a Nuanced Objection (\"Bad experience with a similar tool\"):**\n",
       "    1.  **Perception:** APEA receives the email reply. NLU understands the objection about past negative experience.\n",
       "    2.  **Context:** APEA pulls up the prospect's history and industry.\n",
       "    3.  **Reasoning:** APEA identifies this as a key objection. It retrieves information about how the *current* solution differs or how common pitfalls are avoided. It assesses if the prospect's past experience is relevant or outdated. It decides the best response is to acknowledge the concern, validate their experience, and provide a specific differentiator or a relevant customer success story addressing this exact issue.\n",
       "    4.  **Action:** APEA composes a personalized email incorporating these points and sends it. It also updates the CRM with \"Objection: Past Negative Experience\" and potentially flags it for human review or future reference.\n",
       "\n",
       "*   **Adapting to a Real-Time Signal (Pricing Page Visit mid-sequence):**\n",
       "    1.  **Perception:** APEA receives a real-time signal that the prospect visited the pricing page.\n",
       "    2.  **Context:** APEA knows the prospect is currently in a \"Problem Awareness\" nurture sequence and the next email is about \"Solution Features.\"\n",
       "    3.  **Reasoning:** APEA evaluates the pricing page visit as a strong signal of increased interest and potentially moving further down the funnel than the current sequence assumes. It determines the current planned email is no longer optimal. It decides to *immediately* pause the current sequence and instead send a resource focused on ROI or value justification, or trigger an internal alert to an SDR to consider a more direct outreach.\n",
       "    4.  **Action:** APEA sends the ROI resource email *now*, halts the pre-planned sequence, and updates the prospect's status in the CRM to \"High Intent - Pricing Review.\"\n",
       "\n",
       "*   **Managing a \"Stuck\" Lead (\"Not interested right now. Maybe later.\"):**\n",
       "    1.  **Perception:** APEA receives the vague email reply. NLU identifies it as a soft rejection lacking specifics but leaving the door open.\n",
       "    2.  **Context:** APEA reviews the lead's entire history – low engagement metrics throughout the sequence, but they did reply.\n",
       "    3.  **Reasoning:** APEA diagnoses the lead as \"stuck\" in the standard active nurture path. It recognizes this isn't a hard \"No,\" but the lead isn't engaging with the current approach. It decides the optimal strategy is to move the lead off the active sequence to a low-touch, long-term nurture track, perhaps sending relevant industry insights sporadically, or setting a task to re-engage in 6 months.\n",
       "    4.  **Action:** APEA moves the lead to the \"Long-Term Nurture\" sequence in the marketing automation system and sets a reminder task in the CRM for the assigned SDR.\n",
       "\n",
       "**Key Agentic Capabilities Enabled:**\n",
       "\n",
       "*   **Intelligent Interpretation:** Goes beyond keywords to understand the *meaning* and *intent* of prospect communications.\n",
       "*   **Dynamic Strategy & Planning:** Re-evaluates and adjusts the entire engagement plan for a prospect on the fly based on new information.\n",
       "*   **Context-Aware Communication:** Composes truly relevant, personalized messages that reference past interactions or current signals.\n",
       "*   **Autonomous Problem Solving:** Handles unexpected responses or behaviors by diagnosing the situation and formulating a relevant course of action without constant human oversight.\n",
       "*   **Prioritization & Escalation:** Identifies situations that *do* require human intervention (e.g., highly complex technical questions, explicit request for a call) and efficiently escalates them with full context.\n",
       "\n",
       "**Benefits:**\n",
       "\n",
       "*   **Increased Conversion Rates:** Leads receive more timely, relevant, and personalized interactions, increasing engagement and progression.\n",
       "*   **Improved SDR/AE Efficiency:** Humans focus only on high-value interactions (qualified conversations, complex deals) rather than manual nurturing and debugging stuck sequences.\n",
       "*   **Scalability:** Handle a much larger volume of leads with intelligent, individualized attention.\n",
       "*   **Better Prospect Experience:** Prospects feel understood and receive relevant information when they need it, leading to a more positive perception of the company.\n",
       "*   **Faster Response Times:** Critical signals and nuanced questions are addressed rapidly, striking while the iron is hot.\n",
       "\n",
       "**Conclusion:**\n",
       "\n",
       "The Adaptive Prospect Engagement Agent directly tackles the limitations of current rigid automation by leveraging Agentic AI's strengths in perception, reasoning, context management, and dynamic action. It transforms sales development from a linear process into an intelligent, responsive dialogue at scale, ensuring that valuable leads don't get lost simply because they didn't follow a pre-written script. This shift from automated sequences to truly *adaptive engagement* represents a significant leap forward enabled by Agentic AI."
      ],
      "text/plain": [
       "<IPython.core.display.Markdown object>"
      ]
     },
     "metadata": {},
     "output_type": "display_data"
    }
   ],
   "source": [
    "first_question = \"First ask the LLM to pick a business area that might be worth exploring for an Agentic AI opportunity.\"\n",
    "\n",
    "business_idea = call_gemini(create_agentic_prompt(first_question)).text\n",
    "\n",
    "print(f\"business_idea \\n\")\n",
    "display(Markdown(business_idea))\n",
    "\n",
    "second_question = f\"Find a pain-point in {business_idea} industry - something challenging that might be ripe for an Agentic solution.\"\n",
    "\n",
    "pain_point = call_gemini(create_agentic_prompt(second_question)).text\n",
    "\n",
    "print(f\"pain_point \\n\")\n",
    "display(Markdown(pain_point))\n",
    "\n",
    "third_question = f\"propose the Agentic AI solution for the problem {pain_point} for business_idea {business_idea}.\"\n",
    "\n",
    "agentic_solution = call_gemini(create_agentic_prompt(third_question)).text\n",
    "\n",
    "print(f\"agentic_solution \\n\")\n",
    "display(Markdown(agentic_solution))\n"
   ]
  },
  {
   "cell_type": "code",
   "execution_count": null,
   "metadata": {},
   "outputs": [],
   "source": []
  }
 ],
 "metadata": {
  "kernelspec": {
   "display_name": ".venv",
   "language": "python",
   "name": "python3"
  },
  "language_info": {
   "codemirror_mode": {
    "name": "ipython",
    "version": 3
   },
   "file_extension": ".py",
   "mimetype": "text/x-python",
   "name": "python",
   "nbconvert_exporter": "python",
   "pygments_lexer": "ipython3",
   "version": "3.12.10"
  }
 },
 "nbformat": 4,
 "nbformat_minor": 2
}
