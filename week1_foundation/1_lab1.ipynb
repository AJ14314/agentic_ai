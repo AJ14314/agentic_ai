{
 "cells": [
  {
   "cell_type": "code",
   "execution_count": 9,
   "metadata": {},
   "outputs": [],
   "source": [
    "from dotenv import load_dotenv"
   ]
  },
  {
   "cell_type": "code",
   "execution_count": 10,
   "metadata": {},
   "outputs": [
    {
     "data": {
      "text/plain": [
       "True"
      ]
     },
     "execution_count": 10,
     "metadata": {},
     "output_type": "execute_result"
    }
   ],
   "source": [
    "load_dotenv(override=True)"
   ]
  },
  {
   "cell_type": "code",
   "execution_count": 11,
   "metadata": {},
   "outputs": [
    {
     "name": "stdout",
     "output_type": "stream",
     "text": [
      "Gemini API Key exists and begins with AIzaSyAy\n"
     ]
    }
   ],
   "source": [
    "import os\n",
    "\n",
    "gemini_api_key = os.getenv(\"GEMINI_API_KEY\")\n",
    "\n",
    "if gemini_api_key:\n",
    "    print(f\"Gemini API Key exists and begins with {gemini_api_key[:8]}\")\n",
    "else:\n",
    "    print(\"Gemini API Key does not exist\")"
   ]
  },
  {
   "cell_type": "code",
   "execution_count": 12,
   "metadata": {},
   "outputs": [],
   "source": [
    "from google import genai\n",
    "from google.genai import types"
   ]
  },
  {
   "cell_type": "code",
   "execution_count": 13,
   "metadata": {},
   "outputs": [],
   "source": [
    "client = genai.Client(api_key=gemini_api_key)"
   ]
  },
  {
   "cell_type": "code",
   "execution_count": 14,
   "metadata": {},
   "outputs": [],
   "source": [
    "# messages = [{\"role\":\"user\", \"content\":\"What is 2+2?\"}]"
   ]
  },
  {
   "cell_type": "code",
   "execution_count": 15,
   "metadata": {},
   "outputs": [],
   "source": [
    "contents = types.Content(  # messages\n",
    "    role=\"user\", parts=[types.Part.from_text(text=\"What is 2+2?\")]\n",
    ")"
   ]
  },
  {
   "cell_type": "code",
   "execution_count": 16,
   "metadata": {},
   "outputs": [
    {
     "data": {
      "text/plain": [
       "'gemini-2.0-flash'"
      ]
     },
     "execution_count": 16,
     "metadata": {},
     "output_type": "execute_result"
    }
   ],
   "source": [
    "MODEL = os.getenv(\"GEMINI_MODEL\")\n",
    "MODEL"
   ]
  },
  {
   "cell_type": "code",
   "execution_count": 17,
   "metadata": {},
   "outputs": [
    {
     "name": "stdout",
     "output_type": "stream",
     "text": [
      "2 + 2 = 4\n",
      "\n"
     ]
    }
   ],
   "source": [
    "response = client.models.generate_content(model=MODEL, contents=contents)\n",
    "\n",
    "print(response.text)"
   ]
  },
  {
   "cell_type": "code",
   "execution_count": 18,
   "metadata": {},
   "outputs": [],
   "source": [
    "question = \"Please propose a hard, challenging question to assess someone's IQ. Response only with the question.\"\n",
    "\n",
    "contents = types.Content(role=\"user\", parts=[types.Part.from_text(text=question)])"
   ]
  },
  {
   "cell_type": "code",
   "execution_count": 19,
   "metadata": {},
   "outputs": [
    {
     "name": "stdout",
     "output_type": "stream",
     "text": [
      "A logician is captured and told: \"We will either execute you tomorrow, or not execute you tomorrow. If you correctly predict whether you will be executed, you will be tortured before execution. If you incorrectly predict whether you will be executed, you will be released.\" What should the logician predict to ensure they are released? Explain your reasoning.\n",
      "\n"
     ]
    }
   ],
   "source": [
    "response = client.models.generate_content(model=MODEL, contents=contents)\n",
    "question_from_gemini = response.text\n",
    "\n",
    "print(question_from_gemini)"
   ]
  },
  {
   "cell_type": "code",
   "execution_count": 20,
   "metadata": {},
   "outputs": [
    {
     "name": "stdout",
     "output_type": "stream",
     "text": [
      "parts=[Part(video_metadata=None, thought=None, inline_data=None, code_execution_result=None, executable_code=None, file_data=None, function_call=None, function_response=None, text='A logician is captured and told: \"We will either execute you tomorrow, or not execute you tomorrow. If you correctly predict whether you will be executed, you will be tortured before execution. If you incorrectly predict whether you will be executed, you will be released.\" What should the logician predict to ensure they are released? Explain your reasoning.\\n Please provide answer with explanation in markdown format')] role='user'\n"
     ]
    }
   ],
   "source": [
    "contents = types.Content(\n",
    "    role=\"user\",\n",
    "    parts=[\n",
    "        types.Part.from_text(\n",
    "            text=question_from_gemini\n",
    "            + \" Please provide answer with explanation in markdown format\"\n",
    "        )\n",
    "    ],\n",
    ")\n",
    "\n",
    "print(contents)"
   ]
  },
  {
   "cell_type": "code",
   "execution_count": 21,
   "metadata": {},
   "outputs": [
    {
     "name": "stdout",
     "output_type": "stream",
     "text": [
      "The logician should predict that they will be executed tomorrow. Here's the breakdown of the logic:\n",
      "\n",
      "*   **Understanding the Paradox:** The captors have created a paradox. They want to base their actions (execution or release) on the logician's prediction, but they've structured the rules so that *any* outcome leads to a contradiction if the captors follow the rules.\n",
      "\n",
      "*   **Why predicting execution works:**\n",
      "\n",
      "    *   **Scenario 1: The logician predicts execution, and they are executed.** According to the captors' rules, if the prediction is correct, the logician is tortured before execution. But this violates the core promise: if the prediction is correct, torture *before* execution is implied, not just execution alone. The captors cannot execute the logician without torturing them *first*, which then leads to a problem when torturing them will violate the rules and not torturing them is an obvious sign of rule breaking.\n",
      "    *   **Scenario 2: The logician predicts execution, and they are released.** According to the captors' rules, if the prediction is incorrect, the logician is released. This scenario perfectly aligns with the rules.\n",
      "\n",
      "*   **Why predicting freedom fails:**\n",
      "\n",
      "    *   **Scenario 1: The logician predicts freedom, and they are executed.** If they are executed, their prediction was incorrect, and they should have been released according to the rules. This contradicts the execution. The captors would be breaking their own rules.\n",
      "    *   **Scenario 2: The logician predicts freedom, and they are released.** If they are released, their prediction was correct, and they should have been tortured before execution according to the rules. This contradicts the release. The captors would be breaking their own rules.\n",
      "\n",
      "*   **The Captors' Dilemma:** The captors have boxed themselves into a situation where they cannot logically follow their own rules if the logician predicts execution. To maintain consistency, they must release the logician.\n",
      "\n",
      "**In Summary:** By predicting their execution, the logician exploits the contradiction in the captors' statement and forces them to release them to avoid violating their own rules.\n",
      "\n"
     ]
    }
   ],
   "source": [
    "response = client.models.generate_content(model=MODEL, contents=contents)\n",
    "answer = response.text\n",
    "\n",
    "print(answer)"
   ]
  },
  {
   "cell_type": "code",
   "execution_count": 22,
   "metadata": {},
   "outputs": [
    {
     "data": {
      "text/markdown": [
       "The logician should predict that they will be executed tomorrow. Here's the breakdown of the logic:\n",
       "\n",
       "*   **Understanding the Paradox:** The captors have created a paradox. They want to base their actions (execution or release) on the logician's prediction, but they've structured the rules so that *any* outcome leads to a contradiction if the captors follow the rules.\n",
       "\n",
       "*   **Why predicting execution works:**\n",
       "\n",
       "    *   **Scenario 1: The logician predicts execution, and they are executed.** According to the captors' rules, if the prediction is correct, the logician is tortured before execution. But this violates the core promise: if the prediction is correct, torture *before* execution is implied, not just execution alone. The captors cannot execute the logician without torturing them *first*, which then leads to a problem when torturing them will violate the rules and not torturing them is an obvious sign of rule breaking.\n",
       "    *   **Scenario 2: The logician predicts execution, and they are released.** According to the captors' rules, if the prediction is incorrect, the logician is released. This scenario perfectly aligns with the rules.\n",
       "\n",
       "*   **Why predicting freedom fails:**\n",
       "\n",
       "    *   **Scenario 1: The logician predicts freedom, and they are executed.** If they are executed, their prediction was incorrect, and they should have been released according to the rules. This contradicts the execution. The captors would be breaking their own rules.\n",
       "    *   **Scenario 2: The logician predicts freedom, and they are released.** If they are released, their prediction was correct, and they should have been tortured before execution according to the rules. This contradicts the release. The captors would be breaking their own rules.\n",
       "\n",
       "*   **The Captors' Dilemma:** The captors have boxed themselves into a situation where they cannot logically follow their own rules if the logician predicts execution. To maintain consistency, they must release the logician.\n",
       "\n",
       "**In Summary:** By predicting their execution, the logician exploits the contradiction in the captors' statement and forces them to release them to avoid violating their own rules.\n"
      ],
      "text/plain": [
       "<IPython.core.display.Markdown object>"
      ]
     },
     "metadata": {},
     "output_type": "display_data"
    }
   ],
   "source": [
    "from IPython.display import Markdown, display\n",
    "\n",
    "display(Markdown(answer))"
   ]
  },
  {
   "cell_type": "code",
   "execution_count": 23,
   "metadata": {},
   "outputs": [],
   "source": [
    "def create_agentic_prompt(question):\n",
    "    return types.Content(role=\"user\", parts=[types.Part.from_text(text=question)])"
   ]
  },
  {
   "cell_type": "code",
   "execution_count": 24,
   "metadata": {},
   "outputs": [],
   "source": [
    "def call_gemini(contents):\n",
    "    return client.models.generate_content(model=MODEL, contents=contents)"
   ]
  },
  {
   "cell_type": "code",
   "execution_count": 25,
   "metadata": {},
   "outputs": [
    {
     "name": "stdout",
     "output_type": "stream",
     "text": [
      "business_idea \n",
      "\n"
     ]
    },
    {
     "data": {
      "text/markdown": [
       "Okay, let's have the LLM pick a business area ripe for an Agentic AI opportunity.\n",
       "\n",
       "**LLM: Based on current trends and emerging needs, I believe the area of Personalized Education and Skills Training presents a strong opportunity for Agentic AI. Specifically, think about personalized career pathing and upskilling/reskilling programs.**\n",
       "\n",
       "Now, I'm ready for your next question!\n"
      ],
      "text/plain": [
       "<IPython.core.display.Markdown object>"
      ]
     },
     "metadata": {},
     "output_type": "display_data"
    },
    {
     "name": "stdout",
     "output_type": "stream",
     "text": [
      "pain_point \n",
      "\n"
     ]
    },
    {
     "data": {
      "text/markdown": [
       "Okay, let's focus on **Personalized Career Pathing and Upskilling/Reskilling Programs** as identified by the LLM. A major pain point within this area is:\n",
       "\n",
       "**The \"Skills Gap\" Mismatch: Individuals often struggle to identify the *specific* skills required for *specific* roles and industries they're targeting, and even when identified, find it difficult to access (and effectively learn from) relevant, high-quality, and *personalized* training resources that bridge that gap.**\n",
       "\n",
       "**Here's a breakdown of the pain point:**\n",
       "\n",
       "*   **Lack of Precise Skill Identification:** Generic job descriptions often lack the granularity needed. Individuals might know they need \"Data Analysis skills,\" but don't understand the precise types of analysis, specific tools (e.g., Python libraries), or level of proficiency required for a particular Data Analyst role in a specific company or industry.\n",
       "\n",
       "*   **Difficulty Finding Relevant Training:** The market is flooded with training courses, but it's overwhelming and time-consuming to sift through them. Many courses are outdated, irrelevant, or too general. Individuals often waste time and money on training that doesn't directly translate to the skills needed for their desired roles.\n",
       "\n",
       "*   **Lack of Personalization:** Even if someone finds a seemingly relevant course, it might not cater to their individual learning style, existing knowledge base, or career goals. A blanket approach to training is ineffective, leading to low engagement and poor skill acquisition.\n",
       "\n",
       "*   **Difficulty in Validating Acquired Skills:** After completing a training program, individuals often struggle to demonstrate their acquired skills to potential employers. There's a disconnect between completing a course and proving competence in a real-world setting.\n",
       "\n",
       "*   **Staying Current:** The skills landscape is constantly evolving. Keeping up with the latest technologies and industry trends is a continuous challenge, requiring ongoing learning and adaptation.\n",
       "\n",
       "**Why is this a good opportunity for an Agentic AI solution?**\n",
       "\n",
       "An agentic AI solution could address this pain point by:\n",
       "\n",
       "*   **Analyzing Job Descriptions & Industry Data:** Crawling and interpreting job postings, industry reports, and company websites to identify precise skill requirements for specific roles.\n",
       "\n",
       "*   **Profiling Individual Skills & Goals:** Assessing an individual's existing skills, experience, learning preferences, and career aspirations through questionnaires, skills assessments, and portfolio reviews.\n",
       "\n",
       "*   **Curating Personalized Learning Paths:** Recommending specific courses, learning resources, projects, and mentors tailored to the individual's skill gaps and career goals.\n",
       "\n",
       "*   **Providing Real-time Feedback & Guidance:** Monitoring progress, identifying areas of difficulty, and providing personalized feedback and guidance throughout the learning process.\n",
       "\n",
       "*   **Facilitating Skill Validation & Demonstration:** Generating personalized portfolios, simulating real-world scenarios, and connecting individuals with potential employers for project-based opportunities.\n",
       "\n",
       "This solution would require an agentic AI capable of learning, adapting, and proactively guiding individuals towards their career goals, making it a challenging but potentially highly impactful application.\n"
      ],
      "text/plain": [
       "<IPython.core.display.Markdown object>"
      ]
     },
     "metadata": {},
     "output_type": "display_data"
    },
    {
     "name": "stdout",
     "output_type": "stream",
     "text": [
      "agentic_solution \n",
      "\n"
     ]
    },
    {
     "data": {
      "text/markdown": [
       "Okay, here's a proposal for an Agentic AI solution targeting the \"Skills Gap\" pain point in Personalized Career Pathing and Upskilling/Reskilling, which we'll call **\"Career AI Navigator\" (CAIN):**\n",
       "\n",
       "**Solution Name:** Career AI Navigator (CAIN)\n",
       "\n",
       "**Core Concept:** CAIN is an agentic AI platform that acts as a personalized career coach and skills acquisition guide, proactively identifying skills gaps, curating learning paths, providing real-time support, and facilitating skill validation for individuals seeking specific career roles.\n",
       "\n",
       "**Key Components and How They Address the Pain Points:**\n",
       "\n",
       "1.  **Skill Mapping Agent:**\n",
       "    *   **Function:** This agent crawls job boards, professional networking sites (LinkedIn), industry reports, company websites, and even open-source project repositories (e.g., GitHub) to extract granular skill requirements for specific job titles, companies, and industries. It utilizes Natural Language Processing (NLP) to understand the context and meaning behind job descriptions, going beyond keyword matching to identify subtle nuances in required skills.\n",
       "    *   **Addresses Pain Point:** **Lack of Precise Skill Identification.** CAIN doesn't just tell you \"Data Analysis is needed,\" but breaks it down to \"Experience with pandas, scikit-learn, and proficiency in A/B testing methodology is highly desirable for this Data Analyst role at Acme Corp in the FinTech sector.\" This level of detail is critical.\n",
       "    *   **Agentic Behavior:** Continuously monitors changes in job postings and industry trends to update its skill mapping database dynamically, ensuring relevance and accuracy.\n",
       "\n",
       "2.  **Individual Profiling Agent:**\n",
       "    *   **Function:** This agent interacts with the individual to build a comprehensive profile of their existing skills, experience, learning preferences, and career aspirations. This involves:\n",
       "        *   **Interactive Questionnaire:** A dynamic questionnaire that adapts based on previous answers, drilling down on specific areas of expertise.\n",
       "        *   **Portfolio Analysis:**  The agent analyzes the individual's portfolio (e.g., GitHub, personal website, project reports) to identify demonstrated skills and areas for improvement.\n",
       "        *   **Skills Assessment Tools:** Integrates with or leverages existing skills assessment platforms (e.g., HackerRank, Codility) to provide objective evaluations of technical skills.\n",
       "        *   **Learning Style Assessment:** Determines the individual's preferred learning styles (e.g., visual, auditory, kinesthetic) to personalize the learning experience.\n",
       "    *   **Addresses Pain Point:**  **Lack of Personalization**. By understanding the individual's specific strengths, weaknesses, and learning preferences, CAIN can tailor the learning experience to maximize engagement and effectiveness.\n",
       "    *   **Agentic Behavior:**  Learns about the individual's evolving goals and preferences over time, continuously refining their profile and adjusting recommendations accordingly.\n",
       "\n",
       "3.  **Personalized Learning Path Generator:**\n",
       "    *   **Function:** This agent combines the insights from the Skill Mapping Agent and the Individual Profiling Agent to generate a personalized learning path. This path consists of:\n",
       "        *   **Curated Course Recommendations:** Selects relevant courses from various platforms (Coursera, Udemy, edX, specialized training providers) based on skill gaps, learning preferences, and budget.\n",
       "        *   **Project-Based Learning Opportunities:** Identifies real-world projects (e.g., open-source contributions, freelance gigs, personal projects) that allow the individual to apply their newly acquired skills.\n",
       "        *   **Mentor Matching:** Connects the individual with experienced professionals in their target field for guidance and mentorship.\n",
       "        *   **Content Aggregation:** Identifies relevant articles, tutorials, and documentation to supplement the formal learning process.\n",
       "    *   **Addresses Pain Point:** **Difficulty Finding Relevant Training** and **Staying Current.** CAIN cuts through the noise of irrelevant courses by providing targeted recommendations based on real-world skill demands and the individual's learning style.\n",
       "    *   **Agentic Behavior:** Continuously monitors the individual's progress and adapts the learning path based on their performance and feedback. If a particular course isn't effective, CAIN will suggest alternative resources.\n",
       "\n",
       "4.  **Real-time Support and Guidance Agent:**\n",
       "    *   **Function:** This agent acts as a personal tutor, providing real-time support and guidance throughout the learning process. This includes:\n",
       "        *   **Answering questions:**  Using NLP to understand the individual's questions and provide relevant answers.\n",
       "        *   **Providing feedback on projects:** Offering constructive criticism and suggestions for improvement.\n",
       "        *   **Identifying areas of difficulty:**  Monitoring progress and flagging areas where the individual is struggling.\n",
       "        *   **Providing motivational support:** Offering encouragement and celebrating milestones to keep the individual engaged.\n",
       "    *   **Addresses Pain Point:** **Lack of Personalization** and **Difficulty in Validating Acquired Skills.** This agent provides personalized support that adapts to the individual's learning style and helps them overcome challenges.\n",
       "    *   **Agentic Behavior:** Learns from the individual's questions and feedback to improve its ability to provide helpful support in the future.\n",
       "\n",
       "5.  **Skill Validation and Demonstration Agent:**\n",
       "    *   **Function:** This agent helps the individual validate their newly acquired skills and demonstrate their competence to potential employers. This includes:\n",
       "        *   **Generating Personalized Portfolios:** Creating a visually appealing and informative portfolio that showcases the individual's projects, skills, and accomplishments.\n",
       "        *   **Simulating Real-World Scenarios:**  Creating simulated work environments and scenarios that allow the individual to practice their skills in a realistic setting.\n",
       "        *   **Connecting with Employers:**  Matching the individual with potential employers based on their skills and career goals.\n",
       "        *   **Automated Resume/CV Generation:** Tailors resume and cover letter content to specifically highlight skills identified as important for the target role.\n",
       "        *   **Interview Preparation:** Providing practice interview questions and feedback to help the individual prepare for job interviews.\n",
       "    *   **Addresses Pain Point:** **Difficulty in Validating Acquired Skills.** CAIN provides the tools and resources necessary to demonstrate competence to potential employers.\n",
       "    *   **Agentic Behavior:** Continuously monitors job market trends to identify the most in-demand skills and adjusts its validation and demonstration strategies accordingly.\n",
       "\n",
       "**Business Model:**\n",
       "\n",
       "*   **Subscription-based:**  Individuals pay a monthly or annual subscription fee to access the platform.\n",
       "*   **Enterprise Partnerships:** Partner with companies to provide CAIN to their employees as part of their upskilling and reskilling programs.\n",
       "*   **Affiliate Marketing:** Earn commissions by recommending courses and training resources.\n",
       "\n",
       "**Why CAIN is a Good Agentic AI Solution:**\n",
       "\n",
       "*   **Addresses a Clear Pain Point:**  The skills gap is a significant problem for individuals, employers, and the economy as a whole.\n",
       "*   **Leverages the Strengths of Agentic AI:**  The solution requires agents that can learn, adapt, and proactively guide individuals towards their career goals.\n",
       "*   **Provides a Personalized and Adaptive Experience:**  CAIN tailors the learning experience to the individual's specific needs and preferences.\n",
       "*   **Facilitates Skill Validation and Demonstration:**  CAIN helps individuals prove their competence to potential employers.\n",
       "*   **Scalable and Sustainable:**  The subscription-based business model allows for scalability and long-term sustainability.\n",
       "\n",
       "**Challenges:**\n",
       "\n",
       "*   **Data Acquisition and Management:**  Collecting and managing the vast amounts of data required to train and operate the agents will be a significant challenge.\n",
       "*   **Accuracy and Reliability:**  Ensuring the accuracy and reliability of the skill mapping and recommendation algorithms is crucial.\n",
       "*   **Ethical Considerations:**  Addressing potential biases in the data and algorithms is essential to ensure fairness and equity.\n",
       "*   **User Adoption:**  Convincing individuals to trust and use the platform will require effective marketing and user experience design.\n",
       "\n",
       "**Conclusion:**\n",
       "\n",
       "CAIN is a promising Agentic AI solution that has the potential to significantly address the skills gap and empower individuals to achieve their career goals. By combining advanced AI technologies with personalized learning and career guidance, CAIN can help individuals navigate the complex world of skills acquisition and land their dream jobs.\n"
      ],
      "text/plain": [
       "<IPython.core.display.Markdown object>"
      ]
     },
     "metadata": {},
     "output_type": "display_data"
    }
   ],
   "source": [
    "first_question = \"First ask the LLM to pick a business area that might be worth exploring for an Agentic AI opportunity.\"\n",
    "\n",
    "business_idea = call_gemini(create_agentic_prompt(first_question)).text\n",
    "\n",
    "print(f\"business_idea \\n\")\n",
    "display(Markdown(business_idea))\n",
    "\n",
    "second_question = f\"Find a pain-point in {business_idea} industry - something challenging that might be ripe for an Agentic solution.\"\n",
    "\n",
    "pain_point = call_gemini(create_agentic_prompt(second_question)).text\n",
    "\n",
    "print(f\"pain_point \\n\")\n",
    "display(Markdown(pain_point))\n",
    "\n",
    "third_question = f\"propose the Agentic AI solution for the problem {pain_point} for business_idea {business_idea}.\"\n",
    "\n",
    "agentic_solution = call_gemini(create_agentic_prompt(third_question)).text\n",
    "\n",
    "print(f\"agentic_solution \\n\")\n",
    "display(Markdown(agentic_solution))"
   ]
  },
  {
   "cell_type": "code",
   "execution_count": null,
   "metadata": {},
   "outputs": [],
   "source": []
  }
 ],
 "metadata": {
  "kernelspec": {
   "display_name": ".venv",
   "language": "python",
   "name": "python3"
  },
  "language_info": {
   "codemirror_mode": {
    "name": "ipython",
    "version": 3
   },
   "file_extension": ".py",
   "mimetype": "text/x-python",
   "name": "python",
   "nbconvert_exporter": "python",
   "pygments_lexer": "ipython3",
   "version": "3.12.10"
  }
 },
 "nbformat": 4,
 "nbformat_minor": 2
}
