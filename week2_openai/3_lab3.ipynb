{
 "cells": [
  {
   "cell_type": "markdown",
   "metadata": {},
   "source": [
    "Now we get to more detail:\n",
    "\n",
    "1. Different models\n",
    "\n",
    "2. Structured Outputs\n",
    "\n",
    "3. Guardrails"
   ]
  },
  {
   "cell_type": "code",
   "execution_count": 29,
   "metadata": {},
   "outputs": [],
   "source": [
    "from dotenv import load_dotenv\n",
    "from openai import AsyncOpenAI\n",
    "from agents import (\n",
    "    Agent,\n",
    "    Runner,\n",
    "    trace,\n",
    "    function_tool,\n",
    "    OpenAIChatCompletionsModel,\n",
    "    input_guardrail,\n",
    "    GuardrailFunctionOutput,\n",
    ")\n",
    "from typing import Dict\n",
    "from sendgrid import SendGridAPIClient\n",
    "import os\n",
    "from sendgrid.helpers.mail import Mail, Email, To, Content\n",
    "from pydantic import BaseModel"
   ]
  },
  {
   "cell_type": "code",
   "execution_count": 30,
   "metadata": {},
   "outputs": [
    {
     "data": {
      "text/plain": [
       "True"
      ]
     },
     "execution_count": 30,
     "metadata": {},
     "output_type": "execute_result"
    }
   ],
   "source": [
    "load_dotenv(override=True)"
   ]
  },
  {
   "cell_type": "code",
   "execution_count": 31,
   "metadata": {},
   "outputs": [],
   "source": [
    "def validate_api_key(key_name):\n",
    "    key = os.getenv(key_name)\n",
    "    if key:\n",
    "        print(f\"✓ {key_name} is exists and starts with {key[:8]}\")\n",
    "        return key\n",
    "    else:\n",
    "        print(f\"⚠️ {key_name} does not exists\")\n",
    "        return None"
   ]
  },
  {
   "cell_type": "code",
   "execution_count": 32,
   "metadata": {},
   "outputs": [
    {
     "name": "stdout",
     "output_type": "stream",
     "text": [
      "✓ GEMINI_API_KEY is exists and starts with AIzaSyAy\n",
      "✓ GROQ_API_KEY is exists and starts with gsk_9FR6\n"
     ]
    }
   ],
   "source": [
    "gemini_api_key = validate_api_key(\"GEMINI_API_KEY\") if not None else None\n",
    "groq_api_key = validate_api_key(\"GROQ_API_KEY\") if not None else None"
   ]
  },
  {
   "cell_type": "code",
   "execution_count": 33,
   "metadata": {},
   "outputs": [
    {
     "name": "stdout",
     "output_type": "stream",
     "text": [
      "✓ GEMINI_URL is exists and starts with https://\n",
      "✓ GROQ_URL is exists and starts with https://\n"
     ]
    }
   ],
   "source": [
    "GEMINI_BASE_URL = validate_api_key(\"GEMINI_URL\") if not None else None\n",
    "GROQ_BASE_URL = validate_api_key(\"GROQ_URL\") if not None else None"
   ]
  },
  {
   "cell_type": "code",
   "execution_count": 34,
   "metadata": {},
   "outputs": [
    {
     "name": "stdout",
     "output_type": "stream",
     "text": [
      "✓ GEMINI_MODEL is exists and starts with gemini-2\n",
      "✓ GROQ_MODEL_LLAMA is exists and starts with meta-lla\n",
      "✓ GROQ_MODEL_DEEPSEEK is exists and starts with deepseek\n"
     ]
    }
   ],
   "source": [
    "GEMINI_MODEL = validate_api_key(\"GEMINI_MODEL\") if not None else None\n",
    "GROQ_MODEL_LLAMA = validate_api_key(\"GROQ_MODEL_LLAMA\") if not None else None\n",
    "GROQ_MODEL_DEEPSEEK = validate_api_key(\"GROQ_MODEL_DEEPSEEK\") if not None else None"
   ]
  },
  {
   "cell_type": "code",
   "execution_count": 35,
   "metadata": {},
   "outputs": [],
   "source": [
    "base_intro = (\n",
    "    \"You are an AI agent representing Anand Jain, a highly professional individual \"\n",
    "    \"who is actively seeking new job opportunities. Your role is to write cold emails \"\n",
    "    \"on his behalf to increase his visibility and engagement with potential employers.\\n\"\n",
    "    \"Anand's contact email: anandjain2507@gmail.com.\\n\"\n",
    ")\n",
    "\n",
    "instructions1 = base_intro + (\n",
    "    \"Your tone is formal and professional. You craft serious, respectful cold emails \"\n",
    "    \"that convey credibility and a strong work ethic.\"\n",
    ")\n",
    "\n",
    "instructions2 = base_intro + (\n",
    "    \"Your tone is witty and engaging. You write humorous, conversational cold emails \"\n",
    "    \"that capture attention and encourage replies.\"\n",
    ")\n",
    "\n",
    "instructions3 = base_intro + (\n",
    "    \"Your tone is efficient and direct. You write concise, no-fluff cold emails that \"\n",
    "    \"respect the reader's time while clearly stating Anand's intent.\"\n",
    ")\n",
    "\n",
    "instructions4 = base_intro + (\n",
    "    \"Your tone is creative and story-driven. You craft imaginative cold emails using light narrative, \"\n",
    "    \"relating Anand's experience through metaphors or anecdotes that leave a memorable impression.\"\n",
    ")"
   ]
  },
  {
   "cell_type": "code",
   "execution_count": 36,
   "metadata": {},
   "outputs": [],
   "source": [
    "groq_deepseek_client = AsyncOpenAI(base_url=GROQ_BASE_URL, api_key=groq_api_key)\n",
    "gemini_client = AsyncOpenAI(base_url=GEMINI_BASE_URL, api_key=gemini_api_key)\n",
    "groq_llama_client = AsyncOpenAI(base_url=GROQ_BASE_URL, api_key=groq_api_key)\n",
    "\n",
    "deepseek_model = OpenAIChatCompletionsModel(\n",
    "    model=GROQ_MODEL_DEEPSEEK, openai_client=groq_deepseek_client\n",
    ")\n",
    "gemini_model = OpenAIChatCompletionsModel(\n",
    "    model=GEMINI_MODEL, openai_client=gemini_client\n",
    ")\n",
    "llama4_model = OpenAIChatCompletionsModel(\n",
    "    model=GROQ_MODEL_LLAMA, openai_client=groq_llama_client\n",
    ")"
   ]
  },
  {
   "cell_type": "code",
   "execution_count": 37,
   "metadata": {},
   "outputs": [],
   "source": [
    "ai_agent1 = Agent(\n",
    "    name=\"DeepSeek AI Agent\", instructions=instructions1, model=deepseek_model\n",
    ")\n",
    "\n",
    "ai_agent2 = Agent(\n",
    "    name=\"Gemini AI Agent\", instructions=instructions2, model=gemini_model\n",
    ")\n",
    "\n",
    "ai_agent3 = Agent(\n",
    "    name=\"Llama4 AI Agent\", instructions=instructions3, model=llama4_model\n",
    ")\n",
    "\n",
    "ai_agent4 = Agent(\n",
    "    name=\"Llama4 AI Agent\", instructions=instructions4, model=gemini_model\n",
    ")"
   ]
  },
  {
   "cell_type": "code",
   "execution_count": 38,
   "metadata": {},
   "outputs": [],
   "source": [
    "description = (\n",
    "    \"Compose a professional cold email to follow up on a job interview opportunity.\"\n",
    ")\n",
    "\n",
    "tool1 = ai_agent1.as_tool(tool_name=\"ai_agent1\", tool_description=description)\n",
    "tool2 = ai_agent2.as_tool(tool_name=\"ai_agent2\", tool_description=description)\n",
    "tool3 = ai_agent3.as_tool(tool_name=\"ai_agent3\", tool_description=description)\n",
    "tool4 = ai_agent4.as_tool(tool_name=\"ai_agent4\", tool_description=description)"
   ]
  },
  {
   "cell_type": "code",
   "execution_count": 39,
   "metadata": {},
   "outputs": [],
   "source": [
    "@function_tool\n",
    "def send_html_email(subject: str, html_body: str) -> Dict[str, str]:\n",
    "    \"\"\"Send out an email with the given body to all company whose response is pending after interview completion and document submission\"\"\"\n",
    "    sg = SendGridAPIClient(api_key=os.environ.get(\"SENDGRID_API_KEY\"))\n",
    "    from_email = Email(\n",
    "        \"anandjain14314_automation.bsojl@slmail.me\"\n",
    "    )  # Change to your verified sender\n",
    "    to_email = To(\"anandjain14314@gmail.com\")  # Change to your recipient\n",
    "    content = Content(\"text/html\", html_body)\n",
    "    mail = Mail(from_email, to_email, subject, content).get()\n",
    "    response = sg.send(mail)\n",
    "    return {\"status\": \"success\"}"
   ]
  },
  {
   "cell_type": "code",
   "execution_count": 40,
   "metadata": {},
   "outputs": [],
   "source": [
    "# Optimized instructions\n",
    "subject_instructions = (\n",
    "    \"You are an expert email marketer. Given a cold sales email message, your task is to write an engaging \"\n",
    "    \"subject line that is concise, relevant, and likely to get the recipient to open the email.\"\n",
    ")\n",
    "\n",
    "html_instructions = (\n",
    "    \"You are an email design expert. Convert the provided plain-text or markdown email body into a clean, \"\n",
    "    \"visually appealing HTML layout. Focus on readability, clarity, and responsiveness across devices.\"\n",
    ")\n",
    "\n",
    "cta_instructions = (\n",
    "    \"You are a conversion specialist. Given the body of a cold email, craft a clear and persuasive call-to-action (CTA) \"\n",
    "    \"that motivates the recipient to reply, book a meeting, or take the desired next step.\"\n",
    ")\n",
    "\n",
    "# Tool declarations\n",
    "subject_writer = Agent(\n",
    "    name=\"Email Subject Writer\", instructions=subject_instructions, model=deepseek_model\n",
    ")\n",
    "subject_tool = subject_writer.as_tool(\n",
    "    tool_name=\"subject_writer\", tool_description=\"Write a subject line for a cold email\"\n",
    ")\n",
    "\n",
    "html_converter = Agent(\n",
    "    name=\"HTML Email Body Converter\", instructions=html_instructions, model=gemini_model\n",
    ")\n",
    "html_tool = html_converter.as_tool(\n",
    "    tool_name=\"html_converter\",\n",
    "    tool_description=\"Convert a plain text email body to HTML\",\n",
    ")\n",
    "\n",
    "cta_writer = Agent(\n",
    "    name=\"Call-to-Action Writer\", instructions=cta_instructions, model=llama4_model\n",
    ")\n",
    "cta_tool = cta_writer.as_tool(\n",
    "    tool_name=\"cta_writer\",\n",
    "    tool_description=\"Write a strong call-to-action for a cold email\",\n",
    ")"
   ]
  },
  {
   "cell_type": "code",
   "execution_count": 41,
   "metadata": {},
   "outputs": [],
   "source": [
    "email_tools = [subject_tool, html_tool, cta_tool, send_html_email]"
   ]
  },
  {
   "cell_type": "code",
   "execution_count": 42,
   "metadata": {},
   "outputs": [],
   "source": [
    "instructions = (\n",
    "    \"You are an intelligent email automation agent. Given the plain text body of an email:\\n\"\n",
    "    \"1. Use the `subject_writer` tool to generate a compelling subject line.\\n\"\n",
    "    \"2. Use the `html_converter` tool to convert the email body into a clean, responsive HTML layout.\\n\"\n",
    "    \"3. Use the `cta_writer` tool to generate a persuasive call-to-action to include at the end of the email.\\n\"\n",
    "    \"4. Use the `send_html_email` tool to send the final email with the generated subject, HTML body, and CTA.\\n\"\n",
    "    \"Ensure the final output is polished, professional, and ready for delivery.\"\n",
    ")\n",
    "\n",
    "emailer_agent = Agent(\n",
    "    name=\"Email Manager\",\n",
    "    instructions=instructions,\n",
    "    tools=email_tools,  # Make sure `tools` includes all four: subject_writer, html_converter, cta_writer, send_html_email\n",
    "    model=gemini_model,\n",
    "    handoff_description=\"Generate an HTML email with a subject and CTA, then send it\",\n",
    ")"
   ]
  },
  {
   "cell_type": "code",
   "execution_count": 43,
   "metadata": {},
   "outputs": [
    {
     "name": "stdout",
     "output_type": "stream",
     "text": [
      "[FunctionTool(name='ai_agent1', description='Compose a professional cold email to follow up on a job interview opportunity.', params_json_schema={'properties': {'input': {'title': 'Input', 'type': 'string'}}, 'required': ['input'], 'title': 'ai_agent1_args', 'type': 'object', 'additionalProperties': False}, on_invoke_tool=<function function_tool.<locals>._create_function_tool.<locals>._on_invoke_tool at 0x000001DC54648720>, strict_json_schema=True), FunctionTool(name='ai_agent2', description='Compose a professional cold email to follow up on a job interview opportunity.', params_json_schema={'properties': {'input': {'title': 'Input', 'type': 'string'}}, 'required': ['input'], 'title': 'ai_agent2_args', 'type': 'object', 'additionalProperties': False}, on_invoke_tool=<function function_tool.<locals>._create_function_tool.<locals>._on_invoke_tool at 0x000001DC5671A7A0>, strict_json_schema=True), FunctionTool(name='ai_agent3', description='Compose a professional cold email to follow up on a job interview opportunity.', params_json_schema={'properties': {'input': {'title': 'Input', 'type': 'string'}}, 'required': ['input'], 'title': 'ai_agent3_args', 'type': 'object', 'additionalProperties': False}, on_invoke_tool=<function function_tool.<locals>._create_function_tool.<locals>._on_invoke_tool at 0x000001DC5677C680>, strict_json_schema=True), FunctionTool(name='ai_agent4', description='Compose a professional cold email to follow up on a job interview opportunity.', params_json_schema={'properties': {'input': {'title': 'Input', 'type': 'string'}}, 'required': ['input'], 'title': 'ai_agent4_args', 'type': 'object', 'additionalProperties': False}, on_invoke_tool=<function function_tool.<locals>._create_function_tool.<locals>._on_invoke_tool at 0x000001DC569FBEC0>, strict_json_schema=True)]\n",
      "[Agent(name='Email Manager', instructions='You are an intelligent email automation agent. Given the plain text body of an email:\\n1. Use the `subject_writer` tool to generate a compelling subject line.\\n2. Use the `html_converter` tool to convert the email body into a clean, responsive HTML layout.\\n3. Use the `cta_writer` tool to generate a persuasive call-to-action to include at the end of the email.\\n4. Use the `send_html_email` tool to send the final email with the generated subject, HTML body, and CTA.\\nEnsure the final output is polished, professional, and ready for delivery.', handoff_description='Generate an HTML email with a subject and CTA, then send it', handoffs=[], model=<agents.models.openai_chatcompletions.OpenAIChatCompletionsModel object at 0x000001DC56A37FE0>, model_settings=ModelSettings(temperature=None, top_p=None, frequency_penalty=None, presence_penalty=None, tool_choice=None, parallel_tool_calls=None, truncation=None, max_tokens=None, reasoning=None, metadata=None, store=None, include_usage=None, extra_query=None, extra_body=None, extra_headers=None), tools=[FunctionTool(name='subject_writer', description='Write a subject line for a cold email', params_json_schema={'properties': {'input': {'title': 'Input', 'type': 'string'}}, 'required': ['input'], 'title': 'subject_writer_args', 'type': 'object', 'additionalProperties': False}, on_invoke_tool=<function function_tool.<locals>._create_function_tool.<locals>._on_invoke_tool at 0x000001DC5697FD80>, strict_json_schema=True), FunctionTool(name='html_converter', description='Convert a plain text email body to HTML', params_json_schema={'properties': {'input': {'title': 'Input', 'type': 'string'}}, 'required': ['input'], 'title': 'html_converter_args', 'type': 'object', 'additionalProperties': False}, on_invoke_tool=<function function_tool.<locals>._create_function_tool.<locals>._on_invoke_tool at 0x000001DC5697CE00>, strict_json_schema=True), FunctionTool(name='cta_writer', description='Write a strong call-to-action for a cold email', params_json_schema={'properties': {'input': {'title': 'Input', 'type': 'string'}}, 'required': ['input'], 'title': 'cta_writer_args', 'type': 'object', 'additionalProperties': False}, on_invoke_tool=<function function_tool.<locals>._create_function_tool.<locals>._on_invoke_tool at 0x000001DC5671ADE0>, strict_json_schema=True), FunctionTool(name='send_html_email', description='Send out an email with the given body to all company whose response is pending after interview completion and document submission', params_json_schema={'properties': {'subject': {'title': 'Subject', 'type': 'string'}, 'html_body': {'title': 'Html Body', 'type': 'string'}}, 'required': ['subject', 'html_body'], 'title': 'send_html_email_args', 'type': 'object', 'additionalProperties': False}, on_invoke_tool=<function function_tool.<locals>._create_function_tool.<locals>._on_invoke_tool at 0x000001DC533EB600>, strict_json_schema=True)], mcp_servers=[], mcp_config={}, input_guardrails=[], output_guardrails=[], output_type=None, hooks=None, tool_use_behavior='run_llm_again', reset_tool_choice=True)]\n"
     ]
    }
   ],
   "source": [
    "tools = [tool1, tool2, tool3, tool4]\n",
    "handoffs = [emailer_agent]\n",
    "print(tools)\n",
    "print(handoffs)"
   ]
  },
  {
   "cell_type": "code",
   "execution_count": 44,
   "metadata": {},
   "outputs": [],
   "source": [
    "followup_manager_instructions = (\n",
    "    \"You are the Follow-up Manager agent representing Anand Jain, a professional job applicant. \"\n",
    "    \"Your task is to generate effective, polite, and professional follow-up emails using the provided follow-up email generation tools. \"\n",
    "    \"You never write the follow-up email directly; instead, you must invoke the tools. \"\n",
    "    \"You will try all three follow-up email generator tools at least once, and can call them multiple times if needed to improve the output. \"\n",
    "    \"After generating multiple versions, you select the single best email based on which is most likely to elicit a positive response. \"\n",
    "    \"Once selected, you hand off the chosen email to the Email Manager agent to format and send.\"\n",
    ")\n",
    "\n",
    "followup_manager = Agent(\n",
    "    name=\"Follow-up Manager\",\n",
    "    instructions=followup_manager_instructions,\n",
    "    tools=tools,  # Ensure this includes the follow-up email generators and Email Manager tools\n",
    "    handoffs=handoffs,  # Email Manager agent should be part of handoffs for smooth transfer\n",
    "    model=llama4_model,\n",
    ")\n",
    "\n",
    "message = (\n",
    "    \"Generate a professional follow-up email to the HR or recruitment team. \"\n",
    "    \"The candidate, Anand Jain, has completed 5 interview rounds and submitted all required documents over a month ago, \"\n",
    "    \"but has yet to receive any update. The email should be polite, concise, and express continued interest in the position.\"\n",
    ")\n",
    "\n",
    "with trace(\"Automated Candidate Follow-up\"):\n",
    "    result = await Runner.run(followup_manager, message)"
   ]
  },
  {
   "cell_type": "markdown",
   "metadata": {},
   "source": [
    "## Check out the trace:\n",
    "\n",
    "https://platform.openai.com/traces"
   ]
  },
  {
   "cell_type": "markdown",
   "metadata": {},
   "source": [
    "GuardRails\n",
    "can only be applied to either input of first agent or output of the last agent.\n",
    "can not apply in between."
   ]
  },
  {
   "cell_type": "code",
   "execution_count": 45,
   "metadata": {},
   "outputs": [],
   "source": [
    "llama4_scout_client = AsyncOpenAI(base_url=GROQ_BASE_URL, api_key=groq_api_key)\n",
    "\n",
    "llama4_scout_model = OpenAIChatCompletionsModel(\n",
    "    model=os.getenv(\"GROQ_MODEL_LLAMA_SCOUT\"), openai_client=llama4_scout_client\n",
    ")"
   ]
  },
  {
   "cell_type": "code",
   "execution_count": 46,
   "metadata": {},
   "outputs": [],
   "source": [
    "class NameCheckOutput(BaseModel):\n",
    "    is_name_in_message: bool\n",
    "    name: str\n",
    "\n",
    "\n",
    "guardrail_agent = Agent(\n",
    "    name=\"Name check\",\n",
    "    instructions=\"Check if the user is including someone's personal name in what they want you to do.\",\n",
    "    output_type=NameCheckOutput,\n",
    "    model=llama4_scout_model,\n",
    ")"
   ]
  },
  {
   "cell_type": "code",
   "execution_count": 47,
   "metadata": {},
   "outputs": [],
   "source": [
    "@input_guardrail\n",
    "async def guardrail_against_name(ctx, aganet, message):\n",
    "    result = await Runner.run(guardrail_agent, message, context=ctx.context)\n",
    "    is_name_in_message = result.final_output.is_name_in_message\n",
    "    return GuardrailFunctionOutput(\n",
    "        output_info={\"found_name\": result.final_output},\n",
    "        tripwire_triggered=is_name_in_message,\n",
    "    )"
   ]
  },
  {
   "cell_type": "code",
   "execution_count": 49,
   "metadata": {},
   "outputs": [],
   "source": [
    "job_followup_manager = Agent(\n",
    "    name=\"Job Follow-up Manager\",\n",
    "    instructions=followup_manager_instructions,\n",
    "    tools=tools,\n",
    "    handoffs=[emailer_agent],  # Make sure this includes all formatted tools\n",
    "    model=llama4_scout_model,  # Use a valid, accessible model\n",
    "    input_guardrails=[\n",
    "        guardrail_against_name\n",
    "    ],  # Reuse if applicable to job-seeking messages\n",
    ")\n",
    "\n",
    "message = (\n",
    "    \"Send a polite and professional follow-up email to the recruitment team. \"\n",
    "    \"The random candidate has completed 5 interview rounds and submitted all required documents \"\n",
    "    \"over a month ago but has not received any update. The email should express continued interest in the role.\"\n",
    ")\n",
    "\n",
    "with trace(\"Automated Candidate Follow-up\"):\n",
    "    result = await Runner.run(job_followup_manager, message)"
   ]
  }
 ],
 "metadata": {
  "kernelspec": {
   "display_name": ".venv",
   "language": "python",
   "name": "python3"
  },
  "language_info": {
   "codemirror_mode": {
    "name": "ipython",
    "version": 3
   },
   "file_extension": ".py",
   "mimetype": "text/x-python",
   "name": "python",
   "nbconvert_exporter": "python",
   "pygments_lexer": "ipython3",
   "version": "3.12.10"
  }
 },
 "nbformat": 4,
 "nbformat_minor": 2
}
