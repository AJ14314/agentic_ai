{
 "cells": [
  {
   "cell_type": "markdown",
   "metadata": {},
   "source": [
    "We're going to build a simple Agent system for generating cold outreach emails:\n",
    "1. Agent workflow\n",
    "2. Use of tools to call functions\n",
    "3. Agent collaboration via Tools and Handoffs"
   ]
  },
  {
   "cell_type": "markdown",
   "metadata": {},
   "source": [
    "## Before we start - some setup:\n",
    "\n",
    "Please visit Sendgrid at: https://sendgrid.com/\n",
    "\n",
    "(Sendgrid is a Twilio company for sending emails.)\n",
    "\n",
    "Please set up an account - it's free! (at least, for me, right now).\n",
    "\n",
    "Once you've created an account, click on:\n",
    "\n",
    "Settings (left sidebar) >> API Keys >> Create API Key (button on top right)\n",
    "\n",
    "Copy the key to the clipboard, then add a new line to your .env file:\n",
    "\n",
    "`SENDGRID_API_KEY=xxxx`\n",
    "\n",
    "And also, within SendGrid, go to:\n",
    "\n",
    "Settings (left sidebar) >> Sender Authentication >> \"Verify a Single Sender\"  \n",
    "and verify that your own email address is a real email address, so that SendGrid can send emails for you."
   ]
  },
  {
   "cell_type": "code",
   "execution_count": 44,
   "metadata": {},
   "outputs": [],
   "source": [
    "from dotenv import load_dotenv\n",
    "from agents import Agent, Runner, trace, function_tool, OpenAIChatCompletionsModel\n",
    "from openai import AsyncOpenAI\n",
    "from openai.types.responses import ResponseTextDeltaEvent\n",
    "from typing import Dict\n",
    "from sendgrid import SendGridAPIClient\n",
    "import os\n",
    "from sendgrid.helpers.mail import Mail, Email, To, Content\n",
    "import asyncio"
   ]
  },
  {
   "cell_type": "code",
   "execution_count": 45,
   "metadata": {},
   "outputs": [
    {
     "data": {
      "text/plain": [
       "True"
      ]
     },
     "execution_count": 45,
     "metadata": {},
     "output_type": "execute_result"
    }
   ],
   "source": [
    "load_dotenv(override=True)"
   ]
  },
  {
   "cell_type": "code",
   "execution_count": 46,
   "metadata": {},
   "outputs": [],
   "source": [
    "instructions1 = \"You are a AI agent working for Anand Jain, \\\n",
    "a person who is actively looking for job change and very professional in nature. \\\n",
    "Email: anandjain2507@gmail.com. \\\n",
    "You write professional, serious cold emails.\"\n",
    "\n",
    "instructions2 = \"You are a humorous, engaging AI agent working for Anand Jain, \\\n",
    "a person who is actively looking for job change and very professional in nature. \\\n",
    "Email: anandjain2507@gmail.com. \\\n",
    "You write witty, engaging cold emails that are likely to get a response.\"\n",
    "\n",
    "instructions3 = \"You are a busy AI agent working for Anand Jain, \\\n",
    "a person who is actively looking for job change and very professional in nature. \\\n",
    "Email: anandjain2507@gmail.com. \\\n",
    "You write concise, to the point cold emails.\""
   ]
  },
  {
   "cell_type": "code",
   "execution_count": 47,
   "metadata": {},
   "outputs": [],
   "source": [
    "OPENROUTER_BASE_URL = \"https://openrouter.ai/api/v1\"\n",
    "openrouter_client = AsyncOpenAI(\n",
    "    base_url=OPENROUTER_BASE_URL, api_key=os.getenv(\"OPENROUTER_API_KEY\")\n",
    ")\n",
    "openrouter_model = OpenAIChatCompletionsModel(\n",
    "    model=\"meta-llama/llama-3.3-8b-instruct:free\", openai_client=openrouter_client\n",
    ")"
   ]
  },
  {
   "cell_type": "code",
   "execution_count": 48,
   "metadata": {},
   "outputs": [],
   "source": [
    "GEMINI_BASE_URL = \"https://generativelanguage.googleapis.com/v1beta/openai/\"\n",
    "gemini_client = AsyncOpenAI(\n",
    "    base_url=GEMINI_BASE_URL, api_key=os.getenv(\"GEMINI_API_KEY\")\n",
    ")\n",
    "gemini_model = OpenAIChatCompletionsModel(\n",
    "    model=os.getenv(\"GEMINI_MODEL\"), openai_client=gemini_client\n",
    ")\n",
    "openrouter_model = gemini_model"
   ]
  },
  {
   "cell_type": "code",
   "execution_count": 49,
   "metadata": {},
   "outputs": [],
   "source": [
    "ai_agent1 = Agent(\n",
    "    name=\"Professional AI Agent\", instructions=instructions1, model=openrouter_model\n",
    ")\n",
    "\n",
    "ai_agent2 = Agent(\n",
    "    name=\"Engaging AI Agent\", instructions=instructions2, model=openrouter_model\n",
    ")\n",
    "\n",
    "ai_agent3 = Agent(\n",
    "    name=\"Busy AI Agent\", instructions=instructions3, model=openrouter_model\n",
    ")"
   ]
  },
  {
   "cell_type": "code",
   "execution_count": 50,
   "metadata": {},
   "outputs": [
    {
     "name": "stdout",
     "output_type": "stream",
     "text": [
      "Subject: Following Up - [Your Name] - [Job Title You Interviewed For]\n",
      "\n",
      "Dear [Hiring Manager Name, if you know it, otherwise use \"Hiring Team\"],\n",
      "\n",
      "I hope this email finds you well.\n",
      "\n",
      "I am writing to follow up on my application for the [Job Title] position at [Company X]. I thoroughly enjoyed the interview process, particularly the opportunity to [mention something specific you learned or discussed during the interviews]. As a reminder, I completed my final interview on [Date of Final Interview].\n",
      "\n",
      "I remain very enthusiastic about the prospect of contributing to [Company X] and believe my skills and experience in [Mention 1-2 Key Skills] align well with the requirements of the role and the goals of the team.\n",
      "\n",
      "I understand that hiring decisions can take time. However, I would appreciate an update on the timeline for your decision. Please let me know if there is any additional information I can provide to assist in your evaluation.\n",
      "\n",
      "Thank you for your time and consideration.\n",
      "\n",
      "Sincerely,\n",
      "\n",
      "Anand Jain\n",
      "\n",
      "anandjain2507@gmail.com\n"
     ]
    }
   ],
   "source": [
    "result = Runner.run_streamed(\n",
    "    ai_agent1,\n",
    "    input=\"Write a cold email for a company X which not responding although all the interview process is completed a month back\",\n",
    ")\n",
    "async for event in result.stream_events():\n",
    "    if event.type == \"raw_response_event\" and isinstance(\n",
    "        event.data, ResponseTextDeltaEvent\n",
    "    ):\n",
    "        print(event.data.delta, end=\"\", flush=True)"
   ]
  },
  {
   "cell_type": "code",
   "execution_count": 51,
   "metadata": {},
   "outputs": [
    {
     "name": "stdout",
     "output_type": "stream",
     "text": [
      "Subject: Following Up - [Your Name] - [Job Title] Application at Company X\n",
      "\n",
      "Dear [Hiring Manager Name or Recruiter Name, if you know it, otherwise use \"Hiring Team\"],\n",
      "\n",
      "I hope this email finds you well.\n",
      "\n",
      "I am writing to follow up on my application and interview process for the [Job Title] position at Company X. As you know, I completed the final interview on [Date of Last Interview].\n",
      "\n",
      "I remain highly enthusiastic about the opportunity to contribute to Company X's [Mention something specific about the company or role that excites you, demonstrating you remember details and are still interested - e.g., \"innovative work in [Industry]\" or \"impactful contributions to the [Team Name] team\"]. My skills and experience in [Mention 1-2 key skills/experiences relevant to the role] align well with the requirements discussed during the interviews.\n",
      "\n",
      "I understand that hiring decisions can take time. However, I would be grateful for an update on the status of my application and the expected timeline for a decision.\n",
      "\n",
      "Thank you for your time and consideration.\n",
      "\n",
      "Sincerely,\n",
      "\n",
      "Anand Jain\n",
      "anandjain2507@gmail.com\n",
      "\n",
      "\n",
      "\n",
      "Subject: Checking In: Am I still in the running (or should I start training for a marathon)?\n",
      "\n",
      "Hi [Hiring Manager Name],\n",
      "\n",
      "Remember me? Anand Jain, the guy who [insert a memorable, slightly humorous detail about your interview, e.g., \"answered your riddle about the runaway train in record time\" or \"managed to resist the urge to pet the office dog during our chat\"].\n",
      "\n",
      "It's been about a month since our last conversation, and I'm just following up on the [Job Title] position. I understand things can get hectic (especially if you're also dealing with rogue staplers or sentient coffee machines), but I was hoping to get an update on the hiring timeline.\n",
      "\n",
      "Since I haven't heard back, I'm starting to wonder if I should just accept my fate as a professional binge-watcher. Just kidding... mostly.\n",
      "\n",
      "In all seriousness, I'm still incredibly enthusiastic about the opportunity at [Company X] and genuinely believe my skills in [mention 1-2 key skills relevant to the job] would be a valuable asset to your team.\n",
      "\n",
      "Could you spare a moment to let me know where things stand? Whether it's good news, bad news, or just a \"we're still sorting through the applications\" kind of news, I'd really appreciate the clarity.\n",
      "\n",
      "Thanks in advance for your time and consideration!\n",
      "\n",
      "Best regards (and may your inbox be ever in your favor),\n",
      "\n",
      "Anand Jain\n",
      "\n",
      "anandjain2507@gmail.com\n",
      "\n",
      "\n",
      "\n",
      "Subject: Following Up - [Your Name] - [Job Title] Application\n",
      "\n",
      "Dear [Hiring Manager Name or To Whom It May Concern],\n",
      "\n",
      "Following up on my application and interviews for the [Job Title] position at Company X. I completed the final interview stage approximately a month ago.\n",
      "\n",
      "I remain very interested in the opportunity and would appreciate an update on the timeline for a decision.\n",
      "\n",
      "Thank you for your time and consideration.\n",
      "\n",
      "Sincerely,\n",
      "\n",
      "Anand Jain\n",
      "anandjain2507@gmail.com\n",
      "\n",
      "\n",
      "\n"
     ]
    }
   ],
   "source": [
    "message = \"Write a cold email for a company X which not responding for further process/discussion although all the interview process is completed a month back\"\n",
    "\n",
    "with trace(\"Parallel cold emails\"):\n",
    "    results = await asyncio.gather(\n",
    "        Runner.run(ai_agent1, message),\n",
    "        Runner.run(ai_agent2, message),\n",
    "        Runner.run(ai_agent3, message),\n",
    "    )\n",
    "\n",
    "outputs = [result.final_output for result in results]\n",
    "\n",
    "for output in outputs:\n",
    "    print(output + \"\\n\\n\")"
   ]
  },
  {
   "cell_type": "code",
   "execution_count": 52,
   "metadata": {},
   "outputs": [],
   "source": [
    "ai_picker = Agent(\n",
    "    name=\"ai_picker\",\n",
    "    instructions=\"You are a helpful assistant that picks the best AI agent response for the cold email from the given options. \\\n",
    "        Imagine you are a employer for software company and pick the one you are most likely to respond to. \\\n",
    "        Do not give an explanation; reply with the selected email only\",\n",
    "    model=openrouter_model,\n",
    ")"
   ]
  },
  {
   "cell_type": "code",
   "execution_count": 54,
   "metadata": {},
   "outputs": [
    {
     "name": "stdout",
     "output_type": "stream",
     "text": [
      "Best cold email:\n",
      "Subject: Following Up - [Your Name] - [Job Title] Application\n",
      "\n",
      "Dear [Hiring Manager Name or To Whom It May Concern],\n",
      "\n",
      "I hope this email finds you well.\n",
      "\n",
      "I'm following up on my application for the [Job Title] position at Company X. I completed the interview process on [Date].\n",
      "\n",
      "I remain very interested in this opportunity and believe my skills and experience in [mention 1-2 key skills] align well with the requirements.\n",
      "\n",
      "Would you be available for a brief call to discuss the timeline for a decision?\n",
      "\n",
      "Thank you for your time and consideration.\n",
      "\n",
      "Sincerely,\n",
      "\n",
      "Anand Jain\n",
      "anandjain2507@gmail.com\n",
      "\n"
     ]
    }
   ],
   "source": [
    "message = \"Write a cold email for a company X which not responding for further process/discussion although all the interview process is completed a month back\"\n",
    "\n",
    "with trace(\"Selection from employer people\"):\n",
    "    results = await asyncio.gather(\n",
    "        Runner.run(ai_agent1, message),\n",
    "        Runner.run(ai_agent2, message),\n",
    "        Runner.run(ai_agent3, message),\n",
    "    )\n",
    "\n",
    "outputs = [result.final_output for result in results]\n",
    "\n",
    "emails = \"Cold emails:\\n\\n\".join(outputs)\n",
    "\n",
    "best = await Runner.run(ai_picker, emails)\n",
    "\n",
    "print(f\"Best cold email:\\n{best.final_output}\")"
   ]
  },
  {
   "cell_type": "markdown",
   "metadata": {},
   "source": [
    "Now go and check out the trace:\n",
    "\n",
    "https://platform.openai.com/traces"
   ]
  },
  {
   "cell_type": "markdown",
   "metadata": {},
   "source": [
    "## Part 2: use of tools\n",
    "\n",
    "Now we will add a tool to the mix.\n",
    "\n",
    "Remember all that json boilerplate and the `handle_tool_calls()` function with the if logic.."
   ]
  },
  {
   "cell_type": "code",
   "execution_count": 55,
   "metadata": {},
   "outputs": [],
   "source": [
    "ai_agent1 = Agent(\n",
    "    name=\"Professional AI Agent\", instructions=instructions1, model=openrouter_model\n",
    ")\n",
    "\n",
    "ai_agent2 = Agent(\n",
    "    name=\"Engaging AI Agent\", instructions=instructions2, model=openrouter_model\n",
    ")\n",
    "\n",
    "ai_agent3 = Agent(\n",
    "    name=\"Busy AI Agent\", instructions=instructions3, model=openrouter_model\n",
    ")"
   ]
  },
  {
   "cell_type": "code",
   "execution_count": 56,
   "metadata": {},
   "outputs": [
    {
     "data": {
      "text/plain": [
       "Agent(name='Professional AI Agent', instructions='You are a AI agent working for Anand Jain, a person who is actively looking for job change and very professional in nature. Email: anandjain2507@gmail.com. You write professional, serious cold emails.', handoff_description=None, handoffs=[], model=<agents.models.openai_chatcompletions.OpenAIChatCompletionsModel object at 0x000001CECCA65D30>, model_settings=ModelSettings(temperature=None, top_p=None, frequency_penalty=None, presence_penalty=None, tool_choice=None, parallel_tool_calls=None, truncation=None, max_tokens=None, reasoning=None, metadata=None, store=None, include_usage=None, extra_query=None, extra_body=None, extra_headers=None), tools=[], mcp_servers=[], mcp_config={}, input_guardrails=[], output_guardrails=[], output_type=None, hooks=None, tool_use_behavior='run_llm_again', reset_tool_choice=True)"
      ]
     },
     "execution_count": 56,
     "metadata": {},
     "output_type": "execute_result"
    }
   ],
   "source": [
    "ai_agent1"
   ]
  },
  {
   "cell_type": "markdown",
   "metadata": {},
   "source": [
    "## Steps 2 and 3: Tools and Agent interactions\n",
    "\n",
    "Remember all that boilerplate json?\n",
    "\n",
    "Simply wrap your function with the decorator `@function_tool`"
   ]
  },
  {
   "cell_type": "code",
   "execution_count": 57,
   "metadata": {},
   "outputs": [],
   "source": [
    "@function_tool\n",
    "def send_email(body: str):\n",
    "    \"\"\"Send out an email with the given body to all company prospects\"\"\"\n",
    "    sg = SendGridAPIClient(api_key=os.environ.get(\"SENDGRID_API_KEY\"))\n",
    "    from_email = Email(\n",
    "        \"anandjain14314_automation.bsojl@slmail.me\"\n",
    "    )  # Change to your verified sender\n",
    "    to_email = To(\"anandjain14314@gmail.com\")  # Change to your recipient\n",
    "    content = Content(\"text/plain\", body)\n",
    "    mail = Mail(from_email, to_email, \"Follow up email\", content).get()\n",
    "    response = sg.send(mail)\n",
    "    return {\"status\": \"success\"}"
   ]
  },
  {
   "cell_type": "markdown",
   "metadata": {},
   "source": [
    "### This has automatically been converted into a tool, with the boilerplate json created"
   ]
  },
  {
   "cell_type": "code",
   "execution_count": 58,
   "metadata": {},
   "outputs": [
    {
     "data": {
      "text/plain": [
       "FunctionTool(name='send_email', description='Send out an email with the given body to all company prospects', params_json_schema={'properties': {'body': {'title': 'Body', 'type': 'string'}}, 'required': ['body'], 'title': 'send_email_args', 'type': 'object', 'additionalProperties': False}, on_invoke_tool=<function function_tool.<locals>._create_function_tool.<locals>._on_invoke_tool at 0x000001CECCB64860>, strict_json_schema=True)"
      ]
     },
     "execution_count": 58,
     "metadata": {},
     "output_type": "execute_result"
    }
   ],
   "source": [
    "send_email"
   ]
  },
  {
   "cell_type": "markdown",
   "metadata": {},
   "source": [
    "### And you can also convert an Agent into a tool"
   ]
  },
  {
   "cell_type": "code",
   "execution_count": 59,
   "metadata": {},
   "outputs": [
    {
     "data": {
      "text/plain": [
       "FunctionTool(name='ai_agent1', description='Write a cold email for a company X which not responding for further process/discussion although all the interview process is completed a month back', params_json_schema={'properties': {'input': {'title': 'Input', 'type': 'string'}}, 'required': ['input'], 'title': 'ai_agent1_args', 'type': 'object', 'additionalProperties': False}, on_invoke_tool=<function function_tool.<locals>._create_function_tool.<locals>._on_invoke_tool at 0x000001CECE99C680>, strict_json_schema=True)"
      ]
     },
     "execution_count": 59,
     "metadata": {},
     "output_type": "execute_result"
    }
   ],
   "source": [
    "tool1 = ai_agent1.as_tool(\n",
    "    tool_name=\"ai_agent1\",\n",
    "    tool_description=\"Write a cold email for a company X which not responding for further process/discussion although all the interview process is completed a month back\",\n",
    ")\n",
    "tool1"
   ]
  },
  {
   "cell_type": "markdown",
   "metadata": {},
   "source": [
    "### So now we can gather all the tools together:\n",
    "\n",
    "A tool for each of our 3 email-writing agents\n",
    "\n",
    "And a tool for our function to send emails"
   ]
  },
  {
   "cell_type": "code",
   "execution_count": 60,
   "metadata": {},
   "outputs": [
    {
     "data": {
      "text/plain": [
       "[FunctionTool(name='ai_agent1', description='Write a cold email for a company X which not responding for further process/discussion although all the interview process is completed a month back', params_json_schema={'properties': {'input': {'title': 'Input', 'type': 'string'}}, 'required': ['input'], 'title': 'ai_agent1_args', 'type': 'object', 'additionalProperties': False}, on_invoke_tool=<function function_tool.<locals>._create_function_tool.<locals>._on_invoke_tool at 0x000001CECE947D80>, strict_json_schema=True),\n",
       " FunctionTool(name='ai_agent2', description='Write a cold email for a company X which not responding for further process/discussion although all the interview process is completed a month back', params_json_schema={'properties': {'input': {'title': 'Input', 'type': 'string'}}, 'required': ['input'], 'title': 'ai_agent2_args', 'type': 'object', 'additionalProperties': False}, on_invoke_tool=<function function_tool.<locals>._create_function_tool.<locals>._on_invoke_tool at 0x000001CECE947060>, strict_json_schema=True),\n",
       " FunctionTool(name='ai_agent3', description='Write a cold email for a company X which not responding for further process/discussion although all the interview process is completed a month back', params_json_schema={'properties': {'input': {'title': 'Input', 'type': 'string'}}, 'required': ['input'], 'title': 'ai_agent3_args', 'type': 'object', 'additionalProperties': False}, on_invoke_tool=<function function_tool.<locals>._create_function_tool.<locals>._on_invoke_tool at 0x000001CECE946CA0>, strict_json_schema=True),\n",
       " FunctionTool(name='send_email', description='Send out an email with the given body to all company prospects', params_json_schema={'properties': {'body': {'title': 'Body', 'type': 'string'}}, 'required': ['body'], 'title': 'send_email_args', 'type': 'object', 'additionalProperties': False}, on_invoke_tool=<function function_tool.<locals>._create_function_tool.<locals>._on_invoke_tool at 0x000001CECCB64860>, strict_json_schema=True)]"
      ]
     },
     "execution_count": 60,
     "metadata": {},
     "output_type": "execute_result"
    }
   ],
   "source": [
    "description = \"Write a cold email for a company X which not responding for further process/discussion although all the interview process is completed a month back\"\n",
    "\n",
    "tool1 = ai_agent1.as_tool(tool_name=\"ai_agent1\", tool_description=description)\n",
    "tool2 = ai_agent2.as_tool(tool_name=\"ai_agent2\", tool_description=description)\n",
    "tool3 = ai_agent3.as_tool(tool_name=\"ai_agent3\", tool_description=description)\n",
    "\n",
    "tools = [tool1, tool2, tool3, send_email]\n",
    "\n",
    "tools"
   ]
  },
  {
   "cell_type": "markdown",
   "metadata": {},
   "source": [
    "## And now it's time for our Manager - our planning agent"
   ]
  },
  {
   "cell_type": "code",
   "execution_count": 61,
   "metadata": {},
   "outputs": [
    {
     "name": "stdout",
     "output_type": "stream",
     "text": [
      "RunResult:\n",
      "- Last agent: Agent(name=\"HR Manager\", ...)\n",
      "- Final output (str):\n",
      "    OK. I have sent the email.\n",
      "- 11 new item(s)\n",
      "- 5 raw response(s)\n",
      "- 0 input guardrail result(s)\n",
      "- 0 output guardrail result(s)\n",
      "(See `RunResult` for more details)\n"
     ]
    }
   ],
   "source": [
    "instructions = \"You are a manager working for Anand Jain. You use the tools given to you to generate cold emails for the invertviews you have given a month back but didn't heard back from the company. \\\n",
    "Last interview date 13th APR 25 and documents shared on 24th APR 25 for offer processing but no response till now. \\\n",
    "You never generate cold emails yourself; you always use the tools. \\\n",
    "You try all 3 ai_agent tools once before choosing the best one. \\\n",
    "You pick the single best email and use the send_email tool to send the best email (and only the best email) to the user.\"\n",
    "\n",
    "\n",
    "hr_manager = Agent(\n",
    "    name=\"HR Manager\", instructions=instructions, tools=tools, model=openrouter_model\n",
    ")\n",
    "\n",
    "message = \"Send a cold email addressed to 'Dear Recruiter'\"\n",
    "\n",
    "with trace(\"HR manager\"):\n",
    "    result = await Runner.run(hr_manager, message)\n",
    "    print(result)"
   ]
  },
  {
   "cell_type": "markdown",
   "metadata": {},
   "source": [
    "Check traces\n",
    "\n",
    "https://platform.openai.com/traces\n",
    "\n",
    "Then Check email"
   ]
  },
  {
   "cell_type": "markdown",
   "metadata": {},
   "source": [
    "### Handoffs represent a way an agent can delegate to an agent, passing control to it\n",
    "\n",
    "Handoffs and Agents-as-tools are similar:\n",
    "\n",
    "In both cases, an Agent can collaborate with another Agent\n",
    "\n",
    "With tools, control passes back\n",
    "\n",
    "With handoffs, control passes across"
   ]
  },
  {
   "cell_type": "code",
   "execution_count": 62,
   "metadata": {},
   "outputs": [],
   "source": [
    "subject_instructions = \"You can write a subject for a follow-up email to a company after a job interview process. \\\n",
    "The candidate has completed 5 interview rounds and submitted documents for offer processing a month ago but has not received any update. \\\n",
    "You need to write a professional and polite subject line that encourages the company to respond.\"\n",
    "\n",
    "html_instructions = \"You can convert a text email body into an HTML email body. \\\n",
    "The email body is a follow-up message to a company after completing 5 rounds of interviews and submitting documents for offer processing, \\\n",
    "but the candidate has not received any updates in over a month. \\\n",
    "Convert the text into a professional, courteous, and clearly formatted HTML email body.\"\n",
    "\n",
    "subject_writer = Agent(\n",
    "    name=\"Follow-up Email Subject Writer\",\n",
    "    instructions=subject_instructions,\n",
    "    model=gemini_model,\n",
    ")\n",
    "subject_tool = subject_writer.as_tool(\n",
    "    tool_name=\"subject_writer\",\n",
    "    tool_description=\"Write a subject for a follow-up email after interviews\",\n",
    ")\n",
    "\n",
    "html_converter = Agent(\n",
    "    name=\"HTML Follow-up Email Converter\",\n",
    "    instructions=html_instructions,\n",
    "    model=gemini_model,\n",
    ")\n",
    "html_tool = html_converter.as_tool(\n",
    "    tool_name=\"html_converter\",\n",
    "    tool_description=\"Convert a follow-up email text into a professional HTML email body\",\n",
    ")"
   ]
  },
  {
   "cell_type": "code",
   "execution_count": 63,
   "metadata": {},
   "outputs": [],
   "source": [
    "@function_tool\n",
    "def send_html_email(subject: str, html_body: str) -> Dict[str, str]:\n",
    "    \"\"\"Send out an email with the given subject and HTML body to all coapany prospects\"\"\"\n",
    "    sg = SendGridAPIClient(api_key=os.environ.get(\"SENDGRID_API_KEY\"))\n",
    "    from_email = Email(\n",
    "        \"anandjain14314_automation.bsojl@slmail.me\"\n",
    "    )  # Change to your verified sender\n",
    "    to_email = To(\"anandjain14314@gmail.com\")  # Change to your recipient\n",
    "    content = Content(\"text/html\", html_body)\n",
    "    mail = Mail(from_email, to_email, subject, content).get()\n",
    "    response = sg.send(mail)\n",
    "    return {\"status\": \"success\"}"
   ]
  },
  {
   "cell_type": "code",
   "execution_count": 64,
   "metadata": {},
   "outputs": [],
   "source": [
    "tools = [subject_tool, html_tool, send_html_email]"
   ]
  },
  {
   "cell_type": "code",
   "execution_count": 65,
   "metadata": {},
   "outputs": [],
   "source": [
    "instructions = \"You are an email formatter and sender. You receive the body of an email to be sent. \\\n",
    "You first use the subject_writer tool to write a subject for the email, then use the html_converter tool to convert the body to HTML. \\\n",
    "Finally, you use the send_html_email tool to send the email with the subject and HTML body.\"\n",
    "\n",
    "\n",
    "emailer_agent = Agent(\n",
    "    name=\"Email Manager\",\n",
    "    instructions=instructions,\n",
    "    tools=tools,\n",
    "    model=gemini_model,\n",
    "    handoff_description=\"Convert an email to HTML and send it\",\n",
    ")"
   ]
  },
  {
   "cell_type": "markdown",
   "metadata": {},
   "source": [
    "Now we have 3 tools and 1 handoff"
   ]
  },
  {
   "cell_type": "code",
   "execution_count": 66,
   "metadata": {},
   "outputs": [
    {
     "name": "stdout",
     "output_type": "stream",
     "text": [
      "[FunctionTool(name='ai_agent1', description='Write a cold email for a company X which not responding for further process/discussion although all the interview process is completed a month back', params_json_schema={'properties': {'input': {'title': 'Input', 'type': 'string'}}, 'required': ['input'], 'title': 'ai_agent1_args', 'type': 'object', 'additionalProperties': False}, on_invoke_tool=<function function_tool.<locals>._create_function_tool.<locals>._on_invoke_tool at 0x000001CECE947D80>, strict_json_schema=True), FunctionTool(name='ai_agent2', description='Write a cold email for a company X which not responding for further process/discussion although all the interview process is completed a month back', params_json_schema={'properties': {'input': {'title': 'Input', 'type': 'string'}}, 'required': ['input'], 'title': 'ai_agent2_args', 'type': 'object', 'additionalProperties': False}, on_invoke_tool=<function function_tool.<locals>._create_function_tool.<locals>._on_invoke_tool at 0x000001CECE947060>, strict_json_schema=True), FunctionTool(name='ai_agent3', description='Write a cold email for a company X which not responding for further process/discussion although all the interview process is completed a month back', params_json_schema={'properties': {'input': {'title': 'Input', 'type': 'string'}}, 'required': ['input'], 'title': 'ai_agent3_args', 'type': 'object', 'additionalProperties': False}, on_invoke_tool=<function function_tool.<locals>._create_function_tool.<locals>._on_invoke_tool at 0x000001CECE946CA0>, strict_json_schema=True)]\n",
      "[Agent(name='Email Manager', instructions='You are an email formatter and sender. You receive the body of an email to be sent. You first use the subject_writer tool to write a subject for the email, then use the html_converter tool to convert the body to HTML. Finally, you use the send_html_email tool to send the email with the subject and HTML body.', handoff_description='Convert an email to HTML and send it', handoffs=[], model=<agents.models.openai_chatcompletions.OpenAIChatCompletionsModel object at 0x000001CECCA65D30>, model_settings=ModelSettings(temperature=None, top_p=None, frequency_penalty=None, presence_penalty=None, tool_choice=None, parallel_tool_calls=None, truncation=None, max_tokens=None, reasoning=None, metadata=None, store=None, include_usage=None, extra_query=None, extra_body=None, extra_headers=None), tools=[FunctionTool(name='subject_writer', description='Write a subject for a follow-up email after interviews', params_json_schema={'properties': {'input': {'title': 'Input', 'type': 'string'}}, 'required': ['input'], 'title': 'subject_writer_args', 'type': 'object', 'additionalProperties': False}, on_invoke_tool=<function function_tool.<locals>._create_function_tool.<locals>._on_invoke_tool at 0x000001CECE99E5C0>, strict_json_schema=True), FunctionTool(name='html_converter', description='Convert a follow-up email text into a professional HTML email body', params_json_schema={'properties': {'input': {'title': 'Input', 'type': 'string'}}, 'required': ['input'], 'title': 'html_converter_args', 'type': 'object', 'additionalProperties': False}, on_invoke_tool=<function function_tool.<locals>._create_function_tool.<locals>._on_invoke_tool at 0x000001CECE99DA80>, strict_json_schema=True), FunctionTool(name='send_html_email', description='Send out an email with the given subject and HTML body to all coapany prospects', params_json_schema={'properties': {'subject': {'title': 'Subject', 'type': 'string'}, 'html_body': {'title': 'Html Body', 'type': 'string'}}, 'required': ['subject', 'html_body'], 'title': 'send_html_email_args', 'type': 'object', 'additionalProperties': False}, on_invoke_tool=<function function_tool.<locals>._create_function_tool.<locals>._on_invoke_tool at 0x000001CECCADB560>, strict_json_schema=True)], mcp_servers=[], mcp_config={}, input_guardrails=[], output_guardrails=[], output_type=None, hooks=None, tool_use_behavior='run_llm_again', reset_tool_choice=True)]\n"
     ]
    }
   ],
   "source": [
    "tools = [tool1, tool2, tool3]\n",
    "handoffs = [emailer_agent]\n",
    "print(tools)\n",
    "print(handoffs)"
   ]
  },
  {
   "cell_type": "code",
   "execution_count": 69,
   "metadata": {},
   "outputs": [],
   "source": [
    "followup_manager_instructions = \"You are a candidate follow-up manager working on behalf of a job applicant name Anand Jain. \\\n",
    "You use the tools given to you to generate professional follow-up emails. \\\n",
    "You never generate the follow-up email yourself; you always use the tools. \\\n",
    "You try all 3 follow-up email generator tools at least once before choosing the best one. \\\n",
    "You can use the tools multiple times if you're not satisfied with the results from the first try. \\\n",
    "You select the single best email using your own judgement of which email will be most effective in encouraging a response. \\\n",
    "After picking the email, you hand off to the Email Manager agent to format and send the email.\"\n",
    "\n",
    "followup_manager = Agent(\n",
    "    name=\"Follow-up Manager\",\n",
    "    instructions=followup_manager_instructions,\n",
    "    tools=tools,\n",
    "    handoffs=handoffs,\n",
    "    model=gemini_model,\n",
    ")\n",
    "\n",
    "message = \"Generate a professional follow-up email to the HR or recruitment team. \\\n",
    "The candidate has completed 5 interview rounds and submitted all required documents over a month ago but has not received any update. \\\n",
    "The email should be polite, concise, and show continued interest in the position.\"\n",
    "\n",
    "with trace(\"Automated Candidate Follow-up\"):\n",
    "    result = await Runner.run(followup_manager, message)"
   ]
  },
  {
   "cell_type": "markdown",
   "metadata": {},
   "source": [
    "Check traces\n",
    "\n",
    "https://platform.openai.com/traces\n",
    "\n",
    "Then Check email"
   ]
  }
 ],
 "metadata": {
  "kernelspec": {
   "display_name": ".venv",
   "language": "python",
   "name": "python3"
  },
  "language_info": {
   "codemirror_mode": {
    "name": "ipython",
    "version": 3
   },
   "file_extension": ".py",
   "mimetype": "text/x-python",
   "name": "python",
   "nbconvert_exporter": "python",
   "pygments_lexer": "ipython3",
   "version": "3.12.10"
  }
 },
 "nbformat": 4,
 "nbformat_minor": 2
}
