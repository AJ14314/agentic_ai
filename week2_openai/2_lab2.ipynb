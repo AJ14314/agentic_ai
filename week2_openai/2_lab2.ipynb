{
 "cells": [
  {
   "cell_type": "markdown",
   "metadata": {},
   "source": [
    "We're going to build a simple Agent system for generating cold outreach emails:\n",
    "1. Agent workflow\n",
    "2. Use of tools to call functions\n",
    "3. Agent collaboration via Tools and Handoffs"
   ]
  },
  {
   "cell_type": "markdown",
   "metadata": {},
   "source": [
    "## Before we start - some setup:\n",
    "\n",
    "Please visit Sendgrid at: https://sendgrid.com/\n",
    "\n",
    "(Sendgrid is a Twilio company for sending emails.)\n",
    "\n",
    "Please set up an account - it's free! (at least, for me, right now).\n",
    "\n",
    "Once you've created an account, click on:\n",
    "\n",
    "Settings (left sidebar) >> API Keys >> Create API Key (button on top right)\n",
    "\n",
    "Copy the key to the clipboard, then add a new line to your .env file:\n",
    "\n",
    "`SENDGRID_API_KEY=xxxx`\n",
    "\n",
    "And also, within SendGrid, go to:\n",
    "\n",
    "Settings (left sidebar) >> Sender Authentication >> \"Verify a Single Sender\"  \n",
    "and verify that your own email address is a real email address, so that SendGrid can send emails for you."
   ]
  },
  {
   "cell_type": "code",
   "execution_count": 1,
   "metadata": {},
   "outputs": [],
   "source": [
    "from dotenv import load_dotenv\n",
    "from agents import Agent, Runner, trace, function_tool, OpenAIChatCompletionsModel\n",
    "from openai import AsyncOpenAI\n",
    "from openai.types.responses import ResponseTextDeltaEvent\n",
    "from typing import Dict\n",
    "from sendgrid import SendGridAPIClient\n",
    "import os\n",
    "from sendgrid.helpers.mail import Mail, Email, To, Content\n",
    "import asyncio"
   ]
  },
  {
   "cell_type": "code",
   "execution_count": 2,
   "metadata": {},
   "outputs": [
    {
     "data": {
      "text/plain": [
       "True"
      ]
     },
     "execution_count": 2,
     "metadata": {},
     "output_type": "execute_result"
    }
   ],
   "source": [
    "load_dotenv(override=True)"
   ]
  },
  {
   "cell_type": "code",
   "execution_count": 3,
   "metadata": {},
   "outputs": [],
   "source": [
    "instructions1 = \"You are a AI agent working for Anand Jain, \\\n",
    "a person who is actively looking for job change and very professional in nature. \\\n",
    "Email: anandjain2507@gmail.com. \\\n",
    "You write professional, serious cold emails.\"\n",
    "\n",
    "instructions2 = \"You are a humorous, engaging AI agent working for Anand Jain, \\\n",
    "a person who is actively looking for job change and very professional in nature. \\\n",
    "Email: anandjain2507@gmail.com. \\\n",
    "You write witty, engaging cold emails that are likely to get a response.\"\n",
    "\n",
    "instructions3 = \"You are a busy AI agent working for Anand Jain, \\\n",
    "a person who is actively looking for job change and very professional in nature. \\\n",
    "Email: anandjain2507@gmail.com. \\\n",
    "You write concise, to the point cold emails.\""
   ]
  },
  {
   "cell_type": "code",
   "execution_count": 4,
   "metadata": {},
   "outputs": [],
   "source": [
    "OPENROUTER_BASE_URL = \"https://openrouter.ai/api/v1\"\n",
    "openrouter_client = AsyncOpenAI(base_url=OPENROUTER_BASE_URL, api_key=os.getenv(\"OPENROUTER_API_KEY\"))\n",
    "openrouter_model = OpenAIChatCompletionsModel(model=\"meta-llama/llama-3.3-8b-instruct:free\", openai_client=openrouter_client)"
   ]
  },
  {
   "cell_type": "code",
   "execution_count": 5,
   "metadata": {},
   "outputs": [],
   "source": [
    "GEMINI_BASE_URL = \"https://generativelanguage.googleapis.com/v1beta/openai/\"\n",
    "gemini_client = AsyncOpenAI(base_url=GEMINI_BASE_URL, api_key=os.getenv(\"GEMINI_API_KEY\"))\n",
    "gemini_model = OpenAIChatCompletionsModel(model=\"gemini-2.0-flash\", openai_client=gemini_client)\n",
    "openrouter_model=gemini_model"
   ]
  },
  {
   "cell_type": "code",
   "execution_count": 6,
   "metadata": {},
   "outputs": [],
   "source": [
    "ai_agent1 = Agent(\n",
    "    name=\"Professional AI Agent\",\n",
    "    instructions=instructions1,\n",
    "    model=openrouter_model\n",
    ")\n",
    "\n",
    "ai_agent2 = Agent(\n",
    "    name=\"Engaging AI Agent\",\n",
    "    instructions=instructions2,\n",
    "    model=openrouter_model\n",
    ")\n",
    "\n",
    "ai_agent3 = Agent(\n",
    "    name=\"Busy AI Agent\",\n",
    "    instructions=instructions3,\n",
    "    model=openrouter_model\n",
    ")"
   ]
  },
  {
   "cell_type": "code",
   "execution_count": 7,
   "metadata": {},
   "outputs": [
    {
     "name": "stdout",
     "output_type": "stream",
     "text": [
      "Subject: Following Up - [Your Name] - Application for [Job Title]\n",
      "\n",
      "Dear [Hiring Manager Name or To Whom It May Concern],\n",
      "\n",
      "I hope this email finds you well.\n",
      "\n",
      "I am writing to follow up on my application and interviews for the [Job Title] position at [Company X]. I completed the interview process on [Date of Last Interview] and am very enthusiastic about the opportunity to contribute to [Company X]'s work in [Mention specific area of the company's work that interests you].\n",
      "\n",
      "During the interviews, I was particularly impressed with [Mention something specific you learned or discussed during the interview process that resonated with you]. My skills and experience in [Mention 2-3 relevant skills] align well with the requirements discussed and I am confident I can make a significant contribution to your team.\n",
      "\n",
      "I understand that hiring decisions can take time, and I appreciate your consideration. However, as I am actively pursuing career opportunities, I would greatly appreciate an update on the status of my application.\n",
      "\n",
      "Thank you for your time and attention. I look forward to hearing from you soon.\n",
      "\n",
      "Sincerely,\n",
      "\n",
      "Anand Jain\n",
      "anandjain2507@gmail.com\n"
     ]
    }
   ],
   "source": [
    "result = Runner.run_streamed(ai_agent1,input=\"Write a cold email for a company X which not responding although all the interview process is completed a month back\")\n",
    "async for event in result.stream_events():\n",
    "    if event.type == \"raw_response_event\" and isinstance(event.data, ResponseTextDeltaEvent):\n",
    "        print(event.data.delta, end=\"\", flush=True)"
   ]
  },
  {
   "cell_type": "code",
   "execution_count": 8,
   "metadata": {},
   "outputs": [
    {
     "name": "stdout",
     "output_type": "stream",
     "text": [
      "Subject: Following Up - [Your Name] - [Job Title] Application at [Company X]\n",
      "\n",
      "Dear [Hiring Manager Name or To Whom It May Concern],\n",
      "\n",
      "I hope this email finds you well.\n",
      "\n",
      "I am writing to follow up on my application for the [Job Title] position at [Company X]. As you know, I completed the interview process on [Date of Last Interview]. I thoroughly enjoyed learning more about the role and [Company X]'s work in [Industry/Specific Area].\n",
      "\n",
      "During our conversations, I was particularly impressed by [Mention something specific you discussed and found interesting]. I remain very enthusiastic about the opportunity to contribute to [Company X] and believe my skills and experience in [Mention 2-3 relevant skills] align well with the requirements of this position.\n",
      "\n",
      "I understand that hiring decisions can take time. However, I would be grateful for an update on the status of my application. Please let me know if any further information is needed from my end.\n",
      "\n",
      "Thank you for your time and consideration.\n",
      "\n",
      "Sincerely,\n",
      "\n",
      "Anand Jain\n",
      "anandjain2507@gmail.com\n",
      "\n",
      "\n",
      "\n",
      "Subject: Checking In: Am I Still Dreaming of Being a [Job Title] at [Company X]?\n",
      "\n",
      "Dear [Hiring Manager Name],\n",
      "\n",
      "Hope you're doing spectacularly well! Or at least having a better Monday than most (because, let's face it, Mondays).\n",
      "\n",
      "I'm just checking in on my application for the [Job Title] role. Remember me? I'm the one who [insert a memorable, positive detail from the interview process - e.g., \"almost aced the whiteboard challenge,\" or \"brought the good coffee during the interview,\" or \"told that hilarious joke about [relevant industry term]\"].\n",
      "\n",
      "It’s been a month since our final interview, and while I've been patiently practicing my acceptance speech in the mirror (it involves thanking you profusely, naturally), I'm starting to wonder if my application ended up in a black hole – the kind that sucks in socks and important career decisions.\n",
      "\n",
      "Seriously though, I understand things get busy. Just wanted to nudge you gently and see if there's any news on the horizon. I'm still incredibly enthusiastic about the opportunity to contribute my [mention 1-2 relevant skills/experiences] to [Company X], especially given [mention something specific about the company that excites you].\n",
      "\n",
      "If I'm no longer in the running, that's perfectly alright too! A quick \"no\" is better than an eternity of suspense. (Plus, it'll give me more time to perfect my acceptance speech for another company... just kidding! Mostly.)\n",
      "\n",
      "Thanks for your time and consideration. Looking forward to hearing from you, whenever you're free from battling interdimensional sock monsters.\n",
      "\n",
      "Best Regards,\n",
      "\n",
      "Anand Jain\n",
      "\n",
      "anandjain2507@gmail.com\n",
      "\n",
      "\n",
      "\n",
      "Subject: Following Up - Anand Jain - [Job Title You Interviewed For]\n",
      "\n",
      "Dear [Hiring Manager Name or Recruiter Name],\n",
      "\n",
      "I hope this email finds you well.\n",
      "\n",
      "I'm writing to follow up on my interview for the [Job Title] position at [Company X]. I completed the interview process on [Date of Last Interview].\n",
      "\n",
      "I remain very interested in this opportunity. Please let me know if there are any updates on the hiring timeline.\n",
      "\n",
      "Thank you for your time and consideration.\n",
      "\n",
      "Sincerely,\n",
      "\n",
      "Anand Jain\n",
      "anandjain2507@gmail.com\n",
      "\n",
      "\n",
      "\n"
     ]
    }
   ],
   "source": [
    "message = \"Write a cold email for a company X which not responding for further process/discussion although all the interview process is completed a month back\"\n",
    "\n",
    "with trace(\"Parallel cold emails\"):\n",
    "    results = await asyncio.gather(\n",
    "        Runner.run(ai_agent1, message),\n",
    "        Runner.run(ai_agent2, message),\n",
    "        Runner.run(ai_agent3, message),\n",
    "    )\n",
    "\n",
    "outputs = [result.final_output for result in results]\n",
    "\n",
    "for output in outputs:\n",
    "    print(output+ \"\\n\\n\")\n"
   ]
  },
  {
   "cell_type": "code",
   "execution_count": 9,
   "metadata": {},
   "outputs": [],
   "source": [
    "ai_picker = Agent(\n",
    "    name=\"ai_picker\",\n",
    "    instructions=\"You are a helpful assistant that picks the best AI agent response for the cold email from the given options. \\\n",
    "        Imagine you are a employer for software company and pick the one you are most likely to respond to. \\\n",
    "        Do not give an explanation; reply with the selected email only\",\n",
    "    model=openrouter_model\n",
    ")"
   ]
  },
  {
   "cell_type": "code",
   "execution_count": 10,
   "metadata": {},
   "outputs": [
    {
     "name": "stdout",
     "output_type": "stream",
     "text": [
      "Best cold email:\n",
      "Subject: Following Up: [Your Name] - [Job Title] Application - [Company X]\n",
      "\n",
      "Dear [Hiring Manager Name, if known, otherwise \"Hiring Team\"],\n",
      "\n",
      "I hope this email finds you well.\n",
      "\n",
      "I am writing to follow up on my application and interviews for the [Job Title] position at [Company X]. I completed the interview process on [Date of last interview], and I remain very interested in the opportunity.\n",
      "\n",
      "I was particularly impressed with [Mention something specific you learned or discussed during the interview process that resonated with you. Be specific and genuine]. My skills and experience in [Mention 1-2 key skills relevant to the role] align well with the requirements we discussed, and I am confident I can contribute significantly to [Company X]'s goals in [Mention a specific area].\n",
      "\n",
      "I understand that hiring decisions can take time. However, I am eager to learn about the next steps in the process. Would it be possible to get an update on the timeline for a decision?\n",
      "\n",
      "Thank you for your time and consideration. I look forward to hearing from you soon.\n",
      "\n",
      "Sincerely,\n",
      "\n",
      "Anand Jain\n",
      "anandjain2507@gmail.com\n",
      "\n"
     ]
    }
   ],
   "source": [
    "message = \"Write a cold email for a company X which not responding for further process/discussion although all the interview process is completed a month back\"\n",
    "\n",
    "with trace(\"Selection from employer people\"):\n",
    "    results = await asyncio.gather(\n",
    "        Runner.run(ai_agent1, message),\n",
    "        Runner.run(ai_agent2, message),\n",
    "        Runner.run(ai_agent3, message),\n",
    "    )\n",
    "\n",
    "outputs = [result.final_output for result in results]\n",
    "\n",
    "emails = \"Cold emails:\\n\\n\".join(outputs)\n",
    "\n",
    "best = await Runner.run(ai_picker, emails)\n",
    "\n",
    "print(f\"Best cold email:\\n{best.final_output}\")"
   ]
  },
  {
   "cell_type": "markdown",
   "metadata": {},
   "source": [
    "Now go and check out the trace:\n",
    "\n",
    "https://platform.openai.com/traces"
   ]
  },
  {
   "cell_type": "markdown",
   "metadata": {},
   "source": [
    "## Part 2: use of tools\n",
    "\n",
    "Now we will add a tool to the mix.\n",
    "\n",
    "Remember all that json boilerplate and the `handle_tool_calls()` function with the if logic.."
   ]
  },
  {
   "cell_type": "code",
   "execution_count": 11,
   "metadata": {},
   "outputs": [],
   "source": [
    "ai_agent1 = Agent(\n",
    "    name=\"Professional AI Agent\",\n",
    "    instructions=instructions1,\n",
    "    model=openrouter_model\n",
    ")\n",
    "\n",
    "ai_agent2 = Agent(\n",
    "    name=\"Engaging AI Agent\",\n",
    "    instructions=instructions2,\n",
    "    model=openrouter_model\n",
    ")\n",
    "\n",
    "ai_agent3 = Agent(\n",
    "    name=\"Busy AI Agent\",\n",
    "    instructions=instructions3,\n",
    "    model=openrouter_model\n",
    ")"
   ]
  },
  {
   "cell_type": "code",
   "execution_count": 12,
   "metadata": {},
   "outputs": [
    {
     "data": {
      "text/plain": [
       "Agent(name='Professional AI Agent', instructions='You are a AI agent working for Anand Jain, a person who is actively looking for job change and very professional in nature. Email: anandjain2507@gmail.com. You write professional, serious cold emails.', handoff_description=None, handoffs=[], model=<agents.models.openai_chatcompletions.OpenAIChatCompletionsModel object at 0x000001DC0D2E9AF0>, model_settings=ModelSettings(temperature=None, top_p=None, frequency_penalty=None, presence_penalty=None, tool_choice=None, parallel_tool_calls=None, truncation=None, max_tokens=None, reasoning=None, metadata=None, store=None, include_usage=None, extra_query=None, extra_body=None, extra_headers=None), tools=[], mcp_servers=[], mcp_config={}, input_guardrails=[], output_guardrails=[], output_type=None, hooks=None, tool_use_behavior='run_llm_again', reset_tool_choice=True)"
      ]
     },
     "execution_count": 12,
     "metadata": {},
     "output_type": "execute_result"
    }
   ],
   "source": [
    "ai_agent1"
   ]
  },
  {
   "cell_type": "markdown",
   "metadata": {},
   "source": [
    "## Steps 2 and 3: Tools and Agent interactions\n",
    "\n",
    "Remember all that boilerplate json?\n",
    "\n",
    "Simply wrap your function with the decorator `@function_tool`"
   ]
  },
  {
   "cell_type": "code",
   "execution_count": 13,
   "metadata": {},
   "outputs": [],
   "source": [
    "@function_tool\n",
    "def send_email(body: str):\n",
    "    \"\"\" Send out an email with the given body to all company prospects \"\"\"\n",
    "    sg = SendGridAPIClient(api_key=os.environ.get('SENDGRID_API_KEY'))\n",
    "    from_email = Email(\"anandjain14314_automation.bsojl@slmail.me\")  # Change to your verified sender\n",
    "    to_email = To(\"anandjain14314@gmail.com\")  # Change to your recipient\n",
    "    content = Content(\"text/plain\", body)\n",
    "    mail = Mail(from_email, to_email, \"Follow up email\", content).get()\n",
    "    response = sg.send(mail)\n",
    "    print(response.status_code)\n",
    "    print(response.body)\n",
    "    print(response.headers)\n",
    "    return {\"status\": \"success\"}"
   ]
  },
  {
   "cell_type": "markdown",
   "metadata": {},
   "source": [
    "### This has automatically been converted into a tool, with the boilerplate json created"
   ]
  },
  {
   "cell_type": "code",
   "execution_count": 14,
   "metadata": {},
   "outputs": [
    {
     "data": {
      "text/plain": [
       "FunctionTool(name='send_email', description='Send out an email with the given body to all company prospects', params_json_schema={'properties': {'body': {'title': 'Body', 'type': 'string'}}, 'required': ['body'], 'title': 'send_email_args', 'type': 'object', 'additionalProperties': False}, on_invoke_tool=<function function_tool.<locals>._create_function_tool.<locals>._on_invoke_tool at 0x000001DC0C09F1A0>, strict_json_schema=True)"
      ]
     },
     "execution_count": 14,
     "metadata": {},
     "output_type": "execute_result"
    }
   ],
   "source": [
    "send_email"
   ]
  },
  {
   "cell_type": "markdown",
   "metadata": {},
   "source": [
    "### And you can also convert an Agent into a tool"
   ]
  },
  {
   "cell_type": "code",
   "execution_count": 15,
   "metadata": {},
   "outputs": [
    {
     "data": {
      "text/plain": [
       "FunctionTool(name='ai_agent1', description='Write a cold email for a company X which not responding for further process/discussion although all the interview process is completed a month back', params_json_schema={'properties': {'input': {'title': 'Input', 'type': 'string'}}, 'required': ['input'], 'title': 'ai_agent1_args', 'type': 'object', 'additionalProperties': False}, on_invoke_tool=<function function_tool.<locals>._create_function_tool.<locals>._on_invoke_tool at 0x000001DC0D76CEA0>, strict_json_schema=True)"
      ]
     },
     "execution_count": 15,
     "metadata": {},
     "output_type": "execute_result"
    }
   ],
   "source": [
    "tool1 = ai_agent1.as_tool(tool_name=\"ai_agent1\", tool_description=\"Write a cold email for a company X which not responding for further process/discussion although all the interview process is completed a month back\")\n",
    "tool1"
   ]
  },
  {
   "cell_type": "markdown",
   "metadata": {},
   "source": [
    "### So now we can gather all the tools together:\n",
    "\n",
    "A tool for each of our 3 email-writing agents\n",
    "\n",
    "And a tool for our function to send emails"
   ]
  },
  {
   "cell_type": "code",
   "execution_count": 16,
   "metadata": {},
   "outputs": [
    {
     "data": {
      "text/plain": [
       "[FunctionTool(name='ai_agent1', description='Write a cold email for a company X which not responding for further process/discussion although all the interview process is completed a month back', params_json_schema={'properties': {'input': {'title': 'Input', 'type': 'string'}}, 'required': ['input'], 'title': 'ai_agent1_args', 'type': 'object', 'additionalProperties': False}, on_invoke_tool=<function function_tool.<locals>._create_function_tool.<locals>._on_invoke_tool at 0x000001DC0B7A8900>, strict_json_schema=True),\n",
       " FunctionTool(name='ai_agent2', description='Write a cold email for a company X which not responding for further process/discussion although all the interview process is completed a month back', params_json_schema={'properties': {'input': {'title': 'Input', 'type': 'string'}}, 'required': ['input'], 'title': 'ai_agent2_args', 'type': 'object', 'additionalProperties': False}, on_invoke_tool=<function function_tool.<locals>._create_function_tool.<locals>._on_invoke_tool at 0x000001DC0B7AB2E0>, strict_json_schema=True),\n",
       " FunctionTool(name='ai_agent3', description='Write a cold email for a company X which not responding for further process/discussion although all the interview process is completed a month back', params_json_schema={'properties': {'input': {'title': 'Input', 'type': 'string'}}, 'required': ['input'], 'title': 'ai_agent3_args', 'type': 'object', 'additionalProperties': False}, on_invoke_tool=<function function_tool.<locals>._create_function_tool.<locals>._on_invoke_tool at 0x000001DC0B76F100>, strict_json_schema=True),\n",
       " FunctionTool(name='send_email', description='Send out an email with the given body to all company prospects', params_json_schema={'properties': {'body': {'title': 'Body', 'type': 'string'}}, 'required': ['body'], 'title': 'send_email_args', 'type': 'object', 'additionalProperties': False}, on_invoke_tool=<function function_tool.<locals>._create_function_tool.<locals>._on_invoke_tool at 0x000001DC0C09F1A0>, strict_json_schema=True)]"
      ]
     },
     "execution_count": 16,
     "metadata": {},
     "output_type": "execute_result"
    }
   ],
   "source": [
    "description = \"Write a cold email for a company X which not responding for further process/discussion although all the interview process is completed a month back\"\n",
    "\n",
    "tool1 = ai_agent1.as_tool(tool_name=\"ai_agent1\", tool_description=description)\n",
    "tool2 = ai_agent2.as_tool(tool_name=\"ai_agent2\", tool_description=description)\n",
    "tool3 = ai_agent3.as_tool(tool_name=\"ai_agent3\", tool_description=description)\n",
    "\n",
    "tools = [tool1, tool2, tool3, send_email]\n",
    "\n",
    "tools"
   ]
  },
  {
   "cell_type": "markdown",
   "metadata": {},
   "source": [
    "## And now it's time for our Manager - our planning agent"
   ]
  },
  {
   "cell_type": "code",
   "execution_count": 19,
   "metadata": {},
   "outputs": [
    {
     "name": "stdout",
     "output_type": "stream",
     "text": [
      "202\n",
      "b''\n",
      "Server: nginx\n",
      "Date: Wed, 21 May 2025 17:43:26 GMT\n",
      "Content-Length: 0\n",
      "Connection: close\n",
      "X-Message-Id: 8TYU90CyTki-44h9juWgrA\n",
      "Access-Control-Allow-Origin: https://sendgrid.api-docs.io\n",
      "Access-Control-Allow-Methods: POST\n",
      "Access-Control-Allow-Headers: Authorization, Content-Type, On-behalf-of, x-sg-elas-acl\n",
      "Access-Control-Max-Age: 600\n",
      "X-No-CORS-Reason: https://sendgrid.com/docs/Classroom/Basics/API/cors.html\n",
      "Strict-Transport-Security: max-age=31536000; includeSubDomains\n",
      "Content-Security-Policy: frame-ancestors 'none'\n",
      "Cache-Control: no-cache\n",
      "X-Content-Type-Options: no-sniff\n",
      "Referrer-Policy: strict-origin-when-cross-origin\n",
      "\n",
      "\n",
      "RunResult:\n",
      "- Last agent: Agent(name=\"HR Manager\", ...)\n",
      "- Final output (str):\n",
      "    Okay, I've sent the email.\n",
      "- 13 new item(s)\n",
      "- 5 raw response(s)\n",
      "- 0 input guardrail result(s)\n",
      "- 0 output guardrail result(s)\n",
      "(See `RunResult` for more details)\n"
     ]
    }
   ],
   "source": [
    "instructions =\"You are a manager working for Anand Jain. You use the tools given to you to generate cold emails for the invertviews you have given a month back but didn't heard back from the company. \\\n",
    "Last interview date 13th APR 25 and documents shared on 24th APR 25 for offer processing but no response till now. \\\n",
    "You never generate cold emails yourself; you always use the tools. \\\n",
    "You try all 3 ai_agent tools once before choosing the best one. \\\n",
    "You pick the single best email and use the send_email tool to send the best email (and only the best email) to the user.\"\n",
    "\n",
    "\n",
    "hr_manager = Agent(name=\"HR Manager\", instructions=instructions, tools=tools, model=openrouter_model)\n",
    "\n",
    "message = \"Send a cold email addressed to 'Dear Recruiter'\"\n",
    "\n",
    "with trace(\"HR manager\"):\n",
    "    result = await Runner.run(hr_manager, message)\n",
    "    print(result)"
   ]
  },
  {
   "cell_type": "code",
   "execution_count": null,
   "metadata": {},
   "outputs": [],
   "source": []
  }
 ],
 "metadata": {
  "kernelspec": {
   "display_name": ".venv",
   "language": "python",
   "name": "python3"
  },
  "language_info": {
   "codemirror_mode": {
    "name": "ipython",
    "version": 3
   },
   "file_extension": ".py",
   "mimetype": "text/x-python",
   "name": "python",
   "nbconvert_exporter": "python",
   "pygments_lexer": "ipython3",
   "version": "3.12.10"
  }
 },
 "nbformat": 4,
 "nbformat_minor": 2
}
