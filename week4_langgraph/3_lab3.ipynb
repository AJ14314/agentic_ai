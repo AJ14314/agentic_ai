{
 "cells": [
  {
   "cell_type": "markdown",
   "metadata": {},
   "source": [
    "### First - a heads up for Windows PC users\n",
    "\n",
    "While executing this notebook, you might hit a problem with the Playwright browser raising a NotImplementedError.\n",
    "\n",
    "This should work when we move to python modules, but it can cause problems in Windows in a notebook.\n",
    "\n",
    "If you it this error and would like to run the notebook, you need to make a small change which seems quite hacky!\n",
    "\n",
    "1. Right click in `.venv` in the File Explorer on the left and select \"Find in folder\"\n",
    "2. Search for `asyncio.set_event_loop_policy(WindowsSelectorEventLoopPolicy())`  \n",
    "3. That code should be found in a line of code in a file called `kernelapp.py`\n",
    "4. Comment out that line of code in that file! And save the file.\n",
    "5. Restart the kernel by pressing the \"Restart\" button above\n",
    "\n",
    "Thank you to student Nicolas for finding this, and to Yaki, Zibin and Bhaskar for confirming that this worked for them!"
   ]
  },
  {
   "cell_type": "code",
   "execution_count": 15,
   "metadata": {},
   "outputs": [],
   "source": [
    "from typing import Annotated\n",
    "from typing_extensions import TypedDict\n",
    "from langgraph.graph import StateGraph, START\n",
    "from langgraph.graph.message import add_messages\n",
    "from dotenv import load_dotenv\n",
    "from IPython.display import Image, display\n",
    "import gradio as gr\n",
    "from typing_extensions import TypedDict\n",
    "from langgraph.graph import StateGraph\n",
    "from langgraph.graph.message import add_messages\n",
    "from langgraph.prebuilt import ToolNode, tools_condition\n",
    "import requests\n",
    "import os\n",
    "from langchain.agents import Tool\n",
    "\n",
    "from langchain_groq import ChatGroq\n",
    "from langgraph.checkpoint.memory import MemorySaver"
   ]
  },
  {
   "cell_type": "code",
   "execution_count": 2,
   "metadata": {},
   "outputs": [
    {
     "data": {
      "text/plain": [
       "True"
      ]
     },
     "execution_count": 2,
     "metadata": {},
     "output_type": "execute_result"
    }
   ],
   "source": [
    "load_dotenv(override=True)"
   ]
  },
  {
   "cell_type": "markdown",
   "metadata": {},
   "source": [
    "### Asynchronous LangGraph\n",
    "\n",
    "To run a tool:  \n",
    "Sync: `tool.run(inputs)`  \n",
    "Async: `await tool.arun(inputs)`\n",
    "\n",
    "To invoke the graph:  \n",
    "Sync: `graph.invoke(state)`  \n",
    "Async: `await graph.ainvoke(state)`"
   ]
  },
  {
   "cell_type": "code",
   "execution_count": 3,
   "metadata": {},
   "outputs": [],
   "source": [
    "class State(TypedDict):\n",
    "    messages: Annotated[list, add_messages]\n",
    "\n",
    "graph_builder = StateGraph(State)"
   ]
  },
  {
   "cell_type": "code",
   "execution_count": 4,
   "metadata": {},
   "outputs": [],
   "source": [
    "pushover_token = os.getenv(\"PUSHOVER_TOKEN\")\n",
    "pushover_user = os.getenv(\"PUSHOVER_USER\")\n",
    "pushover_url = \"https://api.pushover.net/1/messages.json\"\n",
    "\n",
    "def push(text: str):\n",
    "    \"\"\"Send a push notification to the user\"\"\"\n",
    "    requests.post(pushover_url, data = {\"token\": pushover_token, \"user\": pushover_user, \"message\": text})\n",
    "\n",
    "tool_push = Tool(\n",
    "        name=\"send_push_notification\",\n",
    "        func=push,\n",
    "        description=\"useful for when you want to send a push notification\"\n",
    "    )"
   ]
  },
  {
   "cell_type": "markdown",
   "metadata": {},
   "source": [
    "### Next: Install Playwright\n",
    "\n",
    "On Windows and MacOS:  \n",
    "`playwright install`\n",
    "\n",
    "On Linux:  \n",
    "`playwright install —with-reps chromium`"
   ]
  },
  {
   "cell_type": "markdown",
   "metadata": {},
   "source": [
    "### Introducing nest_asyncio\n",
    "\n",
    "Python async code only allows for one \"event loop\" processing aynchronous events.\n",
    "\n",
    "The `nest_asyncio` library patches this, and is used for special situations, if you need to run a nested event loop."
   ]
  },
  {
   "cell_type": "code",
   "execution_count": 5,
   "metadata": {},
   "outputs": [],
   "source": [
    "import nest_asyncio\n",
    "nest_asyncio.apply()"
   ]
  },
  {
   "cell_type": "markdown",
   "metadata": {},
   "source": [
    "### The LangChain community\n",
    "\n",
    "One of the remarkable things about LangChain is the rich community around it.\n",
    "\n",
    "Check this out:"
   ]
  },
  {
   "cell_type": "code",
   "execution_count": 6,
   "metadata": {},
   "outputs": [],
   "source": [
    "from langchain_community.agent_toolkits import PlayWrightBrowserToolkit\n",
    "from langchain_community.tools.playwright.utils import create_async_playwright_browser\n",
    "\n",
    "async_browser =  create_async_playwright_browser(headless=False)\n",
    "toolkit = PlayWrightBrowserToolkit.from_browser(async_browser=async_browser)\n",
    "tools = toolkit.get_tools()"
   ]
  },
  {
   "cell_type": "code",
   "execution_count": 7,
   "metadata": {},
   "outputs": [
    {
     "name": "stdout",
     "output_type": "stream",
     "text": [
      "click_element=async_browser=<Browser type=<BrowserType name=chromium executable_path=C:\\Users\\anand\\AppData\\Local\\ms-playwright\\chromium-1169\\chrome-win\\chrome.exe> version=136.0.7103.25>\n",
      "navigate_browser=async_browser=<Browser type=<BrowserType name=chromium executable_path=C:\\Users\\anand\\AppData\\Local\\ms-playwright\\chromium-1169\\chrome-win\\chrome.exe> version=136.0.7103.25>\n",
      "previous_webpage=async_browser=<Browser type=<BrowserType name=chromium executable_path=C:\\Users\\anand\\AppData\\Local\\ms-playwright\\chromium-1169\\chrome-win\\chrome.exe> version=136.0.7103.25>\n",
      "extract_text=async_browser=<Browser type=<BrowserType name=chromium executable_path=C:\\Users\\anand\\AppData\\Local\\ms-playwright\\chromium-1169\\chrome-win\\chrome.exe> version=136.0.7103.25>\n",
      "extract_hyperlinks=async_browser=<Browser type=<BrowserType name=chromium executable_path=C:\\Users\\anand\\AppData\\Local\\ms-playwright\\chromium-1169\\chrome-win\\chrome.exe> version=136.0.7103.25>\n",
      "get_elements=async_browser=<Browser type=<BrowserType name=chromium executable_path=C:\\Users\\anand\\AppData\\Local\\ms-playwright\\chromium-1169\\chrome-win\\chrome.exe> version=136.0.7103.25>\n",
      "current_webpage=async_browser=<Browser type=<BrowserType name=chromium executable_path=C:\\Users\\anand\\AppData\\Local\\ms-playwright\\chromium-1169\\chrome-win\\chrome.exe> version=136.0.7103.25>\n"
     ]
    }
   ],
   "source": [
    "for tool in tools:\n",
    "    print(f\"{tool.name}={tool}\")"
   ]
  },
  {
   "cell_type": "code",
   "execution_count": 10,
   "metadata": {},
   "outputs": [],
   "source": [
    "tool_dict = {tool.name: tool for tool in tools}\n",
    "\n",
    "navigate_tool = tool_dict.get(\"navigate_browser\")\n",
    "extract_text_tool = tool_dict.get(\"extract_text\")\n",
    "\n",
    "await navigate_tool.arun({\"url\":\"https://www.cnn.com\"})\n",
    "text = await extract_text_tool.arun({})"
   ]
  },
  {
   "cell_type": "code",
   "execution_count": 11,
   "metadata": {},
   "outputs": [
    {
     "name": "stdout",
     "output_type": "stream",
     "text": [
      "Breaking News, Latest News and Videos | CNN CNN values your feedback\n",
      "1. How relevant is this ad to you? 2. Did you encounter any technical\n",
      "issues? No Video player was slow to load content Video content never\n",
      "loaded Ad froze or did not finish loading Video content did not start\n",
      "after ad Audio on ad was too loud Other issues Ad never loaded Ad\n",
      "prevented/slowed the page from loading Content moved around while ad\n",
      "loaded Ad was repetitive to ads I've seen previously Other issues\n",
      "Cancel Submit Thank You! Your effort and contribution in providing\n",
      "this feedback is much\n",
      "appreciated. Close Ad Feedback Close icon US World Politics Business\n",
      "Health Entertainment Style Travel Sports Science Climate Weather\n",
      "Ukraine-Russia War Israel-Hamas War Games More US World Politics\n",
      "Business Health Entertainment Style Travel Sports Science Climate\n",
      "Weather Ukraine-Russia War Israel-Hamas War Games Watch Listen Live TV\n",
      "Subscribe Sign in My Account Settings Newsletters Topics you follow\n",
      "Sign out Your CNN account Sign in to your CNN account Sign in My\n",
      "Account Settings Newsletters Topics you follow Sign out Your CNN\n",
      "account Sign in to your CNN account Live TV Listen Watch Edition US\n",
      "International Arabic Español Edition US International Arabic Español\n",
      "World Africa Americas Asia Australia China Europe India Middle East\n",
      "United Kingdom US Politics Trump Facts First CNN Polls 2025 Elections\n",
      "Business Tech Media Calculators Videos Markets Pre-markets After-Hours\n",
      "Fear & Greed Investing Markets Now Nightcap Health Life, But Better\n",
      "Fitness Food Sleep Mindfulness Relationships Entertainment Movies\n",
      "Television Celebrity Tech Innovate Foreseeable Future Mission: Ahead\n",
      "Work Transformed Innovative Cities Style Arts Design Fashion\n",
      "Architecture Luxury Beauty Video Travel Destinations Food & Drink Stay\n",
      "News Videos Sports Football Tennis Golf Motorsport US Sports Olympics\n",
      "Climbing Esports Hockey Science Space Life Unearthed Climate Solutions\n",
      "Weather Weather Video Climate Ukraine-Russia War Israel-Hamas War\n",
      "Features As Equals Call to Earth Freedom Project Impact Your World\n",
      "Inside Africa CNN Heroes Watch Live TV CNN Fast Shows A-Z CNN10 CNN\n",
      "Max CNN TV Schedules Listen CNN 5 Things Chasing Life with Dr. Sanjay\n",
      "Gupta The Assignment with Audie Cornish One Thing Tug of War CNN\n",
      "Political Briefing The Axe Files All There Is with Anderson Cooper All\n",
      "CNN Audio podcasts Games Daily Crossword Jumble Crossword Sudoblock\n",
      "Sudoku 5 Things Quiz About CNN Photos Investigations CNN Profiles CNN\n",
      "Leadership CNN Newsletters Work for CNN Follow CNN Russia’s largest\n",
      "aerial assault Trump delays EU tariffs Emmanuel Macron Man gets stuck\n",
      "under train armrest Nadal French Open farewell Robot ink paintings\n",
      "Trump rebukes Putin after record air assault on Ukraine kills 12\n",
      "Show all Manuel Balce Ceneta/AP The president said Putin ‘has gone\n",
      "absolutely crazy’ in the wake of Moscow’s largest air assault of the\n",
      "war Video ‘What the hell happened to Putin’: Hear what Trump said when\n",
      "asked about Russian airstrikes in Kyiv 0:40 Russian forces creating\n",
      "‘buffer zone’ along Russia-Ukraine border, Putin says Reuters Macron\n",
      "dismisses viral video showing apparent shove from wife Brigitte Yuki\n",
      "Iwamura/Bloomberg/Getty Images Trump delays 50% EU tariffs until July\n",
      "9 Video Ex-Marine business owner explains why he couldn’t make\n",
      "products in America 1:32 Play Catch up on today's global news -\n",
      "Source: CNN Video Catch up on today’s news Volunteer Fire Department\n",
      "Lehrte Man trapped under train armrest while looking for AirPod May\n",
      "26, 2025 CravenA/iStockphoto/Getty Images/File Man detained after\n",
      "breaking armrest off ancient throne in Vietnam May 25, 2025 Susan\n",
      "Mullane/Imagn Images/Reuters Federer, Djokovic and Murray all attend\n",
      "Nadal’s French Open goodbye May 26, 2025 Reuters Video Is a luxury\n",
      "watch a good investment? What experts say 3:07 May 23, 2025 Ad\n",
      "Feedback Ting Shen/Bloomberg/Getty Images A physician who advocates\n",
      "for the power of human touch over technology will deliver Harvard’s\n",
      "commencement speech Analysis The Pentagon’s DEI purge ignores lessons\n",
      "from America’s biggest military disasters Nine out of Gaza doctor’s 10\n",
      "children killed in Israeli airstrike Video Former IDF soldier held\n",
      "captive in Gaza says one of her biggest fears was Israeli strikes 0:46\n",
      "Head of controversial US-backed Gaza aid group resigns, citing\n",
      "concerns over independence and impartiality Camilla Delsid She\n",
      "returned to Germany after living in California, and now she’s full of\n",
      "regret Museum of Eastern Bohemia Mysterious gold stash found on hiking\n",
      "trail perplexes researchers This video shows Victor Wong's AI Gemini\n",
      "painting. Courtesy of Victor Wong These Chinese ink paintings go for\n",
      "tens of thousands. And they’ve been created by a robot Ad Feedback\n",
      "Goerg Hochmuth/APA/AFP/Getty Images Austrian court quashes ex-\n",
      "Chancellor Kurz’s perjury conviction May 26, 2025 Haim Zach/Israeli\n",
      "Government Press Office via Reuters Former IDF hostage in Gaza says\n",
      "one of her biggest fears was Israeli strikes May 26, 2025 Philip\n",
      "Fong/AFP/Getty Images/File Flight from Tokyo diverted to Seattle after\n",
      "passenger tries to open exit doors May 25, 2025 Aiden Kane Video Video\n",
      "shows teens saving family from garage fire 1:18 May 25, 2025 Ad\n",
      "Feedback Predo Mattey/AFP/Getty Images Venezuela held an election for\n",
      "an oil-rich region. The main problem is it belongs to another country\n",
      "Al Drago/Bloomberg via Getty Images Federal workers grapple with\n",
      "canceled health insurance, bungled benefits after Trump’s layoff chaos\n",
      "Mohamad Salaheldin Abdelg Alsayed/Anadolu/Getty Images ‘Malicious act’\n",
      "causes power cut in Nice, in second day of outages across southern\n",
      "France • Video 2:14 Dr. Baker Perry Video Quest for weather data takes\n",
      "these scientists to the top of the world 2:14 Austin Steele/CNN She\n",
      "grew up haunted by a uniquely American nightmare. It finally caught up\n",
      "with her at college Time Team Digital Anglo-Saxons buried a mysterious\n",
      "vessel over a millennium ago. Archaeologists discovered its contents\n",
      "Achim Thomae/Moment RF/Getty Images European city asks tourists to\n",
      "stop stealing cobblestones from its historic streets Nicholas\n",
      "Kamm/AFP/Getty Images ‘Duck Dynasty’ star Phil Robertson dies at 79\n",
      "Martin Rickett/PA Aston Villa fumes over refereeing decision after\n",
      "missing out on Champions League qualification Christophe Ena/AP Carlos\n",
      "Alcaraz shows signs of Rafael Nadal’s ‘killer instinct’ as he prepares\n",
      "for French Open title defense • Video 1:02 SOCIAL MEDIA Video Hot air\n",
      "balloon crash in Mexico injures at least twelve people 1:02 Ad\n",
      "Feedback Featured Sections Space and science Time Team Digital Anglo-\n",
      "Saxons buried a mysterious vessel over a millennium ago.\n",
      "Archaeologists discovered its contents Galaxies battle in ‘cosmic\n",
      "joust’ witnessed by astronomers for the first time SpaceX cleared to\n",
      "launch Starship test flight after two explosive failures Hikers find\n",
      "mysterious stash of gold hidden on a mountain trail Global Travel\n",
      "Show all Achim Thomae/Moment RF/Getty Images European city asks\n",
      "tourists to stop stealing cobblestones from its historic streets\n",
      "Summer air travel could be a ‘recipe for frustration’ 25 of the\n",
      "world’s best nude beaches Future flights could be powered by thin air\n",
      "— but there are big hurdles Ad Feedback Global Business Scott\n",
      "Olson/Getty Images McDonald’s is closing down CosMc’s, its beverage-\n",
      "focused spinoff Sales of viral plush toy Labubu halted in UK stores\n",
      "after reports of brawls Style CNN The 28-year-old going viral for her\n",
      "‘fashioneering’ projects All the surprising, subversive and rule-\n",
      "breaking looks from Cannes Film Festival Indian author Banu Mushtaq\n",
      "wins International Booker Prize with short story collection Jim\n",
      "Morrison’s stolen grave bust found after 37 years SPORT Show all\n",
      "Christophe Ena/AP Carlos Alcaraz shows signs of Rafael Nadal’s ‘killer\n",
      "instinct’ as he prepares for French Open title defense Álex Palou wins\n",
      "Indianapolis 500, Kyle Larson’s quest for the ‘Double’ comes to an end\n",
      "after wreck USA men’s hockey team wins IIHF World Championship for\n",
      "first time in more than 90 years Ad Feedback US Politics Drew\n",
      "Angerer/AFP/Getty Images Jeanine Pirro steps into spotlight with\n",
      "response to murders of Israeli embassy staffers Trump is calling for a\n",
      "‘baby boom,’ but IVF may be under threat Video Inside the GOP\n",
      "negotiations to pass Trump’s agenda bill 2:26 ‘The best chance we’ve\n",
      "got’: Can Treasury Secretary Scott Bessent save the world from trade\n",
      "Armageddon? health and wellness travelism/E+/Getty Images Drowning is\n",
      "the leading cause of death in young kids. Here’s how to prevent it\n",
      "What you eat can hurt your sleep. What to eat instead Rest days aren’t\n",
      "optional — they’re where the real progress happens What ‘gentle\n",
      "parenting’ does for your kids Tech Smith Collection/Gado/Getty Images\n",
      "Anthropic says its new AI model can work almost an entire workday\n",
      "straight OpenAI and Nvidia among companies building Stargate AI\n",
      "infrastructure in UAE This controversial technology is helping to find\n",
      "the escaped New Orleans inmates Former Apple design chief Jony Ive is\n",
      "joining OpenAI Photos You Should See • Gallery Gallery Michael\n",
      "Swensen/Getty Images Gallery The week in 35 photos • Gallery Gallery\n",
      "Lisa Michele Burns Gallery Australia’s jaw-dropping landscapes, from\n",
      "east to west • Gallery Gallery Bobby Ellis/Getty Images Gallery People\n",
      "we’ve lost in 2025 • Gallery Gallery Luiz Thiago de Jesus/AMLD Gallery\n",
      "Back from the brink: Golden lion tamarin • Gallery Gallery Samar Abu\n",
      "Elouf/The New York Times/World Press Photo Gallery World Press Photo\n",
      "2025: Award Winners Unveiled • Gallery Gallery Tiziana Fabi/AFP/Getty\n",
      "Images Gallery Pope Leo’s life in pictures Ad Feedback In Case You\n",
      "Missed It ﻿Morgan Bennett-Smith ‘Shrinking Nemo’: Study finds\n",
      "clownfish can shrink to survive higher sea temperatures How to eat for\n",
      "better sleep Why Jamie Foxx told Eddie Murphy ‘you ain’t funny, bro’\n",
      "and urged him to quit standup SpaceX cleared to launch Starship test\n",
      "flight after two explosive failures Trump ‘giving very serious\n",
      "consideration’ to spinning off mortgage giants Fannie and Freddie US\n",
      "Supreme Court lets Trump move toward ending temporary deportation\n",
      "protections for Venezuelans This gremlin-looking toy from China is\n",
      "proving to be tariff-proof Scott Bessent says tariff rates will return\n",
      "to ‘reciprocal’ levels if countries don’t reach trade deals with US\n",
      "Man executed for the 2000 killing of a police officer in Indiana’s\n",
      "second execution in 15 years Subscribe Sign in My Account Settings\n",
      "Newsletters Topics you follow Sign out Your CNN account Sign in to\n",
      "your CNN account Live TV Listen Watch World Africa Americas Asia\n",
      "Australia China Europe India Middle East United Kingdom US Politics\n",
      "Trump Facts First CNN Polls 2025 Elections Business Tech Media\n",
      "Calculators Videos Markets Pre-markets After-Hours Fear & Greed\n",
      "Investing Markets Now Nightcap Health Life, But Better Fitness Food\n",
      "Sleep Mindfulness Relationships Entertainment Movies Television\n",
      "Celebrity Tech Innovate Foreseeable Future Mission: Ahead Work\n",
      "Transformed Innovative Cities Style Arts Design Fashion Architecture\n",
      "Luxury Beauty Video Travel Destinations Food & Drink Stay News Videos\n",
      "Sports Football Tennis Golf Motorsport US Sports Olympics Climbing\n",
      "Esports Hockey Science Space Life Unearthed Climate Solutions Weather\n",
      "Weather Video Climate Ukraine-Russia War Israel-Hamas War Features As\n",
      "Equals Call to Earth Freedom Project Impact Your World Inside Africa\n",
      "CNN Heroes Watch Live TV CNN Fast Shows A-Z CNN10 CNN Max CNN TV\n",
      "Schedules Listen CNN 5 Things Chasing Life with Dr. Sanjay Gupta The\n",
      "Assignment with Audie Cornish One Thing Tug of War CNN Political\n",
      "Briefing The Axe Files All There Is with Anderson Cooper All CNN Audio\n",
      "podcasts Games Daily Crossword Jumble Crossword Sudoblock Sudoku 5\n",
      "Things Quiz About CNN Photos Investigations CNN Profiles CNN\n",
      "Leadership CNN Newsletters Work for CNN Watch Listen Live TV Follow\n",
      "CNN Subscribe Sign in My Account Settings Newsletters Topics you\n",
      "follow Sign out Your CNN account Sign in to your CNN account Terms of\n",
      "Use Privacy Policy Cookie Settings Ad Choices Accessibility & CC About\n",
      "Newsletters Transcripts © 2025 Cable News Network. A Warner Bros.\n",
      "Discovery Company. All Rights Reserved. CNN Sans ™ & © 2016 Cable News\n",
      "Network. Privacy Policy For privacy options, please see our privacy\n",
      "policy: https://www.cnn.com/privacy . Back Button Cookie List Search\n",
      "Icon Filter Icon Clear checkbox label label Apply Cancel Consent\n",
      "Leg.Interest checkbox label label checkbox label label checkbox label\n",
      "label Close\n"
     ]
    }
   ],
   "source": [
    "import textwrap\n",
    "\n",
    "print(textwrap.fill(text))"
   ]
  },
  {
   "cell_type": "code",
   "execution_count": 16,
   "metadata": {},
   "outputs": [],
   "source": [
    "all_tools = tools + [tool_push]"
   ]
  },
  {
   "cell_type": "code",
   "execution_count": 26,
   "metadata": {},
   "outputs": [],
   "source": [
    "llm = ChatGroq(model=os.getenv(\"GROQ_MODEL_LLAMA3_3\"))\n",
    "llm_with_tools = llm.bind_tools(all_tools)\n",
    "\n",
    "def chatbot(state: State):\n",
    "    return {\"messages\": [ llm_with_tools.invoke(state[\"messages\"])]}"
   ]
  },
  {
   "cell_type": "code",
   "execution_count": 27,
   "metadata": {},
   "outputs": [
    {
     "data": {
      "image/png": "[encoded data removed]",
      "text/plain": [
       "<IPython.core.display.Image object>"
      ]
     },
     "metadata": {},
     "output_type": "display_data"
    }
   ],
   "source": [
    "memory = MemorySaver()\n",
    "\n",
    "graph_builder = StateGraph(State)\n",
    "graph_builder.add_node(\"chatbot\", chatbot)\n",
    "graph_builder.add_node(\"tools\",ToolNode(tools=all_tools))\n",
    "graph_builder.add_conditional_edges(\"chatbot\", tools_condition, \"tools\")\n",
    "graph_builder.add_edge(\"tools\", \"chatbot\")\n",
    "graph_builder.add_edge(START, \"chatbot\")\n",
    "\n",
    "graph = graph_builder.compile(checkpointer=memory)\n",
    "display(Image(graph.get_graph().draw_mermaid_png()))"
   ]
  },
  {
   "cell_type": "code",
   "execution_count": null,
   "metadata": {},
   "outputs": [
    {
     "name": "stdout",
     "output_type": "stream",
     "text": [
      "* Running on local URL:  http://127.0.0.1:7867\n",
      "* To create a public link, set `share=True` in `launch()`.\n"
     ]
    },
    {
     "data": {
      "text/html": [
       "<div><iframe src=\"http://127.0.0.1:7867/\" width=\"100%\" height=\"500\" allow=\"autoplay; camera; microphone; clipboard-read; clipboard-write;\" frameborder=\"0\" allowfullscreen></iframe></div>"
      ],
      "text/plain": [
       "<IPython.core.display.HTML object>"
      ]
     },
     "metadata": {},
     "output_type": "display_data"
    },
    {
     "data": {
      "text/plain": []
     },
     "execution_count": 29,
     "metadata": {},
     "output_type": "execute_result"
    },
    {
     "ename": "",
     "evalue": "",
     "output_type": "error",
     "traceback": [
      "\u001b[1;31mThe Kernel crashed while executing code in the current cell or a previous cell. \n",
      "\u001b[1;31mPlease review the code in the cell(s) to identify a possible cause of the failure. \n",
      "\u001b[1;31mClick <a href='https://aka.ms/vscodeJupyterKernelCrash'>here</a> for more info. \n",
      "\u001b[1;31mView Jupyter <a href='command:jupyter.viewOutput'>log</a> for further details."
     ]
    }
   ],
   "source": [
    "config = {\"configurable\": {\"thread_id\": \"10\"}}\n",
    "\n",
    "async def chat(user_input: str, history):\n",
    "    result = await graph.ainvoke({\"messages\": [{\"role\": \"user\", \"content\": user_input}]}, config=config)\n",
    "    return result[\"messages\"][-1].content\n",
    "\n",
    "\n",
    "gr.ChatInterface(chat, type=\"messages\").launch()"
   ]
  },
  {
   "cell_type": "code",
   "execution_count": null,
   "metadata": {},
   "outputs": [],
   "source": []
  }
 ],
 "metadata": {
  "kernelspec": {
   "display_name": ".venv",
   "language": "python",
   "name": "python3"
  },
  "language_info": {
   "codemirror_mode": {
    "name": "ipython",
    "version": 3
   },
   "file_extension": ".py",
   "mimetype": "text/x-python",
   "name": "python",
   "nbconvert_exporter": "python",
   "pygments_lexer": "ipython3",
   "version": "3.12.10"
  }
 },
 "nbformat": 4,
 "nbformat_minor": 2
}
