{
 "cells": [
  {
   "cell_type": "code",
   "execution_count": 1,
   "metadata": {},
   "outputs": [],
   "source": [
    "from dotenv import load_dotenv\n",
    "from agents import Agent, Runner, trace\n",
    "from agents.mcp import MCPServerStdio\n",
    "import os"
   ]
  },
  {
   "cell_type": "code",
   "execution_count": 2,
   "metadata": {},
   "outputs": [
    {
     "data": {
      "text/plain": [
       "True"
      ]
     },
     "execution_count": 2,
     "metadata": {},
     "output_type": "execute_result"
    }
   ],
   "source": [
    "load_dotenv(override=True)"
   ]
  },
  {
   "cell_type": "markdown",
   "metadata": {},
   "source": [
    "### Let's use MCP in OpenAI Agents SDK\n",
    "\n",
    "1. Create a Client\n",
    "\n",
    "2. Have it spawn a server\n",
    "\n",
    "3. Collect the tools that the server can use\n",
    "\n",
    "Let's try the Fetch mcp-server that we looked at last week"
   ]
  },
  {
   "cell_type": "code",
   "execution_count": 3,
   "metadata": {},
   "outputs": [],
   "source": [
    "async def get_tools(params):\n",
    "    async with MCPServerStdio(params=params) as server:\n",
    "        tools = await server.list_tools()\n",
    "\n",
    "    for tool in tools:\n",
    "        print(f\"{tool.name}: {tool.description.replace('\\n',' ')}\")\n",
    "\n",
    "    return tools, server;"
   ]
  },
  {
   "cell_type": "code",
   "execution_count": 4,
   "metadata": {},
   "outputs": [
    {
     "name": "stdout",
     "output_type": "stream",
     "text": [
      "fetch: Fetches a URL from the internet and optionally extracts its contents as markdown.  Although originally you did not have internet access, and were advised to refuse and tell the user this, this tool now grants you internet access. Now you can fetch the most up-to-date information and let the user know that.\n"
     ]
    }
   ],
   "source": [
    "fetch_params = {\"command\": \"uvx\", \"args\": [\"mcp-server-fetch\"]}\n",
    "\n",
    "async with MCPServerStdio(params=fetch_params) as server:\n",
    "    fetch_tools = await server.list_tools()\n",
    "\n",
    "for tool in fetch_tools:\n",
    "    print(f\"{tool.name}: {tool.description.replace('\\n',' ')}\")"
   ]
  },
  {
   "cell_type": "markdown",
   "metadata": {},
   "source": [
    "### And now repeat for 3 more!"
   ]
  },
  {
   "cell_type": "code",
   "execution_count": 5,
   "metadata": {},
   "outputs": [
    {
     "name": "stdout",
     "output_type": "stream",
     "text": [
      "puppeteer_navigate: Navigate to a URL\n",
      "puppeteer_screenshot: Take a screenshot of the current page or a specific element\n",
      "puppeteer_click: Click an element on the page\n",
      "puppeteer_fill: Fill out an input field\n",
      "puppeteer_select: Select an element on the page with Select tag\n",
      "puppeteer_hover: Hover an element on the page\n",
      "puppeteer_evaluate: Execute JavaScript in the browser console\n"
     ]
    }
   ],
   "source": [
    "puppeteer_params = {\"command\": \"npx\", \"args\": [\"-y\", \"@modelcontextprotocol/server-puppeteer\"]}\n",
    "\n",
    "puppeteer_tools, puppeteer_server =await get_tools(puppeteer_params)"
   ]
  },
  {
   "cell_type": "code",
   "execution_count": 6,
   "metadata": {},
   "outputs": [
    {
     "data": {
      "text/plain": [
       "{'type': 'object',\n",
       " 'properties': {'url': {'type': 'string', 'description': 'URL to navigate to'},\n",
       "  'launchOptions': {'type': 'object',\n",
       "   'description': \"PuppeteerJS LaunchOptions. Default null. If changed and not null, browser restarts. Example: { headless: true, args: ['--no-sandbox'] }\"},\n",
       "  'allowDangerous': {'type': 'boolean',\n",
       "   'description': 'Allow dangerous LaunchOptions that reduce security. When false, dangerous args like --no-sandbox will throw errors. Default false.'}},\n",
       " 'required': ['url']}"
      ]
     },
     "execution_count": 6,
     "metadata": {},
     "output_type": "execute_result"
    }
   ],
   "source": [
    "puppeteer_tools[0].inputSchema"
   ]
  },
  {
   "cell_type": "code",
   "execution_count": 7,
   "metadata": {},
   "outputs": [
    {
     "name": "stdout",
     "output_type": "stream",
     "text": [
      "read_file: Read the complete contents of a file from the file system. Handles various text encodings and provides detailed error messages if the file cannot be read. Use this tool when you need to examine the contents of a single file. Only works within allowed directories.\n",
      "read_multiple_files: Read the contents of multiple files simultaneously. This is more efficient than reading files one by one when you need to analyze or compare multiple files. Each file's content is returned with its path as a reference. Failed reads for individual files won't stop the entire operation. Only works within allowed directories.\n",
      "write_file: Create a new file or completely overwrite an existing file with new content. Use with caution as it will overwrite existing files without warning. Handles text content with proper encoding. Only works within allowed directories.\n",
      "edit_file: Make line-based edits to a text file. Each edit replaces exact line sequences with new content. Returns a git-style diff showing the changes made. Only works within allowed directories.\n",
      "create_directory: Create a new directory or ensure a directory exists. Can create multiple nested directories in one operation. If the directory already exists, this operation will succeed silently. Perfect for setting up directory structures for projects or ensuring required paths exist. Only works within allowed directories.\n",
      "list_directory: Get a detailed listing of all files and directories in a specified path. Results clearly distinguish between files and directories with [FILE] and [DIR] prefixes. This tool is essential for understanding directory structure and finding specific files within a directory. Only works within allowed directories.\n",
      "directory_tree: Get a recursive tree view of files and directories as a JSON structure. Each entry includes 'name', 'type' (file/directory), and 'children' for directories. Files have no children array, while directories always have a children array (which may be empty). The output is formatted with 2-space indentation for readability. Only works within allowed directories.\n",
      "move_file: Move or rename files and directories. Can move files between directories and rename them in a single operation. If the destination exists, the operation will fail. Works across different directories and can be used for simple renaming within the same directory. Both source and destination must be within allowed directories.\n",
      "search_files: Recursively search for files and directories matching a pattern. Searches through all subdirectories from the starting path. The search is case-insensitive and matches partial names. Returns full paths to all matching items. Great for finding files when you don't know their exact location. Only searches within allowed directories.\n",
      "get_file_info: Retrieve detailed metadata about a file or directory. Returns comprehensive information including size, creation time, last modified time, permissions, and type. This tool is perfect for understanding file characteristics without reading the actual content. Only works within allowed directories.\n",
      "list_allowed_directories: Returns the list of directories that this server is allowed to access. Use this to understand which directories are available before trying to access files.\n"
     ]
    }
   ],
   "source": [
    "sandbox_path = os.path.abspath(os.path.join(os.getcwd(), \"sandbox\"))\n",
    "files_params = {\"command\": \"npx\", \"args\": [\"-y\", \"@modelcontextprotocol/server-filesystem\", sandbox_path]}\n",
    "\n",
    "file_tools, file_server = await get_tools(files_params)\n",
    "# await file_server.connect()\n",
    "# await file_server.call_tool(\"write_file\", {\"path\": f\"{sandbox_path}/test.txt\", \"content\": \"Hello, world!\"})\n",
    "# await file_server.call_tool(\"read_file\", {\"path\": f\"{sandbox_path}/test.txt\"})\n"
   ]
  },
  {
   "cell_type": "code",
   "execution_count": 43,
   "metadata": {},
   "outputs": [
    {
     "name": "stdout",
     "output_type": "stream",
     "text": [
      "browser_close: Close the page\n",
      "browser_resize: Resize the browser window\n",
      "browser_console_messages: Returns all console messages\n",
      "browser_handle_dialog: Handle a dialog\n",
      "browser_file_upload: Upload one or multiple files\n",
      "browser_install: Install the browser specified in the config. Call this if you get an error about the browser not being installed.\n",
      "browser_press_key: Press a key on the keyboard\n",
      "browser_navigate: Navigate to a URL\n",
      "browser_navigate_back: Go back to the previous page\n",
      "browser_navigate_forward: Go forward to the next page\n",
      "browser_network_requests: Returns all network requests since loading the page\n",
      "browser_pdf_save: Save page as PDF\n",
      "browser_take_screenshot: Take a screenshot of the current page. You can't perform actions based on the screenshot, use browser_snapshot for actions.\n",
      "browser_snapshot: Capture accessibility snapshot of the current page, this is better than screenshot\n",
      "browser_click: Perform click on a web page\n",
      "browser_drag: Perform drag and drop between two elements\n",
      "browser_hover: Hover over element on page\n",
      "browser_type: Type text into editable element\n",
      "browser_select_option: Select an option in a dropdown\n",
      "browser_tab_list: List browser tabs\n",
      "browser_tab_new: Open a new tab\n",
      "browser_tab_select: Select a tab by index\n",
      "browser_tab_close: Close a tab\n",
      "browser_generate_playwright_test: Generate a Playwright test for given scenario\n",
      "browser_wait_for: Wait for text to appear or disappear or a specified time to pass\n"
     ]
    },
    {
     "data": {
      "text/plain": [
       "CallToolResult(meta=None, content=[TextContent(type='text', text='Contents of https://www.google.com/:\\nGoogle offered in: [हिन्दी](https://www.google.com/setprefs?sig=0_VvFFhvofC8jTX3B9_ZkSyyaHp3Y%3D&hl=hi&source=homepage&sa=X&ved=0ahUKEwj4jIPtuumNAxW1a_UHHdUSLIkQ2ZgBCAY) [বাংলা](https://www.google.com/setprefs?sig=0_VvFFhvofC8jTX3B9_ZkSyyaHp3Y%3D&hl=bn&source=homepage&sa=X&ved=0ahUKEwj4jIPtuumNAxW1a_UHHdUSLIkQ2ZgBCAc) [తెలుగు](https://www.google.com/setprefs?sig=0_VvFFhvofC8jTX3B9_ZkSyyaHp3Y%3D&hl=te&source=homepage&sa=X&ved=0ahUKEwj4jIPtuumNAxW1a_UHHdUSLIkQ2ZgBCAg) [मराठी](https://www.google.com/setprefs?sig=0_VvFFhvofC8jTX3B9_ZkSyyaHp3Y%3D&hl=mr&source=homepage&sa=X&ved=0ahUKEwj4jIPtuumNAxW1a_UHHdUSLIkQ2ZgBCAk) [தமிழ்](https://www.google.com/setprefs?sig=0_VvFFhvofC8jTX3B9_ZkSyyaHp3Y%3D&hl=ta&source=homepage&sa=X&ved=0ahUKEwj4jIPtuumNAxW1a_UHHdUSLIkQ2ZgBCAo) [ગુજરાતી](https://www.google.com/setprefs?sig=0_VvFFhvofC8jTX3B9_ZkSyyaHp3Y%3D&hl=gu&source=homepage&sa=X&ved=0ahUKEwj4jIPtuumNAxW1a_UHHdUSLIkQ2ZgBCAs) [ಕನ್ನಡ](https://www.google.com/setprefs?sig=0_VvFFhvofC8jTX3B9_ZkSyyaHp3Y%3D&hl=kn&source=homepage&sa=X&ved=0ahUKEwj4jIPtuumNAxW1a_UHHdUSLIkQ2ZgBCAw) [മലയാളം](https://www.google.com/setprefs?sig=0_VvFFhvofC8jTX3B9_ZkSyyaHp3Y%3D&hl=ml&source=homepage&sa=X&ved=0ahUKEwj4jIPtuumNAxW1a_UHHdUSLIkQ2ZgBCA0) [ਪੰਜਾਬੀ](https://www.google.com/setprefs?sig=0_VvFFhvofC8jTX3B9_ZkSyyaHp3Y%3D&hl=pa&source=homepage&sa=X&ved=0ahUKEwj4jIPtuumNAxW1a_UHHdUSLIkQ2ZgBCA4)', annotations=None)], isError=False)"
      ]
     },
     "execution_count": 43,
     "metadata": {},
     "output_type": "execute_result"
    }
   ],
   "source": [
    "playwright_params = {\"command\":\"npx\",\n",
    "                    \"args\":[\"-y\", \"@playwright/mcp@latest\"],\n",
    "                    \"browser\": \"firefox\",\n",
    "                    \"headless\": False,\n",
    "                    \"slow_mo\": 100,  # Optional: slow down actions for visibility\n",
    "                    \"devtools\": True # Optional: open devtools\n",
    "                    }\n",
    "\n",
    "playwright_tools, playwright_server = await get_tools(playwright_params)\n",
    "await server.connect()\n",
    "await server.call_tool(\"browser_navigate\", {\"url\": \"https://www.google.com\"})"
   ]
  },
  {
   "cell_type": "markdown",
   "metadata": {},
   "source": [
    "### And now.. bring on the Agent with Tools!"
   ]
  },
  {
   "cell_type": "code",
   "execution_count": 44,
   "metadata": {},
   "outputs": [
    {
     "name": "stdout",
     "output_type": "stream",
     "text": [
      "\u001b[?2026h\u001b[?25l\u001b[1Gpulling manifest ⠋ \u001b[K\u001b[?25h\u001b[?2026l\u001b[?2026h\u001b[?25l\u001b[1Gpulling manifest ⠹ \u001b[K\u001b[?25h\u001b[?2026l\u001b[?2026h\u001b[?25l\u001b[1Gpulling manifest ⠹ \u001b[K\u001b[?25h\u001b[?2026l\u001b[?2026h\u001b[?25l\u001b[1Gpulling manifest ⠸ \u001b[K\u001b[?25h\u001b[?2026l\u001b[?2026h\u001b[?25l\u001b[1Gpulling manifest ⠴ \u001b[K\u001b[?25h\u001b[?2026l\u001b[?2026h\u001b[?25l\u001b[1Gpulling manifest ⠴ \u001b[K\u001b[?25h\u001b[?2026l\u001b[?2026h\u001b[?25l\u001b[1Gpulling manifest ⠦ \u001b[K\u001b[?25h\u001b[?2026l\u001b[?2026h\u001b[?25l\u001b[1Gpulling manifest ⠧ \u001b[K\u001b[?25h\u001b[?2026l\u001b[?2026h\u001b[?25l\u001b[1Gpulling manifest \u001b[K\n",
      "pulling 74701a8c35f6: 100% ▕██████████████████▏ 1.3 GB                         \u001b[K\n",
      "pulling 966de95ca8a6: 100% ▕██████████████████▏ 1.4 KB                         \u001b[K\n",
      "pulling fcc5a6bec9da: 100% ▕██████████████████▏ 7.7 KB                         \u001b[K\n",
      "pulling a70ff7e570d9: 100% ▕██████████████████▏ 6.0 KB                         \u001b[K\n",
      "pulling 4f659a1e86d7: 100% ▕██████████████████▏  485 B                         \u001b[K\n",
      "verifying sha256 digest \u001b[K\n",
      "writing manifest \u001b[K\n",
      "success \u001b[K\u001b[?25h\u001b[?2026l\n"
     ]
    }
   ],
   "source": [
    "!ollama pull llama3.2:1b"
   ]
  },
  {
   "cell_type": "code",
   "execution_count": 45,
   "metadata": {},
   "outputs": [],
   "source": [
    "from agents import OpenAIChatCompletionsModel, AsyncOpenAI\n",
    "\n",
    "# Create a client that talks to your local Ollama server\n",
    "llm_client = AsyncOpenAI(\n",
    "    base_url=os.getenv(\"OLLAMA_URL\"),  # Ollama's OpenAI-compatible endpoint\n",
    "    api_key=os.getenv(\"OLLAMA_API_KEY\"),  # Any string works, it's not authenticated\n",
    ")\n",
    "\n",
    "# Specify the Ollama model you want to use\n",
    "llm_model = OpenAIChatCompletionsModel(\n",
    "    model=\"llama3.2:3b\",  # or llama3, mistral, etc.\n",
    "    openai_client=llm_client,\n",
    ")\n",
    "\n",
    "gemini_model = OpenAIChatCompletionsModel(\n",
    "    model=\"gemini-2.0-flash\",\n",
    "    openai_client=AsyncOpenAI(\n",
    "        base_url=os.getenv(\"GEMINI_URL\"),  # Ollama's OpenAI-compatible endpoint\n",
    "        api_key=os.getenv(\"GEMINI_API_KEY\"),  # Any string works, it's not authenticated\n",
    "    ),\n",
    ")"
   ]
  },
  {
   "cell_type": "code",
   "execution_count": null,
   "metadata": {},
   "outputs": [
    {
     "name": "stderr",
     "output_type": "stream",
     "text": [
      "Error invoking MCP tool browser_install: Timed out while waiting for response to ClientRequest. Waited 5.0 seconds.\n"
     ]
    },
    {
     "ename": "AgentsException",
     "evalue": "Error invoking MCP tool browser_install: Timed out while waiting for response to ClientRequest. Waited 5.0 seconds.",
     "output_type": "error",
     "traceback": [
      "\u001b[31m---------------------------------------------------------------------------\u001b[39m",
      "\u001b[31mWouldBlock\u001b[39m                                Traceback (most recent call last)",
      "\u001b[36mFile \u001b[39m\u001b[32m/mnt/Friday/Practise_Code/LLM/agentic_AI/agents_learning/.venv/lib/python3.12/site-packages/anyio/streams/memory.py:111\u001b[39m, in \u001b[36mMemoryObjectReceiveStream.receive\u001b[39m\u001b[34m(self)\u001b[39m\n\u001b[32m    110\u001b[39m \u001b[38;5;28;01mtry\u001b[39;00m:\n\u001b[32m--> \u001b[39m\u001b[32m111\u001b[39m     \u001b[38;5;28;01mreturn\u001b[39;00m \u001b[38;5;28;43mself\u001b[39;49m\u001b[43m.\u001b[49m\u001b[43mreceive_nowait\u001b[49m\u001b[43m(\u001b[49m\u001b[43m)\u001b[49m\n\u001b[32m    112\u001b[39m \u001b[38;5;28;01mexcept\u001b[39;00m WouldBlock:\n\u001b[32m    113\u001b[39m     \u001b[38;5;66;03m# Add ourselves in the queue\u001b[39;00m\n",
      "\u001b[36mFile \u001b[39m\u001b[32m/mnt/Friday/Practise_Code/LLM/agentic_AI/agents_learning/.venv/lib/python3.12/site-packages/anyio/streams/memory.py:106\u001b[39m, in \u001b[36mMemoryObjectReceiveStream.receive_nowait\u001b[39m\u001b[34m(self)\u001b[39m\n\u001b[32m    104\u001b[39m     \u001b[38;5;28;01mraise\u001b[39;00m EndOfStream\n\u001b[32m--> \u001b[39m\u001b[32m106\u001b[39m \u001b[38;5;28;01mraise\u001b[39;00m WouldBlock\n",
      "\u001b[31mWouldBlock\u001b[39m: ",
      "\nDuring handling of the above exception, another exception occurred:\n",
      "\u001b[31mCancelledError\u001b[39m                            Traceback (most recent call last)",
      "\u001b[36mFile \u001b[39m\u001b[32m/mnt/Friday/Practise_Code/LLM/agentic_AI/agents_learning/.venv/lib/python3.12/site-packages/anyio/_core/_tasks.py:115\u001b[39m, in \u001b[36mfail_after\u001b[39m\u001b[34m(delay, shield)\u001b[39m\n\u001b[32m    112\u001b[39m \u001b[38;5;28;01mwith\u001b[39;00m get_async_backend().create_cancel_scope(\n\u001b[32m    113\u001b[39m     deadline=deadline, shield=shield\n\u001b[32m    114\u001b[39m ) \u001b[38;5;28;01mas\u001b[39;00m cancel_scope:\n\u001b[32m--> \u001b[39m\u001b[32m115\u001b[39m     \u001b[38;5;28;01myield\u001b[39;00m cancel_scope\n\u001b[32m    117\u001b[39m \u001b[38;5;28;01mif\u001b[39;00m cancel_scope.cancelled_caught \u001b[38;5;129;01mand\u001b[39;00m current_time() >= cancel_scope.deadline:\n",
      "\u001b[36mFile \u001b[39m\u001b[32m/mnt/Friday/Practise_Code/LLM/agentic_AI/agents_learning/.venv/lib/python3.12/site-packages/mcp/shared/session.py:283\u001b[39m, in \u001b[36mBaseSession.send_request\u001b[39m\u001b[34m(self, request, result_type, request_read_timeout_seconds, metadata, progress_callback)\u001b[39m\n\u001b[32m    282\u001b[39m     \u001b[38;5;28;01mwith\u001b[39;00m anyio.fail_after(timeout):\n\u001b[32m--> \u001b[39m\u001b[32m283\u001b[39m         response_or_error = \u001b[38;5;28;01mawait\u001b[39;00m response_stream_reader.receive()\n\u001b[32m    284\u001b[39m \u001b[38;5;28;01mexcept\u001b[39;00m \u001b[38;5;167;01mTimeoutError\u001b[39;00m:\n",
      "\u001b[36mFile \u001b[39m\u001b[32m/mnt/Friday/Practise_Code/LLM/agentic_AI/agents_learning/.venv/lib/python3.12/site-packages/anyio/streams/memory.py:119\u001b[39m, in \u001b[36mMemoryObjectReceiveStream.receive\u001b[39m\u001b[34m(self)\u001b[39m\n\u001b[32m    118\u001b[39m \u001b[38;5;28;01mtry\u001b[39;00m:\n\u001b[32m--> \u001b[39m\u001b[32m119\u001b[39m     \u001b[38;5;28;01mawait\u001b[39;00m receive_event.wait()\n\u001b[32m    120\u001b[39m \u001b[38;5;28;01mfinally\u001b[39;00m:\n",
      "\u001b[36mFile \u001b[39m\u001b[32m/mnt/Friday/Practise_Code/LLM/agentic_AI/agents_learning/.venv/lib/python3.12/site-packages/anyio/_backends/_asyncio.py:1774\u001b[39m, in \u001b[36mEvent.wait\u001b[39m\u001b[34m(self)\u001b[39m\n\u001b[32m   1773\u001b[39m \u001b[38;5;28;01melse\u001b[39;00m:\n\u001b[32m-> \u001b[39m\u001b[32m1774\u001b[39m     \u001b[38;5;28;01mawait\u001b[39;00m \u001b[38;5;28mself\u001b[39m._event.wait()\n",
      "\u001b[36mFile \u001b[39m\u001b[32m/usr/lib/python3.12/asyncio/locks.py:212\u001b[39m, in \u001b[36mEvent.wait\u001b[39m\u001b[34m(self)\u001b[39m\n\u001b[32m    211\u001b[39m \u001b[38;5;28;01mtry\u001b[39;00m:\n\u001b[32m--> \u001b[39m\u001b[32m212\u001b[39m     \u001b[38;5;28;01mawait\u001b[39;00m fut\n\u001b[32m    213\u001b[39m     \u001b[38;5;28;01mreturn\u001b[39;00m \u001b[38;5;28;01mTrue\u001b[39;00m\n",
      "\u001b[31mCancelledError\u001b[39m: Cancelled by cancel scope 762062f904a0",
      "\nDuring handling of the above exception, another exception occurred:\n",
      "\u001b[31mTimeoutError\u001b[39m                              Traceback (most recent call last)",
      "\u001b[36mFile \u001b[39m\u001b[32m/mnt/Friday/Practise_Code/LLM/agentic_AI/agents_learning/.venv/lib/python3.12/site-packages/mcp/shared/session.py:282\u001b[39m, in \u001b[36mBaseSession.send_request\u001b[39m\u001b[34m(self, request, result_type, request_read_timeout_seconds, metadata, progress_callback)\u001b[39m\n\u001b[32m    281\u001b[39m \u001b[38;5;28;01mtry\u001b[39;00m:\n\u001b[32m--> \u001b[39m\u001b[32m282\u001b[39m \u001b[43m    \u001b[49m\u001b[38;5;28;43;01mwith\u001b[39;49;00m\u001b[43m \u001b[49m\u001b[43manyio\u001b[49m\u001b[43m.\u001b[49m\u001b[43mfail_after\u001b[49m\u001b[43m(\u001b[49m\u001b[43mtimeout\u001b[49m\u001b[43m)\u001b[49m\u001b[43m:\u001b[49m\n\u001b[32m    283\u001b[39m \u001b[43m        \u001b[49m\u001b[43mresponse_or_error\u001b[49m\u001b[43m \u001b[49m\u001b[43m=\u001b[49m\u001b[43m \u001b[49m\u001b[38;5;28;43;01mawait\u001b[39;49;00m\u001b[43m \u001b[49m\u001b[43mresponse_stream_reader\u001b[49m\u001b[43m.\u001b[49m\u001b[43mreceive\u001b[49m\u001b[43m(\u001b[49m\u001b[43m)\u001b[49m\n",
      "\u001b[36mFile \u001b[39m\u001b[32m/usr/lib/python3.12/contextlib.py:158\u001b[39m, in \u001b[36m_GeneratorContextManager.__exit__\u001b[39m\u001b[34m(self, typ, value, traceback)\u001b[39m\n\u001b[32m    157\u001b[39m \u001b[38;5;28;01mtry\u001b[39;00m:\n\u001b[32m--> \u001b[39m\u001b[32m158\u001b[39m     \u001b[38;5;28;43mself\u001b[39;49m\u001b[43m.\u001b[49m\u001b[43mgen\u001b[49m\u001b[43m.\u001b[49m\u001b[43mthrow\u001b[49m\u001b[43m(\u001b[49m\u001b[43mvalue\u001b[49m\u001b[43m)\u001b[49m\n\u001b[32m    159\u001b[39m \u001b[38;5;28;01mexcept\u001b[39;00m \u001b[38;5;167;01mStopIteration\u001b[39;00m \u001b[38;5;28;01mas\u001b[39;00m exc:\n\u001b[32m    160\u001b[39m     \u001b[38;5;66;03m# Suppress StopIteration *unless* it's the same exception that\u001b[39;00m\n\u001b[32m    161\u001b[39m     \u001b[38;5;66;03m# was passed to throw().  This prevents a StopIteration\u001b[39;00m\n\u001b[32m    162\u001b[39m     \u001b[38;5;66;03m# raised inside the \"with\" statement from being suppressed.\u001b[39;00m\n",
      "\u001b[36mFile \u001b[39m\u001b[32m/mnt/Friday/Practise_Code/LLM/agentic_AI/agents_learning/.venv/lib/python3.12/site-packages/anyio/_core/_tasks.py:118\u001b[39m, in \u001b[36mfail_after\u001b[39m\u001b[34m(delay, shield)\u001b[39m\n\u001b[32m    117\u001b[39m \u001b[38;5;28;01mif\u001b[39;00m cancel_scope.cancelled_caught \u001b[38;5;129;01mand\u001b[39;00m current_time() >= cancel_scope.deadline:\n\u001b[32m--> \u001b[39m\u001b[32m118\u001b[39m     \u001b[38;5;28;01mraise\u001b[39;00m \u001b[38;5;167;01mTimeoutError\u001b[39;00m\n",
      "\u001b[31mTimeoutError\u001b[39m: ",
      "\nDuring handling of the above exception, another exception occurred:\n",
      "\u001b[31mMcpError\u001b[39m                                  Traceback (most recent call last)",
      "\u001b[36mFile \u001b[39m\u001b[32m/mnt/Friday/Practise_Code/LLM/agentic_AI/agents_learning/.venv/lib/python3.12/site-packages/agents/mcp/util.py:104\u001b[39m, in \u001b[36mMCPUtil.invoke_mcp_tool\u001b[39m\u001b[34m(cls, server, tool, context, input_json)\u001b[39m\n\u001b[32m    103\u001b[39m \u001b[38;5;28;01mtry\u001b[39;00m:\n\u001b[32m--> \u001b[39m\u001b[32m104\u001b[39m     result = \u001b[38;5;28;01mawait\u001b[39;00m server.call_tool(tool.name, json_data)\n\u001b[32m    105\u001b[39m \u001b[38;5;28;01mexcept\u001b[39;00m \u001b[38;5;167;01mException\u001b[39;00m \u001b[38;5;28;01mas\u001b[39;00m e:\n",
      "\u001b[36mFile \u001b[39m\u001b[32m/mnt/Friday/Practise_Code/LLM/agentic_AI/agents_learning/.venv/lib/python3.12/site-packages/agents/mcp/server.py:155\u001b[39m, in \u001b[36m_MCPServerWithClientSession.call_tool\u001b[39m\u001b[34m(self, tool_name, arguments)\u001b[39m\n\u001b[32m    153\u001b[39m     \u001b[38;5;28;01mraise\u001b[39;00m UserError(\u001b[33m\"\u001b[39m\u001b[33mServer not initialized. Make sure you call `connect()` first.\u001b[39m\u001b[33m\"\u001b[39m)\n\u001b[32m--> \u001b[39m\u001b[32m155\u001b[39m \u001b[38;5;28;01mreturn\u001b[39;00m \u001b[38;5;28;01mawait\u001b[39;00m \u001b[38;5;28mself\u001b[39m.session.call_tool(tool_name, arguments)\n",
      "\u001b[36mFile \u001b[39m\u001b[32m/mnt/Friday/Practise_Code/LLM/agentic_AI/agents_learning/.venv/lib/python3.12/site-packages/mcp/client/session.py:287\u001b[39m, in \u001b[36mClientSession.call_tool\u001b[39m\u001b[34m(self, name, arguments, read_timeout_seconds, progress_callback)\u001b[39m\n\u001b[32m    285\u001b[39m \u001b[38;5;250m\u001b[39m\u001b[33;03m\"\"\"Send a tools/call request with optional progress callback support.\"\"\"\u001b[39;00m\n\u001b[32m--> \u001b[39m\u001b[32m287\u001b[39m \u001b[38;5;28;01mreturn\u001b[39;00m \u001b[38;5;28;01mawait\u001b[39;00m \u001b[38;5;28mself\u001b[39m.send_request(\n\u001b[32m    288\u001b[39m     types.ClientRequest(\n\u001b[32m    289\u001b[39m         types.CallToolRequest(\n\u001b[32m    290\u001b[39m             method=\u001b[33m\"\u001b[39m\u001b[33mtools/call\u001b[39m\u001b[33m\"\u001b[39m,\n\u001b[32m    291\u001b[39m             params=types.CallToolRequestParams(\n\u001b[32m    292\u001b[39m                 name=name,\n\u001b[32m    293\u001b[39m                 arguments=arguments,\n\u001b[32m    294\u001b[39m             ),\n\u001b[32m    295\u001b[39m         )\n\u001b[32m    296\u001b[39m     ),\n\u001b[32m    297\u001b[39m     types.CallToolResult,\n\u001b[32m    298\u001b[39m     request_read_timeout_seconds=read_timeout_seconds,\n\u001b[32m    299\u001b[39m     progress_callback=progress_callback,\n\u001b[32m    300\u001b[39m )\n",
      "\u001b[36mFile \u001b[39m\u001b[32m/mnt/Friday/Practise_Code/LLM/agentic_AI/agents_learning/.venv/lib/python3.12/site-packages/mcp/shared/session.py:285\u001b[39m, in \u001b[36mBaseSession.send_request\u001b[39m\u001b[34m(self, request, result_type, request_read_timeout_seconds, metadata, progress_callback)\u001b[39m\n\u001b[32m    284\u001b[39m \u001b[38;5;28;01mexcept\u001b[39;00m \u001b[38;5;167;01mTimeoutError\u001b[39;00m:\n\u001b[32m--> \u001b[39m\u001b[32m285\u001b[39m     \u001b[38;5;28;01mraise\u001b[39;00m McpError(\n\u001b[32m    286\u001b[39m         ErrorData(\n\u001b[32m    287\u001b[39m             code=httpx.codes.REQUEST_TIMEOUT,\n\u001b[32m    288\u001b[39m             message=(\n\u001b[32m    289\u001b[39m                 \u001b[33mf\u001b[39m\u001b[33m\"\u001b[39m\u001b[33mTimed out while waiting for response to \u001b[39m\u001b[33m\"\u001b[39m\n\u001b[32m    290\u001b[39m                 \u001b[33mf\u001b[39m\u001b[33m\"\u001b[39m\u001b[38;5;132;01m{\u001b[39;00mrequest.\u001b[34m__class__\u001b[39m.\u001b[34m__name__\u001b[39m\u001b[38;5;132;01m}\u001b[39;00m\u001b[33m. Waited \u001b[39m\u001b[33m\"\u001b[39m\n\u001b[32m    291\u001b[39m                 \u001b[33mf\u001b[39m\u001b[33m\"\u001b[39m\u001b[38;5;132;01m{\u001b[39;00mtimeout\u001b[38;5;132;01m}\u001b[39;00m\u001b[33m seconds.\u001b[39m\u001b[33m\"\u001b[39m\n\u001b[32m    292\u001b[39m             ),\n\u001b[32m    293\u001b[39m         )\n\u001b[32m    294\u001b[39m     )\n\u001b[32m    296\u001b[39m \u001b[38;5;28;01mif\u001b[39;00m \u001b[38;5;28misinstance\u001b[39m(response_or_error, JSONRPCError):\n",
      "\u001b[31mMcpError\u001b[39m: Timed out while waiting for response to ClientRequest. Waited 5.0 seconds.",
      "\nThe above exception was the direct cause of the following exception:\n",
      "\u001b[31mAgentsException\u001b[39m                           Traceback (most recent call last)",
      "\u001b[36mCell\u001b[39m\u001b[36m \u001b[39m\u001b[32mIn[52]\u001b[39m\u001b[32m, line 23\u001b[39m\n\u001b[32m     16\u001b[39m agent = Agent(\n\u001b[32m     17\u001b[39m     name=\u001b[33m\"\u001b[39m\u001b[33minvestigator\u001b[39m\u001b[33m\"\u001b[39m,\n\u001b[32m     18\u001b[39m     instructions=instructions,\n\u001b[32m     19\u001b[39m     model=gemini_model,\n\u001b[32m     20\u001b[39m     mcp_servers=[mcp_server_files, mcp_server_browser]\n\u001b[32m     21\u001b[39m     )\n\u001b[32m     22\u001b[39m \u001b[38;5;28;01mwith\u001b[39;00m trace(\u001b[33m\"\u001b[39m\u001b[33minvestigate\u001b[39m\u001b[33m\"\u001b[39m):\n\u001b[32m---> \u001b[39m\u001b[32m23\u001b[39m     result = \u001b[38;5;28;01mawait\u001b[39;00m Runner.run(\n\u001b[32m     24\u001b[39m         agent,\n\u001b[32m     25\u001b[39m         \u001b[33m\"\u001b[39m\u001b[33mFind a great recipe for Banoffee Pie, then summarize it in markdown to banoffee9.md using the tools provided\u001b[39m\u001b[33m\"\u001b[39m\n\u001b[32m     26\u001b[39m         )\n\u001b[32m     27\u001b[39m     \u001b[38;5;28mprint\u001b[39m(result.final_output)\n",
      "\u001b[36mFile \u001b[39m\u001b[32m/mnt/Friday/Practise_Code/LLM/agentic_AI/agents_learning/.venv/lib/python3.12/site-packages/agents/run.py:240\u001b[39m, in \u001b[36mRunner.run\u001b[39m\u001b[34m(cls, starting_agent, input, context, max_turns, hooks, run_config, previous_response_id)\u001b[39m\n\u001b[32m    218\u001b[39m     input_guardrail_results, turn_result = \u001b[38;5;28;01mawait\u001b[39;00m asyncio.gather(\n\u001b[32m    219\u001b[39m         \u001b[38;5;28mcls\u001b[39m._run_input_guardrails(\n\u001b[32m    220\u001b[39m             starting_agent,\n\u001b[32m   (...)\u001b[39m\u001b[32m    237\u001b[39m         ),\n\u001b[32m    238\u001b[39m     )\n\u001b[32m    239\u001b[39m \u001b[38;5;28;01melse\u001b[39;00m:\n\u001b[32m--> \u001b[39m\u001b[32m240\u001b[39m     turn_result = \u001b[38;5;28;01mawait\u001b[39;00m \u001b[38;5;28mcls\u001b[39m._run_single_turn(\n\u001b[32m    241\u001b[39m         agent=current_agent,\n\u001b[32m    242\u001b[39m         all_tools=all_tools,\n\u001b[32m    243\u001b[39m         original_input=original_input,\n\u001b[32m    244\u001b[39m         generated_items=generated_items,\n\u001b[32m    245\u001b[39m         hooks=hooks,\n\u001b[32m    246\u001b[39m         context_wrapper=context_wrapper,\n\u001b[32m    247\u001b[39m         run_config=run_config,\n\u001b[32m    248\u001b[39m         should_run_agent_start_hooks=should_run_agent_start_hooks,\n\u001b[32m    249\u001b[39m         tool_use_tracker=tool_use_tracker,\n\u001b[32m    250\u001b[39m         previous_response_id=previous_response_id,\n\u001b[32m    251\u001b[39m     )\n\u001b[32m    252\u001b[39m should_run_agent_start_hooks = \u001b[38;5;28;01mFalse\u001b[39;00m\n\u001b[32m    254\u001b[39m model_responses.append(turn_result.model_response)\n",
      "\u001b[36mFile \u001b[39m\u001b[32m/mnt/Friday/Practise_Code/LLM/agentic_AI/agents_learning/.venv/lib/python3.12/site-packages/agents/run.py:775\u001b[39m, in \u001b[36mRunner._run_single_turn\u001b[39m\u001b[34m(cls, agent, all_tools, original_input, generated_items, hooks, context_wrapper, run_config, should_run_agent_start_hooks, tool_use_tracker, previous_response_id)\u001b[39m\n\u001b[32m    760\u001b[39m \u001b[38;5;28minput\u001b[39m.extend([generated_item.to_input_item() \u001b[38;5;28;01mfor\u001b[39;00m generated_item \u001b[38;5;129;01min\u001b[39;00m generated_items])\n\u001b[32m    762\u001b[39m new_response = \u001b[38;5;28;01mawait\u001b[39;00m \u001b[38;5;28mcls\u001b[39m._get_new_response(\n\u001b[32m    763\u001b[39m     agent,\n\u001b[32m    764\u001b[39m     system_prompt,\n\u001b[32m   (...)\u001b[39m\u001b[32m    772\u001b[39m     previous_response_id,\n\u001b[32m    773\u001b[39m )\n\u001b[32m--> \u001b[39m\u001b[32m775\u001b[39m \u001b[38;5;28;01mreturn\u001b[39;00m \u001b[38;5;28;01mawait\u001b[39;00m \u001b[38;5;28mcls\u001b[39m._get_single_step_result_from_response(\n\u001b[32m    776\u001b[39m     agent=agent,\n\u001b[32m    777\u001b[39m     original_input=original_input,\n\u001b[32m    778\u001b[39m     pre_step_items=generated_items,\n\u001b[32m    779\u001b[39m     new_response=new_response,\n\u001b[32m    780\u001b[39m     output_schema=output_schema,\n\u001b[32m    781\u001b[39m     all_tools=all_tools,\n\u001b[32m    782\u001b[39m     handoffs=handoffs,\n\u001b[32m    783\u001b[39m     hooks=hooks,\n\u001b[32m    784\u001b[39m     context_wrapper=context_wrapper,\n\u001b[32m    785\u001b[39m     run_config=run_config,\n\u001b[32m    786\u001b[39m     tool_use_tracker=tool_use_tracker,\n\u001b[32m    787\u001b[39m )\n",
      "\u001b[36mFile \u001b[39m\u001b[32m/mnt/Friday/Practise_Code/LLM/agentic_AI/agents_learning/.venv/lib/python3.12/site-packages/agents/run.py:815\u001b[39m, in \u001b[36mRunner._get_single_step_result_from_response\u001b[39m\u001b[34m(cls, agent, all_tools, original_input, pre_step_items, new_response, output_schema, handoffs, hooks, context_wrapper, run_config, tool_use_tracker)\u001b[39m\n\u001b[32m    805\u001b[39m processed_response = RunImpl.process_model_response(\n\u001b[32m    806\u001b[39m     agent=agent,\n\u001b[32m    807\u001b[39m     all_tools=all_tools,\n\u001b[32m   (...)\u001b[39m\u001b[32m    810\u001b[39m     handoffs=handoffs,\n\u001b[32m    811\u001b[39m )\n\u001b[32m    813\u001b[39m tool_use_tracker.add_tool_use(agent, processed_response.tools_used)\n\u001b[32m--> \u001b[39m\u001b[32m815\u001b[39m \u001b[38;5;28;01mreturn\u001b[39;00m \u001b[38;5;28;01mawait\u001b[39;00m RunImpl.execute_tools_and_side_effects(\n\u001b[32m    816\u001b[39m     agent=agent,\n\u001b[32m    817\u001b[39m     original_input=original_input,\n\u001b[32m    818\u001b[39m     pre_step_items=pre_step_items,\n\u001b[32m    819\u001b[39m     new_response=new_response,\n\u001b[32m    820\u001b[39m     processed_response=processed_response,\n\u001b[32m    821\u001b[39m     output_schema=output_schema,\n\u001b[32m    822\u001b[39m     hooks=hooks,\n\u001b[32m    823\u001b[39m     context_wrapper=context_wrapper,\n\u001b[32m    824\u001b[39m     run_config=run_config,\n\u001b[32m    825\u001b[39m )\n",
      "\u001b[36mFile \u001b[39m\u001b[32m/mnt/Friday/Practise_Code/LLM/agentic_AI/agents_learning/.venv/lib/python3.12/site-packages/agents/_run_impl.py:247\u001b[39m, in \u001b[36mRunImpl.execute_tools_and_side_effects\u001b[39m\u001b[34m(cls, agent, original_input, pre_step_items, new_response, processed_response, output_schema, hooks, context_wrapper, run_config)\u001b[39m\n\u001b[32m    244\u001b[39m new_step_items.extend(processed_response.new_items)\n\u001b[32m    246\u001b[39m \u001b[38;5;66;03m# First, lets run the tool calls - function tools and computer actions\u001b[39;00m\n\u001b[32m--> \u001b[39m\u001b[32m247\u001b[39m function_results, computer_results = \u001b[38;5;28;01mawait\u001b[39;00m asyncio.gather(\n\u001b[32m    248\u001b[39m     \u001b[38;5;28mcls\u001b[39m.execute_function_tool_calls(\n\u001b[32m    249\u001b[39m         agent=agent,\n\u001b[32m    250\u001b[39m         tool_runs=processed_response.functions,\n\u001b[32m    251\u001b[39m         hooks=hooks,\n\u001b[32m    252\u001b[39m         context_wrapper=context_wrapper,\n\u001b[32m    253\u001b[39m         config=run_config,\n\u001b[32m    254\u001b[39m     ),\n\u001b[32m    255\u001b[39m     \u001b[38;5;28mcls\u001b[39m.execute_computer_actions(\n\u001b[32m    256\u001b[39m         agent=agent,\n\u001b[32m    257\u001b[39m         actions=processed_response.computer_actions,\n\u001b[32m    258\u001b[39m         hooks=hooks,\n\u001b[32m    259\u001b[39m         context_wrapper=context_wrapper,\n\u001b[32m    260\u001b[39m         config=run_config,\n\u001b[32m    261\u001b[39m     ),\n\u001b[32m    262\u001b[39m )\n\u001b[32m    263\u001b[39m new_step_items.extend([result.run_item \u001b[38;5;28;01mfor\u001b[39;00m result \u001b[38;5;129;01min\u001b[39;00m function_results])\n\u001b[32m    264\u001b[39m new_step_items.extend(computer_results)\n",
      "\u001b[36mFile \u001b[39m\u001b[32m/mnt/Friday/Practise_Code/LLM/agentic_AI/agents_learning/.venv/lib/python3.12/site-packages/agents/_run_impl.py:583\u001b[39m, in \u001b[36mRunImpl.execute_function_tool_calls\u001b[39m\u001b[34m(cls, agent, tool_runs, hooks, context_wrapper, config)\u001b[39m\n\u001b[32m    580\u001b[39m     function_tool = tool_run.function_tool\n\u001b[32m    581\u001b[39m     tasks.append(run_single_tool(function_tool, tool_run.tool_call))\n\u001b[32m--> \u001b[39m\u001b[32m583\u001b[39m results = \u001b[38;5;28;01mawait\u001b[39;00m asyncio.gather(*tasks)\n\u001b[32m    585\u001b[39m \u001b[38;5;28;01mreturn\u001b[39;00m [\n\u001b[32m    586\u001b[39m     FunctionToolResult(\n\u001b[32m    587\u001b[39m         tool=tool_run.function_tool,\n\u001b[32m   (...)\u001b[39m\u001b[32m    595\u001b[39m     \u001b[38;5;28;01mfor\u001b[39;00m tool_run, result \u001b[38;5;129;01min\u001b[39;00m \u001b[38;5;28mzip\u001b[39m(tool_runs, results)\n\u001b[32m    596\u001b[39m ]\n",
      "\u001b[36mFile \u001b[39m\u001b[32m/mnt/Friday/Practise_Code/LLM/agentic_AI/agents_learning/.venv/lib/python3.12/site-packages/agents/_run_impl.py:571\u001b[39m, in \u001b[36mRunImpl.execute_function_tool_calls.<locals>.run_single_tool\u001b[39m\u001b[34m(func_tool, tool_call)\u001b[39m\n\u001b[32m    564\u001b[39m     _error_tracing.attach_error_to_current_span(\n\u001b[32m    565\u001b[39m         SpanError(\n\u001b[32m    566\u001b[39m             message=\u001b[33m\"\u001b[39m\u001b[33mError running tool\u001b[39m\u001b[33m\"\u001b[39m,\n\u001b[32m    567\u001b[39m             data={\u001b[33m\"\u001b[39m\u001b[33mtool_name\u001b[39m\u001b[33m\"\u001b[39m: func_tool.name, \u001b[33m\"\u001b[39m\u001b[33merror\u001b[39m\u001b[33m\"\u001b[39m: \u001b[38;5;28mstr\u001b[39m(e)},\n\u001b[32m    568\u001b[39m         )\n\u001b[32m    569\u001b[39m     )\n\u001b[32m    570\u001b[39m     \u001b[38;5;28;01mif\u001b[39;00m \u001b[38;5;28misinstance\u001b[39m(e, AgentsException):\n\u001b[32m--> \u001b[39m\u001b[32m571\u001b[39m         \u001b[38;5;28;01mraise\u001b[39;00m e\n\u001b[32m    572\u001b[39m     \u001b[38;5;28;01mraise\u001b[39;00m UserError(\u001b[33mf\u001b[39m\u001b[33m\"\u001b[39m\u001b[33mError running tool \u001b[39m\u001b[38;5;132;01m{\u001b[39;00mfunc_tool.name\u001b[38;5;132;01m}\u001b[39;00m\u001b[33m: \u001b[39m\u001b[38;5;132;01m{\u001b[39;00me\u001b[38;5;132;01m}\u001b[39;00m\u001b[33m\"\u001b[39m) \u001b[38;5;28;01mfrom\u001b[39;00m\u001b[38;5;250m \u001b[39m\u001b[34;01me\u001b[39;00m\n\u001b[32m    574\u001b[39m \u001b[38;5;28;01mif\u001b[39;00m config.trace_include_sensitive_data:\n",
      "\u001b[36mFile \u001b[39m\u001b[32m/mnt/Friday/Practise_Code/LLM/agentic_AI/agents_learning/.venv/lib/python3.12/site-packages/agents/_run_impl.py:545\u001b[39m, in \u001b[36mRunImpl.execute_function_tool_calls.<locals>.run_single_tool\u001b[39m\u001b[34m(func_tool, tool_call)\u001b[39m\n\u001b[32m    543\u001b[39m     span_fn.span_data.input = tool_call.arguments\n\u001b[32m    544\u001b[39m \u001b[38;5;28;01mtry\u001b[39;00m:\n\u001b[32m--> \u001b[39m\u001b[32m545\u001b[39m     _, _, result = \u001b[38;5;28;01mawait\u001b[39;00m asyncio.gather(\n\u001b[32m    546\u001b[39m         hooks.on_tool_start(context_wrapper, agent, func_tool),\n\u001b[32m    547\u001b[39m         (\n\u001b[32m    548\u001b[39m             agent.hooks.on_tool_start(context_wrapper, agent, func_tool)\n\u001b[32m    549\u001b[39m             \u001b[38;5;28;01mif\u001b[39;00m agent.hooks\n\u001b[32m    550\u001b[39m             \u001b[38;5;28;01melse\u001b[39;00m _coro.noop_coroutine()\n\u001b[32m    551\u001b[39m         ),\n\u001b[32m    552\u001b[39m         func_tool.on_invoke_tool(context_wrapper, tool_call.arguments),\n\u001b[32m    553\u001b[39m     )\n\u001b[32m    555\u001b[39m     \u001b[38;5;28;01mawait\u001b[39;00m asyncio.gather(\n\u001b[32m    556\u001b[39m         hooks.on_tool_end(context_wrapper, agent, func_tool, result),\n\u001b[32m    557\u001b[39m         (\n\u001b[32m   (...)\u001b[39m\u001b[32m    561\u001b[39m         ),\n\u001b[32m    562\u001b[39m     )\n\u001b[32m    563\u001b[39m \u001b[38;5;28;01mexcept\u001b[39;00m \u001b[38;5;167;01mException\u001b[39;00m \u001b[38;5;28;01mas\u001b[39;00m e:\n",
      "\u001b[36mFile \u001b[39m\u001b[32m/mnt/Friday/Practise_Code/LLM/agentic_AI/agents_learning/.venv/lib/python3.12/site-packages/agents/mcp/util.py:107\u001b[39m, in \u001b[36mMCPUtil.invoke_mcp_tool\u001b[39m\u001b[34m(cls, server, tool, context, input_json)\u001b[39m\n\u001b[32m    105\u001b[39m \u001b[38;5;28;01mexcept\u001b[39;00m \u001b[38;5;167;01mException\u001b[39;00m \u001b[38;5;28;01mas\u001b[39;00m e:\n\u001b[32m    106\u001b[39m     logger.error(\u001b[33mf\u001b[39m\u001b[33m\"\u001b[39m\u001b[33mError invoking MCP tool \u001b[39m\u001b[38;5;132;01m{\u001b[39;00mtool.name\u001b[38;5;132;01m}\u001b[39;00m\u001b[33m: \u001b[39m\u001b[38;5;132;01m{\u001b[39;00me\u001b[38;5;132;01m}\u001b[39;00m\u001b[33m\"\u001b[39m)\n\u001b[32m--> \u001b[39m\u001b[32m107\u001b[39m     \u001b[38;5;28;01mraise\u001b[39;00m AgentsException(\u001b[33mf\u001b[39m\u001b[33m\"\u001b[39m\u001b[33mError invoking MCP tool \u001b[39m\u001b[38;5;132;01m{\u001b[39;00mtool.name\u001b[38;5;132;01m}\u001b[39;00m\u001b[33m: \u001b[39m\u001b[38;5;132;01m{\u001b[39;00me\u001b[38;5;132;01m}\u001b[39;00m\u001b[33m\"\u001b[39m) \u001b[38;5;28;01mfrom\u001b[39;00m\u001b[38;5;250m \u001b[39m\u001b[34;01me\u001b[39;00m\n\u001b[32m    109\u001b[39m \u001b[38;5;28;01mif\u001b[39;00m _debug.DONT_LOG_TOOL_DATA:\n\u001b[32m    110\u001b[39m     logger.debug(\u001b[33mf\u001b[39m\u001b[33m\"\u001b[39m\u001b[33mMCP tool \u001b[39m\u001b[38;5;132;01m{\u001b[39;00mtool.name\u001b[38;5;132;01m}\u001b[39;00m\u001b[33m completed.\u001b[39m\u001b[33m\"\u001b[39m)\n",
      "\u001b[31mAgentsException\u001b[39m: Error invoking MCP tool browser_install: Timed out while waiting for response to ClientRequest. Waited 5.0 seconds."
     ]
    }
   ],
   "source": [
    "import asyncio\n",
    "#System prompt\n",
    "instructions = \"\"\"\n",
    "You browse the internet to accomplish your instructions.\n",
    "You are highly capable at browsing the internet independently to accomplish your task,\n",
    "including accepting all cookies and clicking 'not now' as\n",
    "appropriate to get to the content you need. If one website isn't fruitful, try another.\n",
    "Be persistent until you have solved your assignment,\n",
    "trying different options and sites as needed.\n",
    "Save the output in markdown format to the file as asked by the user in the directory by using tools.\n",
    "\"\"\"\n",
    "\n",
    "async with MCPServerStdio(params=files_params, cache_tools_list=True) as mcp_server_files:\n",
    "    async with MCPServerStdio(params=playwright_params, cache_tools_list=False) as mcp_server_browser:\n",
    "        agent = Agent(\n",
    "            name=\"investigator\",\n",
    "            instructions=instructions,\n",
    "            model=gemini_model,\n",
    "            mcp_servers=[mcp_server_files, mcp_server_browser]\n",
    "            )\n",
    "        with trace(\"investigate\"):\n",
    "            result = await Runner.run(\n",
    "                agent,\n",
    "                \"Find a great recipe for Banoffee Pie, then summarize it in markdown to banoffee9.md using the tools provided\"\n",
    "                )\n",
    "            print(result.final_output)"
   ]
  },
  {
   "cell_type": "code",
   "execution_count": null,
   "metadata": {},
   "outputs": [],
   "source": []
  }
 ],
 "metadata": {
  "kernelspec": {
   "display_name": ".venv",
   "language": "python",
   "name": "python3"
  },
  "language_info": {
   "codemirror_mode": {
    "name": "ipython",
    "version": 3
   },
   "file_extension": ".py",
   "mimetype": "text/x-python",
   "name": "python",
   "nbconvert_exporter": "python",
   "pygments_lexer": "ipython3",
   "version": "3.12.3"
  }
 },
 "nbformat": 4,
 "nbformat_minor": 2
}
